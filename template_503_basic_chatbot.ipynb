{
 "cells": [
  {
   "cell_type": "markdown",
   "id": "23be82a2",
   "metadata": {},
   "source": [
    "# 기본 Chatbot 만들기"
   ]
  },
  {
   "cell_type": "code",
   "execution_count": null,
   "id": "7610817e",
   "metadata": {},
   "outputs": [],
   "source": [
    "# API-KEY 읽어오기"
   ]
  },
  {
   "cell_type": "code",
   "execution_count": null,
   "id": "ed6dfd92",
   "metadata": {},
   "outputs": [],
   "source": [
    "# 모델 초기화\n",
    "# llm = init_chat_model(\"google_genai:gemini-2.5-flash\")"
   ]
  },
  {
   "cell_type": "markdown",
   "id": "4930b61c-cd0c-4e2d-89e0-7490d3a782b7",
   "metadata": {},
   "source": [
    "### 상태는 워크플로우에서 노드 간 데이터를 전달하는 데 사용\n",
    "\n",
    "```\n",
    "messages: Annotated[list, add_messages]\n",
    "```\n",
    "실제 타입은 list이고, add_messages는 메시지 병합(리듀스) 전략이라는 메타데이터입니다. LangGraph가 이 메타데이터를 읽어 messages를 누적/병합합니다."
   ]
  },
  {
   "cell_type": "code",
   "execution_count": null,
   "id": "dc014c0c",
   "metadata": {},
   "outputs": [],
   "source": [
    "# 에이전트의 상태 정의 클래스\n",
    "class State(TypedDict):\n",
    "    # Annotated: 타입 힌트\n",
    "    # add_messages: 상태 업데이트 시 메시지를 덮어쓰지 않고 추가\n",
    "# 상태 기반 워크플로우 생성"
   ]
  },
  {
   "cell_type": "markdown",
   "id": "f0f6833a",
   "metadata": {},
   "source": [
    "### 노드 추가"
   ]
  },
  {
   "cell_type": "code",
   "execution_count": null,
   "id": "c8e0d58f",
   "metadata": {},
   "outputs": [],
   "source": [
    "# 챗봇 노드 함수\n",
    "def chatbot(state: State):\n",
    "    # LLM의 출력(응답)을 messages 리스트에 추가하여 반환\n",
    "# 워크플로우에 chatbot 노드 추가"
   ]
  },
  {
   "cell_type": "markdown",
   "id": "4abab0d0",
   "metadata": {},
   "source": [
    "### entry point 추가 및 compile"
   ]
  },
  {
   "cell_type": "code",
   "execution_count": null,
   "id": "df0cf385",
   "metadata": {},
   "outputs": [],
   "source": [
    "# 워크플로우의 시작점(START)에서 'chatbot' 노드로 이동하는 엣지 추가\n",
    "# 'chatbot' 노드에서 워크플로우의 종료점(END)로 이동하는 엣지 추가\n",
    "# 워크플로우 컴파일, 실행 가능한 워크플로우 생성"
   ]
  },
  {
   "cell_type": "markdown",
   "id": "b65aa16e",
   "metadata": {},
   "source": [
    "### chatbot 실행\n",
    "  \n",
    "| 구분                                   | 실행 시점            | 반환 시점                       | 반환 내용                     | 사용 목적                         |\n",
    "| ------------------------------------ | ---------------- | --------------------------- | ------------------------- | ----------------------------- |\n",
    "| `invoke()`                           | 전체 그래프 한 번 실행    | **모든 노드가 끝난 뒤 한 번만 반환**     | 최종 state (모든 messages 포함) | 결과만 필요할 때                     |\n",
    "| `stream(..., stream_mode=\"updates\")` | 그래프 각 노드 실행마다 반환 | **각 노드 종료 시마다 변경된 부분만 반환**  | 추가된 messages, 변경분(delta)  | 실시간 업데이트/로그용 (가장 효율적)         |\n",
    "| `stream(..., stream_mode=\"values\")`  | 그래프 각 노드 실행마다 반환 | **각 노드 종료 시마다 전체 state 반환** | 누적된 전체 messages           | 단계별 전체 흐름 보기 (values 기반 스트리밍) |"
   ]
  },
  {
   "cell_type": "code",
   "execution_count": null,
   "id": "ef2fa8a7",
   "metadata": {},
   "outputs": [],
   "source": [
    "# 그래프를 invoke 모드로 실행"
   ]
  },
  {
   "cell_type": "code",
   "execution_count": null,
   "id": "b9377bf6",
   "metadata": {},
   "outputs": [],
   "source": [
    "# 그래프를 스트리밍 모드로 실행"
   ]
  },
  {
   "cell_type": "code",
   "execution_count": null,
   "id": "0e430817",
   "metadata": {},
   "outputs": [],
   "source": [
    "# 그래프를 스트리밍 모드로 실행"
   ]
  },
  {
   "cell_type": "code",
   "execution_count": null,
   "id": "ce63a574",
   "metadata": {},
   "outputs": [],
   "source": [
    "def stream_graph_updates(user_input: str):\n",
    "    # 그래프를 스트리밍 모드로 실행\n",
    "            # 최신 메시지(마지막 메시지)의 내용을 출력"
   ]
  },
  {
   "cell_type": "markdown",
   "id": "6850d951-b246-4dcb-854d-66f694647ec3",
   "metadata": {},
   "source": [
    "### MemorySaver checkpointer 생성"
   ]
  },
  {
   "cell_type": "code",
   "execution_count": null,
   "id": "2857bafb",
   "metadata": {},
   "outputs": [],
   "source": [
    "# MemorySaver: 워크플로우의 상태를 메모리에 저장"
   ]
  },
  {
   "cell_type": "code",
   "execution_count": null,
   "id": "bcc617c2",
   "metadata": {},
   "outputs": [],
   "source": [
    "# 에이전트의 상태 정의 클래스\n",
    "class State(TypedDict):\n",
    "# 상태 기반 워크플로우 생성\n",
    "# 웹 검색을 도구 리스트에 추가\n",
    "# LLM에 도구를 바인딩하여 도구 호출 가능하게 설정\n",
    "# chatbot 노드 함수\n",
    "def chatbot(state: State):\n",
    "# 워크플로우에 chatbot 노드 추가\n",
    "# LangGraph의 prebuilt ToolNode를 사용\n",
    "# tool 노드 워크플로우에 추가\n",
    "# 조건부 라우팅: tools로 이동하거나 END로 이동 (종료)\n",
    "# tools 노드 실행 후 chatbot 노드로 다시 이동 (도구 결과 처리)\n",
    "# 워크플로우 시작점에서 chatbot 노드로 이동\n",
    "# memory checkpointer 사용 compile"
   ]
  },
  {
   "cell_type": "code",
   "execution_count": null,
   "id": "a469c39f",
   "metadata": {},
   "outputs": [],
   "source": [
    "# 그래프를 ASCII 아트로 출력"
   ]
  },
  {
   "cell_type": "code",
   "execution_count": null,
   "id": "577661ea",
   "metadata": {},
   "outputs": [],
   "source": [
    "# 대화 세션을 구분하기 위한 설정\n",
    "# thread_id는 대화의 고유 식별자로, MemorySaver가 대화 기록을 저장/로드하는 데 사용\n",
    "def stream_graph_updates(user_input: str):\n",
    "    # 워크플로우를 스트리밍 모드로 실행 (사용자 입력 처리)\n",
    "            # 이벤트의 마지막 메시지 출력\n",
    "        # 워크플로우 실행"
   ]
  },
  {
   "cell_type": "code",
   "execution_count": null,
   "id": "2bee1deb",
   "metadata": {},
   "outputs": [],
   "source": [
    "# 새로운 thread_id 사용 (새로운 대화 세션)\n",
    "def stream_graph_updates(user_input: str):\n",
    "    # 워크플로우를 스트리밍 모드로 실행 (사용자 입력 처리)\n",
    "        # 워크플로우 실행"
   ]
  },
  {
   "cell_type": "markdown",
   "id": "a3afb1d4-2121-46cd-b365-c5e6416999e4",
   "metadata": {},
   "source": [
    "### state 검사"
   ]
  },
  {
   "cell_type": "code",
   "execution_count": null,
   "id": "deefd4ff",
   "metadata": {},
   "outputs": [],
   "source": [
    "# thread_id: 1\n",
    "# config에 해당하는 워크플로우의 상태 스냅샷 조회"
   ]
  },
  {
   "cell_type": "code",
   "execution_count": null,
   "id": "a821a61c",
   "metadata": {},
   "outputs": [],
   "source": [
    "# thread_id: 2\n",
    "# config에 해당하는 워크플로우의 상태 스냅샷 조회"
   ]
  },
  {
   "cell_type": "code",
   "execution_count": null,
   "id": "b937edf2",
   "metadata": {},
   "outputs": [],
   "source": []
  }
 ],
 "metadata": {
  "kernelspec": {
   "display_name": "Python 3 (ipykernel)",
   "language": "python",
   "name": "python3"
  },
  "language_info": {
   "codemirror_mode": {
    "name": "ipython",
    "version": 3
   },
   "file_extension": ".py",
   "mimetype": "text/x-python",
   "name": "python",
   "nbconvert_exporter": "python",
   "pygments_lexer": "ipython3",
   "version": "3.11.13"
  }
 },
 "nbformat": 4,
 "nbformat_minor": 5
}
