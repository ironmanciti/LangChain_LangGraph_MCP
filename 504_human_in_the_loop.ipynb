{
 "cells": [
  {
   "cell_type": "markdown",
   "id": "ea23fa32",
   "metadata": {},
   "source": [
    "# 관리자 결제 승인 시나리오 (Admin Payment Approval Scenario)\n",
    "\n",
    "## 시나리오 요약\n",
    "\n",
    "이 노트북은 다음과 같은 관리자 결제 승인 시나리오를 구현합니다:\n",
    "\n",
    "1. **결제 요청**: 사용자가 특정 금액과 목적에 대해 결제 승인을 요청\n",
    "2. **워크플로우 일시정지**: `interrupt`를 통해 관리자의 응답을 기다림\n",
    "3. **관리자 응답**: 승인 또는 거부 결정\n",
    "4. **워크플로우 재개**: 관리자의 응답에 따라 프로세스 계속 진행\n",
    "\n",
    "### 주요 특징:\n",
    "- **비동기 처리**: 결제 승인 대기 중에도 다른 작업 가능\n",
    "- **상태 관리**: 각 결제 요청을 별도의 스레드로 관리\n",
    "- **유연한 응답**: 승인/거부 모두 처리 가능\n",
    "- **확장성**: 다양한 결제 시나리오에 적용 가능"
   ]
  },
  {
   "cell_type": "code",
   "execution_count": 1,
   "id": "34fb71eb",
   "metadata": {},
   "outputs": [
    {
     "data": {
      "text/plain": [
       "True"
      ]
     },
     "execution_count": 1,
     "metadata": {},
     "output_type": "execute_result"
    }
   ],
   "source": [
    "from dotenv import load_dotenv\n",
    "\n",
    "# API-KEY 읽어오기\n",
    "load_dotenv()"
   ]
  },
  {
   "cell_type": "code",
   "execution_count": 2,
   "id": "897cb057",
   "metadata": {},
   "outputs": [],
   "source": [
    "from langchain.chat_models import init_chat_model\n",
    "\n",
    "# 모델 초기화\n",
    "llm = init_chat_model(\"openai:gpt-5-nano\")\n",
    "# llm = init_chat_model(\"google_genai:gemini-2.5-flash\")"
   ]
  },
  {
   "cell_type": "markdown",
   "id": "5f02fb85",
   "metadata": {},
   "source": [
    "### 결제 승인 요청 도구 추가"
   ]
  },
  {
   "cell_type": "code",
   "execution_count": 4,
   "id": "8ebaef50",
   "metadata": {},
   "outputs": [],
   "source": [
    "from typing import Annotated\n",
    "\n",
    "from langchain_tavily import TavilySearch\n",
    "from langchain_core.tools import tool\n",
    "from typing_extensions import TypedDict\n",
    "\n",
    "from langgraph.checkpoint.memory import MemorySaver\n",
    "from langgraph.graph import StateGraph, START, END\n",
    "from langgraph.graph.message import add_messages\n",
    "from langgraph.prebuilt import ToolNode, tools_condition\n",
    "\n",
    "from langgraph.types import Command, interrupt\n",
    "\n",
    "# 에이전트의 상태 정의 클래스\n",
    "class State(TypedDict):\n",
    "    messages: Annotated[list, add_messages]\n",
    "\n",
    "# 상태 기반 워크플로우 생성\n",
    "graph_builder = StateGraph(State)\n",
    "\n",
    "# 결제 승인 요청 도구\n",
    "@tool\n",
    "def request_payment_approval(amount: float, description: str, requester: str) -> str:\n",
    "    \"\"\"특정 금액과 목적에 대해 관리자에게 결제 승인을 요청합니다.\"\"\"\n",
    "    # interrupt: 워크플로우를 일시 중지하고 관리자의 결제 승인을 기다림\n",
    "    admin_response = interrupt({\n",
    "        \"type\": \"payment_approval\",\n",
    "        \"amount\": amount,\n",
    "        \"description\": description,\n",
    "        \"requester\": requester\n",
    "    })\n",
    "    # 관리자의 응답에서 data 반환\n",
    "    return admin_response[\"data\"]\n",
    "\n",
    "# 웹 검색 도구\n",
    "tool = TavilySearch(max_results=2)\n",
    "# 도구 리스트에 결제 승인 요청 도구 추가\n",
    "tools = [tool, request_payment_approval]\n",
    "\n",
    "# LLM이 도구 호출 여부 판단\n",
    "llm_with_tools = llm.bind_tools(tools)\n",
    "\n",
    "# chatbot 노드 함수\n",
    "def chatbot(state: State):\n",
    "    message = llm_with_tools.invoke(state[\"messages\"])\n",
    "    # 병렬 도구 호출 비활성화: 인터럽트 후 툴 중복 호출 방지\n",
    "    assert len(message.tool_calls) <= 1\n",
    "    return {\"messages\": [message]}\n",
    "\n",
    "# 워크플로우에 chatbot 노드 추가\n",
    "graph_builder.add_node(\"chatbot\", chatbot)\n",
    "\n",
    "# tool 노드 워크플로우에 추가\n",
    "tool_node = ToolNode(tools=tools)\n",
    "graph_builder.add_node(\"tools\", tool_node)\n",
    "\n",
    "# 조건부 라우팅: tools로 이동하거나 END로 이동 (종료)\n",
    "graph_builder.add_conditional_edges(\n",
    "    \"chatbot\",\n",
    "    tools_condition,\n",
    ")\n",
    "\n",
    "# tools 노드 실행 후 chatbot 노드로 다시 이동 (도구 결과 처리)\n",
    "graph_builder.add_edge(\"tools\", \"chatbot\")\n",
    "\n",
    "# 워크플로우 시작점에서 chatbot 노드로 이동\n",
    "graph_builder.add_edge(START, \"chatbot\")\n",
    "\n",
    "memory = MemorySaver()\n",
    "\n",
    "graph = graph_builder.compile(checkpointer=memory)\n",
    "graph;"
   ]
  },
  {
   "cell_type": "code",
   "execution_count": 5,
   "id": "3ea7222f-8aaf-449d-8dac-f6c5c3f3081b",
   "metadata": {},
   "outputs": [
    {
     "name": "stdout",
     "output_type": "stream",
     "text": [
      "        +-----------+         \n",
      "        | __start__ |         \n",
      "        +-----------+         \n",
      "               *              \n",
      "               *              \n",
      "               *              \n",
      "          +---------+         \n",
      "          | chatbot |         \n",
      "          +---------+         \n",
      "          .         *         \n",
      "        ..           **       \n",
      "       .               *      \n",
      "+---------+         +-------+ \n",
      "| __end__ |         | tools | \n",
      "+---------+         +-------+ \n"
     ]
    }
   ],
   "source": [
    "# 그래프를 ASCII 아트로 출력\n",
    "print(graph.get_graph().draw_ascii())"
   ]
  },
  {
   "cell_type": "markdown",
   "id": "69c066e4",
   "metadata": {},
   "source": [
    "### 결제 승인 요청 시나리오"
   ]
  },
  {
   "cell_type": "code",
   "execution_count": 6,
   "id": "e5f41c99",
   "metadata": {},
   "outputs": [
    {
     "name": "stdout",
     "output_type": "stream",
     "text": [
      "================================\u001b[1m Human Message \u001b[0m=================================\n",
      "\n",
      "마케팅 캠페인을 위해 100만원이 필요해. 홍길동 부장의 결제 승인을 요청해줘.다른 추가 메모는 없으니 묻지 말고 그냥 승인 요청해.\n",
      "==================================\u001b[1m Ai Message \u001b[0m==================================\n",
      "Tool Calls:\n",
      "  request_payment_approval (call_IM0PSdCSLqVMCTcMoTdLEQVJ)\n",
      " Call ID: call_IM0PSdCSLqVMCTcMoTdLEQVJ\n",
      "  Args:\n",
      "    amount: 1000000\n",
      "    description: 마케팅 캠페인 비용 승인 요청\n",
      "    requester: 홍길동 부장\n"
     ]
    }
   ],
   "source": [
    "# 결제 시나리오 실행\n",
    "user_input = (\n",
    "    \"마케팅 캠페인을 위해 100만원이 필요해. \"\n",
    "    \"홍길동 부장의 결제 승인을 요청해줘.\"\n",
    "    \"다른 추가 메모는 없으니 묻지 말고 그냥 승인 요청해.\"\n",
    ")\n",
    "# 새로운 대화 세션 설정\n",
    "config = {\"configurable\": {\"thread_id\": \"payment_approval_1\"}}\n",
    "\n",
    "# 워크플로우를 스트리밍 모드로 실행\n",
    "events = graph.stream(\n",
    "    {\"messages\": [{\"role\": \"user\", \"content\": user_input}]},\n",
    "    config=config,\n",
    "    stream_mode=\"values\",\n",
    ")\n",
    "# 각 event의 마지막 메시지 출력\n",
    "for event in events:\n",
    "    if \"messages\" in event:\n",
    "        event[\"messages\"][-1].pretty_print()"
   ]
  },
  {
   "cell_type": "markdown",
   "id": "a209e4f0-618f-46da-b1cf-76c5e9a91cae",
   "metadata": {},
   "source": [
    "----------------\n",
    "```\n",
    "Command(resume={\"data\": admin_approval_response})\n",
    "```\n",
    "LangGraph에서는 어떤 노드가 외부 입력(예: 관리자 승인, 유저 추가 입력)을 기다리면서 멈출 수 있는데,\n",
    "이 때 외부에서 응답이 들어오면 Command(resume=...)을 보내서 그래프를 다시 돌립니다."
   ]
  },
  {
   "cell_type": "code",
   "execution_count": 7,
   "id": "8c968f73",
   "metadata": {},
   "outputs": [
    {
     "name": "stdout",
     "output_type": "stream",
     "text": [
      "==================================\u001b[1m Ai Message \u001b[0m==================================\n",
      "Tool Calls:\n",
      "  request_payment_approval (call_IM0PSdCSLqVMCTcMoTdLEQVJ)\n",
      " Call ID: call_IM0PSdCSLqVMCTcMoTdLEQVJ\n",
      "  Args:\n",
      "    amount: 1000000\n",
      "    description: 마케팅 캠페인 비용 승인 요청\n",
      "    requester: 홍길동 부장\n",
      "=================================\u001b[1m Tool Message \u001b[0m=================================\n",
      "Name: request_payment_approval\n",
      "\n",
      "결제 요청이 승인 되었습니다.\n",
      "==================================\u001b[1m Ai Message \u001b[0m==================================\n",
      "\n",
      "요청하신 1,000,000원 마케팅 캠페인 비용에 대한 결재가 승인되었습니다. 관련 지출 처리 및 회계 반영을 진행하겠습니다.\n"
     ]
    }
   ],
   "source": [
    "admin_approval_response = (\n",
    "    \"결제 요청이 승인 되었습니다.\"\n",
    ")\n",
    "\n",
    "# admin_approval_response = (\n",
    "#     \"결제 요청이 거절 되었습니다.\"\n",
    "# )\n",
    "\n",
    "# Command 객체의 resume에 관리자 승인/거부 응답 저장\n",
    "admin_command = Command(resume={\"data\": admin_approval_response})\n",
    "\n",
    "events = graph.stream(\n",
    "    admin_command,\n",
    "    config,\n",
    "    stream_mode=\"values\",\n",
    ")\n",
    "# 각 event의 마지막 메시지 출력\n",
    "for event in events:\n",
    "    if \"messages\" in event:\n",
    "        event[\"messages\"][-1].pretty_print()"
   ]
  },
  {
   "cell_type": "markdown",
   "id": "7788725d",
   "metadata": {},
   "source": []
  }
 ],
 "metadata": {
  "kernelspec": {
   "display_name": "Python 3 (ipykernel)",
   "language": "python",
   "name": "python3"
  },
  "language_info": {
   "codemirror_mode": {
    "name": "ipython",
    "version": 3
   },
   "file_extension": ".py",
   "mimetype": "text/x-python",
   "name": "python",
   "nbconvert_exporter": "python",
   "pygments_lexer": "ipython3",
   "version": "3.11.13"
  }
 },
 "nbformat": 4,
 "nbformat_minor": 5
}
