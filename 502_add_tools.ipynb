{
 "cells": [
  {
   "cell_type": "markdown",
   "id": "658024d6",
   "metadata": {},
   "source": [
    "# Agent에 도구 추가"
   ]
  },
  {
   "cell_type": "code",
   "execution_count": 1,
   "id": "84826b68",
   "metadata": {},
   "outputs": [
    {
     "data": {
      "text/plain": [
       "True"
      ]
     },
     "execution_count": 1,
     "metadata": {},
     "output_type": "execute_result"
    }
   ],
   "source": [
    "from dotenv import load_dotenv\n",
    "\n",
    "# API-KEY 읽어오기\n",
    "load_dotenv()"
   ]
  },
  {
   "cell_type": "code",
   "execution_count": 2,
   "id": "c6a83e79",
   "metadata": {},
   "outputs": [],
   "source": [
    "from langchain.chat_models import init_chat_model\n",
    "\n",
    "model = init_chat_model(\"gpt-5-nano\", model_provider=\"openai\")\n",
    "# model = init_chat_model(\"gemini-2.5-flash\", model_provider=\"google_genai\")"
   ]
  },
  {
   "cell_type": "markdown",
   "id": "b0dbcd2f",
   "metadata": {},
   "source": [
    "### 도구 정의"
   ]
  },
  {
   "cell_type": "code",
   "execution_count": 3,
   "id": "996e9666-dcf1-4071-9988-cb12b527d097",
   "metadata": {},
   "outputs": [],
   "source": [
    "# pip install langchain-tavily"
   ]
  },
  {
   "cell_type": "code",
   "execution_count": 4,
   "id": "990b280f",
   "metadata": {},
   "outputs": [
    {
     "name": "stdout",
     "output_type": "stream",
     "text": [
      "{'query': \"LangGraph에서 '노드(node)'란 무엇인가요?\", 'follow_up_questions': None, 'answer': None, 'images': [], 'results': [{'url': 'https://blog.naver.com/pjt3591oo/223861729229?viewType=pc', 'title': 'langgraph 소개 및 기본개념 : 네이버 블로그', 'content': '노드는 그래프에서 실제 작업을 수행하는 단위입니다. 각 노드는 특정 로직을 담당합니다. 작업은 LLM 호출, 데이터베이스 조회, 계산, 도구 등을 의미합니다.', 'score': 0.84767824, 'raw_content': None}, {'url': 'https://medium.com/@yoony1007/랭체인-코리아-밋업-2024-q2-테디노트-초보자도-할-수-있는-고급-rag-다중-에이전트와-langgraph-제작-e8bec8adfef4', 'title': '초보자도 할 수 있는 고급 RAG: 다중 에이전트와 LangGraph ...', 'content': 'LangGraph 제안. ✓ 각세부과정을 노드(Node)라고 정의. RAG의 8단계를 노드로 패키징. ✓ 이전 노드 > 다음 노드: 엣지(Edge) 연결. 엣지는 방향성 갖고', 'score': 0.8124067, 'raw_content': None}], 'response_time': 0.91, 'request_id': '7f876801-4ba7-4ecd-a1aa-525d757c4770'}\n",
      "\n",
      "200\n"
     ]
    }
   ],
   "source": [
    "from langchain_tavily import TavilySearch\n",
    "from langchain_core.tools import tool\n",
    "\n",
    "@tool\n",
    "def multiply(a: int, b: int) -> int:\n",
    "    \"\"\"a와 b를 곱합니다.\n",
    "    Args:\n",
    "        a: 첫 번째 정수\n",
    "        b: 두 번째 정수\n",
    "    \"\"\"\n",
    "    return a * b\n",
    "\n",
    "# 웹 검색을 도구\n",
    "tavily = TavilySearch(max_results=2)\n",
    "# 도구 리스트\n",
    "tools = [tavily, multiply]\n",
    "\n",
    "# 도구 테스트\n",
    "print(tavily.invoke(\"LangGraph에서 '노드(node)'란 무엇인가요?\"))\n",
    "print()\n",
    "# 도구 테스트\n",
    "print(multiply.invoke({\"a\": 10, \"b\": 20}))"
   ]
  },
  {
   "cell_type": "code",
   "execution_count": 5,
   "id": "22c864a5",
   "metadata": {
    "scrolled": true
   },
   "outputs": [
    {
     "name": "stdout",
     "output_type": "stream",
     "text": [
      "**** 도구 이름 ****\n",
      "tavily_search\n",
      "\n",
      "**** 도구 설명 ****\n",
      "A search engine optimized for comprehensive, accurate, and trusted results. Useful for when you need to answer questions about current events. It not only retrieves URLs and snippets, but offers advanced search depths, domain management, time range filters, and image search, this tool delivers real-time, accurate, and citation-backed results.Input should be a search query.\n",
      "\n",
      "**** 도구 인자 ****\n",
      "{\n",
      "  \"description\": \"Input for [TavilySearch]\",\n",
      "  \"properties\": {\n",
      "    \"query\": {\n",
      "      \"description\": \"Search query to look up\",\n",
      "      \"title\": \"Query\",\n",
      "      \"type\": \"string\"\n",
      "    },\n",
      "    \"include_domains\": {\n",
      "      \"anyOf\": [\n",
      "        {\n",
      "          \"items\": {\n",
      "            \"type\": \"string\"\n",
      "          },\n",
      "          \"type\": \"array\"\n",
      "        },\n",
      "        {\n",
      "          \"type\": \"null\"\n",
      "        }\n",
      "      ],\n",
      "      \"default\": [],\n",
      "      \"description\": \"A list of domains to restrict search results to.\\n\\n        Use this parameter when:\\n        1. The user explicitly requests information from specific websites (e.g., \\\"Find climate data from nasa.gov\\\")\\n        2. The user mentions an organization or company without specifying the domain (e.g., \\\"Find information about iPhones from Apple\\\")\\n\\n        In both cases, you should determine the appropriate domains (e.g., [\\\"nasa.gov\\\"] or [\\\"apple.com\\\"]) and set this parameter.\\n\\n        Results will ONLY come from the specified domains - no other sources will be included.\\n        Default is None (no domain restriction).\\n        \",\n",
      "      \"title\": \"Include Domains\"\n",
      "    },\n",
      "    \"exclude_domains\": {\n",
      "      \"anyOf\": [\n",
      "        {\n",
      "          \"items\": {\n",
      "            \"type\": \"string\"\n",
      "          },\n",
      "          \"type\": \"array\"\n",
      "        },\n",
      "        {\n",
      "          \"type\": \"null\"\n",
      "        }\n",
      "      ],\n",
      "      \"default\": [],\n",
      "      \"description\": \"A list of domains to exclude from search results.\\n\\n        Use this parameter when:\\n        1. The user explicitly requests to avoid certain websites (e.g., \\\"Find information about climate change but not from twitter.com\\\")\\n        2. The user mentions not wanting results from specific organizations without naming the domain (e.g., \\\"Find phone reviews but nothing from Apple\\\")\\n\\n        In both cases, you should determine the appropriate domains to exclude (e.g., [\\\"twitter.com\\\"] or [\\\"apple.com\\\"]) and set this parameter.\\n\\n        Results will filter out all content from the specified domains.\\n        Default is None (no domain exclusion).\\n        \",\n",
      "      \"title\": \"Exclude Domains\"\n",
      "    },\n",
      "    \"search_depth\": {\n",
      "      \"anyOf\": [\n",
      "        {\n",
      "          \"enum\": [\n",
      "            \"basic\",\n",
      "            \"advanced\"\n",
      "          ],\n",
      "          \"type\": \"string\"\n",
      "        },\n",
      "        {\n",
      "          \"type\": \"null\"\n",
      "        }\n",
      "      ],\n",
      "      \"default\": \"basic\",\n",
      "      \"description\": \"Controls search thoroughness and result comprehensiveness.\\n    \\n        Use \\\"basic\\\" for simple queries requiring quick, straightforward answers.\\n        \\n        Use \\\"advanced\\\" (default) for complex queries, specialized topics, \\n        rare information, or when in-depth analysis is needed.\\n        \",\n",
      "      \"title\": \"Search Depth\"\n",
      "    },\n",
      "    \"include_images\": {\n",
      "      \"anyOf\": [\n",
      "        {\n",
      "          \"type\": \"boolean\"\n",
      "        },\n",
      "        {\n",
      "          \"type\": \"null\"\n",
      "        }\n",
      "      ],\n",
      "      \"default\": false,\n",
      "      \"description\": \"Determines if the search returns relevant images along with text results.\\n   \\n        Set to True when the user explicitly requests visuals or when images would \\n        significantly enhance understanding (e.g., \\\"Show me what black holes look like,\\\" \\n        \\\"Find pictures of Renaissance art\\\").\\n        \\n        Leave as False (default) for most informational queries where text is sufficient.\\n        \",\n",
      "      \"title\": \"Include Images\"\n",
      "    },\n",
      "    \"time_range\": {\n",
      "      \"anyOf\": [\n",
      "        {\n",
      "          \"enum\": [\n",
      "            \"day\",\n",
      "            \"week\",\n",
      "            \"month\",\n",
      "            \"year\"\n",
      "          ],\n",
      "          \"type\": \"string\"\n",
      "        },\n",
      "        {\n",
      "          \"type\": \"null\"\n",
      "        }\n",
      "      ],\n",
      "      \"default\": null,\n",
      "      \"description\": \"Limits results to content published within a specific timeframe.\\n        \\n        ONLY set this when the user explicitly mentions a time period \\n        (e.g., \\\"latest AI news,\\\" \\\"articles from last week\\\").\\n        \\n        For less popular or niche topics, use broader time ranges \\n        (\\\"month\\\" or \\\"year\\\") to ensure sufficient relevant results.\\n   \\n        Options: \\\"day\\\" (24h), \\\"week\\\" (7d), \\\"month\\\" (30d), \\\"year\\\" (365d).\\n        \\n        Default is None.\\n        \",\n",
      "      \"title\": \"Time Range\"\n",
      "    },\n",
      "    \"topic\": {\n",
      "      \"anyOf\": [\n",
      "        {\n",
      "          \"enum\": [\n",
      "            \"general\",\n",
      "            \"news\",\n",
      "            \"finance\"\n",
      "          ],\n",
      "          \"type\": \"string\"\n",
      "        },\n",
      "        {\n",
      "          \"type\": \"null\"\n",
      "        }\n",
      "      ],\n",
      "      \"default\": \"general\",\n",
      "      \"description\": \"Specifies search category for optimized results.\\n   \\n        Use \\\"general\\\" (default) for most queries, INCLUDING those with terms like \\n        \\\"latest,\\\" \\\"newest,\\\" or \\\"recent\\\" when referring to general information.\\n\\n        Use \\\"finance\\\" for markets, investments, economic data, or financial news.\\n\\n        Use \\\"news\\\" ONLY for politics, sports, or major current events covered by \\n        mainstream media - NOT simply because a query asks for \\\"new\\\" information.\\n        \",\n",
      "      \"title\": \"Topic\"\n",
      "    },\n",
      "    \"include_favicon\": {\n",
      "      \"anyOf\": [\n",
      "        {\n",
      "          \"type\": \"boolean\"\n",
      "        },\n",
      "        {\n",
      "          \"type\": \"null\"\n",
      "        }\n",
      "      ],\n",
      "      \"default\": false,\n",
      "      \"description\": \"Determines whether to include favicon URLs for each search result.\\n        \\n        When enabled, each search result will include the website's favicon URL,\\n        which can be useful for:\\n        - Building rich UI interfaces with visual website indicators\\n        - Providing visual cues about the source's credibility or brand\\n        - Creating bookmark-like displays with recognizable site icons\\n        \\n        Set to True when creating user interfaces that benefit from visual branding\\n        or when favicon information enhances the user experience.\\n        \\n        Default is False to minimize response size and API usage.\\n        \",\n",
      "      \"title\": \"Include Favicon\"\n",
      "    },\n",
      "    \"start_date\": {\n",
      "      \"anyOf\": [\n",
      "        {\n",
      "          \"type\": \"string\"\n",
      "        },\n",
      "        {\n",
      "          \"type\": \"null\"\n",
      "        }\n",
      "      ],\n",
      "      \"default\": null,\n",
      "      \"description\": \"Filters search results to include only content published on or after this date.\\n        \\n        Use this parameter when you need to:\\n        - Find recent developments or updates on a topic\\n        - Exclude outdated information from search results\\n        - Focus on content within a specific timeframe\\n        - Combine with end_date to create a custom date range\\n        \\n        Format must be YYYY-MM-DD (e.g., \\\"2024-01-15\\\" for January 15, 2024).\\n        \\n        Examples:\\n        - \\\"2024-01-01\\\" - Results from January 1, 2024 onwards\\n        - \\\"2023-12-25\\\" - Results from December 25, 2023 onwards\\n        \\n        When combined with end_date, creates a precise date range filter.\\n        \\n        Default is None (no start date restriction).\\n        \",\n",
      "      \"title\": \"Start Date\"\n",
      "    },\n",
      "    \"end_date\": {\n",
      "      \"anyOf\": [\n",
      "        {\n",
      "          \"type\": \"string\"\n",
      "        },\n",
      "        {\n",
      "          \"type\": \"null\"\n",
      "        }\n",
      "      ],\n",
      "      \"default\": null,\n",
      "      \"description\": \"Filters search results to include only content published on or before this date.\\n        \\n        Use this parameter when you need to:\\n        - Exclude content published after a certain date\\n        - Study historical information or past events\\n        - Research how topics were covered during specific time periods\\n        - Combine with start_date to create a custom date range\\n        \\n        Format must be YYYY-MM-DD (e.g., \\\"2024-03-31\\\" for March 31, 2024).\\n        \\n        Examples:\\n        - \\\"2024-03-31\\\" - Results up to and including March 31, 2024\\n        - \\\"2023-12-31\\\" - Results up to and including December 31, 2023\\n        \\n        When combined with start_date, creates a precise date range filter.\\n        For example: start_date=\\\"2024-01-01\\\", end_date=\\\"2024-03-31\\\" \\n        returns results from Q1 2024 only.\\n        \\n        Default is None (no end date restriction).\\n        \",\n",
      "      \"title\": \"End Date\"\n",
      "    }\n",
      "  },\n",
      "  \"required\": [\n",
      "    \"query\"\n",
      "  ],\n",
      "  \"title\": \"TavilySearchInput\",\n",
      "  \"type\": \"object\"\n",
      "}\n",
      "**** 도구 이름 ****\n",
      "multiply\n",
      "\n",
      "**** 도구 설명 ****\n",
      "a와 b를 곱합니다.\n",
      "    Args:\n",
      "        a: 첫 번째 정수\n",
      "        b: 두 번째 정수\n",
      "\n",
      "**** 도구 인자 ****\n",
      "{\n",
      "  \"description\": \"a\\uc640 b\\ub97c \\uacf1\\ud569\\ub2c8\\ub2e4.\\nArgs:\\n    a: \\uccab \\ubc88\\uc9f8 \\uc815\\uc218\\n    b: \\ub450 \\ubc88\\uc9f8 \\uc815\\uc218\",\n",
      "  \"properties\": {\n",
      "    \"a\": {\n",
      "      \"title\": \"A\",\n",
      "      \"type\": \"integer\"\n",
      "    },\n",
      "    \"b\": {\n",
      "      \"title\": \"B\",\n",
      "      \"type\": \"integer\"\n",
      "    }\n",
      "  },\n",
      "  \"required\": [\n",
      "    \"a\",\n",
      "    \"b\"\n",
      "  ],\n",
      "  \"title\": \"multiply\",\n",
      "  \"type\": \"object\"\n",
      "}\n"
     ]
    }
   ],
   "source": [
    "import json\n",
    "\n",
    "# LLM에 입력 되는 값 확인\n",
    "for i in range(len(tools)):\n",
    "    print(\"**** 도구 이름 ****\")\n",
    "    print(tools[i].name)\n",
    "    print()\n",
    "    print(\"**** 도구 설명 ****\")\n",
    "    print(tools[i].description)\n",
    "    print()\n",
    "    print(\"**** 도구 인자 ****\")\n",
    "    print(json.dumps(tools[i].args_schema.model_json_schema(), indent=2))"
   ]
  },
  {
   "cell_type": "markdown",
   "id": "ce89e0a3",
   "metadata": {},
   "source": [
    "## ReAct Agent를 수동으로 구현\n",
    "\n",
    "- `create_react_agent`를 사용하지 않고 수동 구현\n",
    "\n",
    "```\n",
    "chatbot (LLM 추론) → route_tools (판단) → tools (도구 실행) → chatbot (결과 처리)\n",
    "                   ↘ END (완료)\n",
    "```\n",
    "\n",
    "각 단계를 더 정교하게 제어하고 커스터마이징할 수 있다."
   ]
  },
  {
   "cell_type": "code",
   "execution_count": 6,
   "id": "7b8e5177",
   "metadata": {},
   "outputs": [
    {
     "data": {
      "text/plain": [
       "<langgraph.graph.state.StateGraph at 0x108bf8550>"
      ]
     },
     "execution_count": 6,
     "metadata": {},
     "output_type": "execute_result"
    }
   ],
   "source": [
    "from typing import Annotated\n",
    "from typing_extensions import TypedDict\n",
    "\n",
    "from langgraph.graph import StateGraph, START, END\n",
    "from langgraph.graph.message import add_messages\n",
    "\n",
    "# 에이전트의 상태 정의 클래스\n",
    "class State(TypedDict):\n",
    "    messages: Annotated[list, add_messages]\n",
    "\n",
    "# 상태 기반 워크플로우 생성\n",
    "graph_builder = StateGraph(State)\n",
    "\n",
    "# LLM이 도구 호출 여부 판단\n",
    "llm_with_tools = model.bind_tools(tools)\n",
    "\n",
    "# chatbot 노드 함수\n",
    "def chatbot(state: State):\n",
    "    return {\"messages\": [llm_with_tools.invoke(state[\"messages\"])]}\n",
    "\n",
    "# 워크플로우에 chatbot 노드 추가\n",
    "graph_builder.add_node(\"chatbot\", chatbot)\n",
    "graph_builder"
   ]
  },
  {
   "cell_type": "markdown",
   "id": "ade87c0d",
   "metadata": {},
   "source": [
    "### 도구 실행 함수 생성\n",
    "\n",
    "#### ToolMessage\n",
    "- LangGraph에서 도구(tool) 실행 결과를 표현하기 위한 특별한 메시지 객체.  \n",
    "- 일반 AIMessage나 HumanMessage처럼 대화의 한 턴을 나타내지만, 특히 “이건 도구 실행의 결과다”라는 것을 그래프 런타임에 알려주는 역할."
   ]
  },
  {
   "cell_type": "code",
   "execution_count": 7,
   "id": "c2286700",
   "metadata": {},
   "outputs": [
    {
     "data": {
      "text/plain": [
       "<langgraph.graph.state.StateGraph at 0x108bf8550>"
      ]
     },
     "execution_count": 7,
     "metadata": {},
     "output_type": "execute_result"
    }
   ],
   "source": [
    "import json\n",
    "from langchain_core.messages import ToolMessage\n",
    "\n",
    "# 도구 실행 클래스\n",
    "class BasicToolNode:\n",
    "    \"\"\"마지막 AIMessage에서 요청된 도구들을 실행하는 노드\"\"\"\n",
    "\n",
    "    def __init__(self, tools: list) -> None:\n",
    "        self.tools_by_name = {tool.name: tool for tool in tools}\n",
    "\n",
    "    def __call__(self, inputs: State):\n",
    "        # 입력 상태에서 메시지 리스트를 추출.\n",
    "        if messages := inputs.get(\"messages\", []):\n",
    "            message = messages[-1]\n",
    "        else:\n",
    "            raise ValueError(\"No message found in input\")\n",
    "        \n",
    "        outputs = []\n",
    "        for tool_call in message.tool_calls:\n",
    "            # 도구 이름을 이용해 도구 호출\n",
    "            tool_result = self.tools_by_name[tool_call[\"name\"]].invoke(\n",
    "                tool_call[\"args\"]\n",
    "            )\n",
    "            # 도구 결과를 `ToolMessage` 형식으로 변환하여 출력 리스트에 추가\n",
    "            outputs.append(\n",
    "                ToolMessage(\n",
    "                    content=json.dumps(tool_result),\n",
    "                    name=tool_call[\"name\"],\n",
    "                    tool_call_id=tool_call[\"id\"],\n",
    "                )\n",
    "            )\n",
    "        # 도구 호출 결과를 포함한 메시지 리스트를 반환\n",
    "        return {\"messages\": outputs}\n",
    "\n",
    "# BasicToolNode 인스턴스 생성\n",
    "tool_node = BasicToolNode(tools=tools)\n",
    "# tools 노드를 워크플로우에 추가\n",
    "graph_builder.add_node(\"tools\", tool_node)"
   ]
  },
  {
   "cell_type": "markdown",
   "id": "a6fbfd24",
   "metadata": {},
   "source": [
    "### 조건부 에지(conditional_edge) 추가"
   ]
  },
  {
   "cell_type": "code",
   "execution_count": 8,
   "id": "651c98d6",
   "metadata": {},
   "outputs": [
    {
     "data": {
      "image/png": "[encoded data removed]",
      "text/plain": [
       "<langgraph.graph.state.CompiledStateGraph object at 0x10bd01050>"
      ]
     },
     "execution_count": 8,
     "metadata": {},
     "output_type": "execute_result"
    }
   ],
   "source": [
    "def route_tools(state: State):\n",
    "    \"\"\"\n",
    "    conditional_edge에서 사용하여 마지막 메시지에 도구 호출이 있으면 \n",
    "    ToolNode로 라우팅하고, 그렇지 않으면 종료로 라우팅합니다.\n",
    "    \"\"\"\n",
    "    if isinstance(state, list):\n",
    "        ai_message = state[-1]\n",
    "    elif messages := state.get(\"messages\", []):\n",
    "        ai_message = messages[-1]  # 마지막 메시지 (LLM 응답)\n",
    "    else:\n",
    "        raise ValueError(f\"tool_edge로 전달할 입력 상태에서 메시지를 찾을 수 없습니다: {state}\")\n",
    "    \n",
    "    # LLM 응답에 `tool_calls`가 있으면 `tools` 노드로 이동.\n",
    "    if hasattr(ai_message, \"tool_calls\") and len(ai_message.tool_calls) > 0:\n",
    "        return \"tools\"\n",
    "    # 없으면 END 노드로 이동 (종료)\n",
    "    return END\n",
    "\n",
    "\n",
    "# 조건부 라우팅: tools로 이동하거나 END로 종료.\n",
    "graph_builder.add_conditional_edges(\n",
    "    \"chatbot\",\n",
    "    route_tools,\n",
    "    # 라우팅 결과를 노드 이름으로 매핑\n",
    "    {\"tools\": \"tools\", END: END},\n",
    ")\n",
    "\n",
    "# tools 노드 실행 후 chatbot 노드로 다시 이동 (도구 결과 처리)\n",
    "graph_builder.add_edge(\"tools\", \"chatbot\")\n",
    "# 워크플로우 시작점에서 chatbot 노드로 이동\n",
    "graph_builder.add_edge(START, \"chatbot\")\n",
    "# 워크플로우 컴파일, 실행 가능한 워크플로우 생성\n",
    "graph = graph_builder.compile()\n",
    "graph"
   ]
  },
  {
   "cell_type": "markdown",
   "id": "12604abd-4f36-404f-b211-9e67d05827e4",
   "metadata": {},
   "source": [
    "### graph.invoke vs. graph.stream"
   ]
  },
  {
   "cell_type": "code",
   "execution_count": 9,
   "id": "bd767ca6-25a4-475a-b848-90fc6356fb6e",
   "metadata": {},
   "outputs": [
    {
     "data": {
      "text/plain": [
       "{'messages': [SystemMessage(content='주어진 도구를 사용하세요.', additional_kwargs={}, response_metadata={}, id='9bb5c583-9067-40bd-90e2-9dc9ae2c62d6'),\n",
       "  HumanMessage(content='2 곱하기 100 은 얼마인가요?', additional_kwargs={}, response_metadata={}, id='6e7dc407-dfa7-49b9-91c5-295076aa9d01'),\n",
       "  AIMessage(content='200입니다. 2 × 100 = 200. 다른 수학 문제도 도와드릴까요?', additional_kwargs={'refusal': None}, response_metadata={'token_usage': {'completion_tokens': 96, 'prompt_tokens': 1413, 'total_tokens': 1509, 'completion_tokens_details': {'accepted_prediction_tokens': 0, 'audio_tokens': 0, 'reasoning_tokens': 64, 'rejected_prediction_tokens': 0}, 'prompt_tokens_details': {'audio_tokens': 0, 'cached_tokens': 0}}, 'model_name': 'gpt-5-nano-2025-08-07', 'system_fingerprint': None, 'id': 'chatcmpl-CMtPYnD1ZQ1fM5YFYK8faalMhFQDi', 'service_tier': 'default', 'finish_reason': 'stop', 'logprobs': None}, id='run--7f109b0d-5937-46d2-9172-d91c4290ce89-0', usage_metadata={'input_tokens': 1413, 'output_tokens': 96, 'total_tokens': 1509, 'input_token_details': {'audio': 0, 'cache_read': 0}, 'output_token_details': {'audio': 0, 'reasoning': 64}})]}"
      ]
     },
     "execution_count": 9,
     "metadata": {},
     "output_type": "execute_result"
    }
   ],
   "source": [
    "response = graph.invoke({\"messages\": [\n",
    "        {\"role\": \"system\", \"content\": \"주어진 도구를 사용하세요.\"},\n",
    "        {\"role\": \"user\", \"content\": \"2 곱하기 100 은 얼마인가요?\"}\n",
    "    ]})\n",
    "response"
   ]
  },
  {
   "cell_type": "code",
   "execution_count": 10,
   "id": "c2113969-4f01-473f-af0f-39b78c44d5a6",
   "metadata": {},
   "outputs": [
    {
     "name": "stdout",
     "output_type": "stream",
     "text": [
      "================================\u001b[1m System Message \u001b[0m================================\n",
      "\n",
      "주어진 도구를 사용하세요.\n",
      "================================\u001b[1m Human Message \u001b[0m=================================\n",
      "\n",
      "2 곱하기 100 은 얼마인가요?\n",
      "==================================\u001b[1m Ai Message \u001b[0m==================================\n",
      "\n",
      "200입니다. 2 × 100 = 200. 다른 수학 문제도 도와드릴까요?\n"
     ]
    }
   ],
   "source": [
    "for message in response['messages']:\n",
    "    message.pretty_print()"
   ]
  },
  {
   "cell_type": "markdown",
   "id": "033f41cb-66bb-42e1-9e48-121df8de9f8f",
   "metadata": {},
   "source": [
    "--------"
   ]
  },
  {
   "cell_type": "markdown",
   "id": "311d09bf-f654-4b7c-87de-9124ff3902a2",
   "metadata": {},
   "source": [
    "## create_react_agent 로 ReAct Agent 구현"
   ]
  },
  {
   "cell_type": "code",
   "execution_count": 17,
   "id": "c9ec8190-42a6-4fbd-a50c-ea441c5c55ac",
   "metadata": {},
   "outputs": [
    {
     "data": {
      "image/png": "[encoded data removed]",
      "text/plain": [
       "<langgraph.graph.state.CompiledStateGraph object at 0x10bdb9190>"
      ]
     },
     "execution_count": 17,
     "metadata": {},
     "output_type": "execute_result"
    }
   ],
   "source": [
    "from langgraph.prebuilt import create_react_agent\n",
    "\n",
    "# ReAct 에이전트 생성\n",
    "agent = create_react_agent(\n",
    "    model=model,  \n",
    "    tools = [tavily, multiply],                    # 에이전트가 사용할 도구 목록\n",
    "    prompt=\"당신은 도움이 되는 어시스턴트입니다. 주어진 도구를 이용해 답변하세요.\"    # 에이전트의 역할과 동작을 정의하는 프롬프트\n",
    ")\n",
    "agent"
   ]
  },
  {
   "cell_type": "markdown",
   "id": "edffa456-dd91-41b1-bb81-65d113dd444d",
   "metadata": {},
   "source": [
    "(대화 예시)\n",
    "```\n",
    "사용자:  지금 서울의 날씨가 어때?\n",
    "================================== Ai Message ==================================\n",
    "Tool Calls:\n",
    "  tavily_search (call_LBshVOFPi8aaOY4OMvQsg2xo)\n",
    " Call ID: call_LBshVOFPi8aaOY4OMvQsg2xo\n",
    "\n",
    " 사용자:  100 곱하기 2 는 얼마야?\n",
    "================================== Ai Message ==================================\n",
    "Tool Calls:\n",
    "  multiply (call_2E2bRfRICTDKAurlV8S6i7dm)\n",
    "```"
   ]
  },
  {
   "cell_type": "code",
   "execution_count": 18,
   "id": "fca95056-b156-45eb-af84-58ccb1f56562",
   "metadata": {},
   "outputs": [
    {
     "name": "stdin",
     "output_type": "stream",
     "text": [
      "사용자:  지금 서울 기온에 10을 곱하면 몇도야?\n"
     ]
    },
    {
     "name": "stdout",
     "output_type": "stream",
     "text": [
      "==================================\u001b[1m Ai Message \u001b[0m==================================\n",
      "Tool Calls:\n",
      "  tavily_search (call_RdPveFgTGGBLTQptZ4n915Lk)\n",
      " Call ID: call_RdPveFgTGGBLTQptZ4n915Lk\n",
      "  Args:\n",
      "    query: 서울 현재 기온\n",
      "    search_depth: advanced\n",
      "=================================\u001b[1m Tool Message \u001b[0m=================================\n",
      "Name: tavily_search\n",
      "\n",
      "{\"query\": \"서울 현재 기온\", \"follow_up_questions\": null, \"answer\": null, \"images\": [], \"results\": [{\"url\": \"https://www.aqi.in/weather/ko/south-korea/seoul/seoul\", \"title\": \"Seoul 날씨 상태: 기온 | 30일 예보 - AQI.in\", \"content\": \"---\\n\\nAQI 표준\\n\\nPreferred Language\\n\\n---\\n\\n Weather\\n South Korea\\n Seoul\\n Seoul\\n\\nAQI\\n날씨\\n\\nSeoul Weather Conditions\\n\\nCurrent Temperature Level\\n\\n21  °C\\n\\nPartly cloudy\\n온도 \\n습도\\n\\n38 AQI\\n\\nPM2.5 : \\n7\\nPM10 : \\n15\\n\\n공기질 지수는:  좋음\\n\\n마지막 업데이트: 2025-10-04 11:00 (현지 시간)\\n\\n## Seoulの天気パラメーター ---\\n\\n5 km/h\\n\\nLight breeze\\n\\n2 m/s\\n\\n69° ENE\\n\\n75 %\\n\\n---\\n\\n10 km\\n\\n0.06 mm\\n\\n1015 mb\\n\\n940\\n956\\n\\n981\\n\\n1005\\n\\n보통\\n\\n1013\\n\\n1030\\n\\n1046+\\n\\n현재 기압 수준은 1015 mb입니다.\\n\\n자외선 지수\\n\\n자외선 지수\\n2\\n\\nLow\\n\\n현재 자외선 지수는 2입니다. 관련 권장사항을 확인하세요!\\n\\n추천\\n\\n오늘\\nSeoul\\n\\n4 10월 [...] Partly cloudy\\n\\n88%\\n\\n1.7\\n\\n5 kmph /  ENE\\n\\nSeongbuk Gu\\n\\n21 °C\\n\\nPartly cloudy\\n\\n88%\\n\\n1.7\\n\\n5 kmph /  ENE\\n\\nSeongdong Gu\\n\\n21 °C\\n\\nPartly cloudy\\n\\n88%\\n\\n1.7\\n\\n5 kmph /  ENE\\n\\nSeoul Plaza communicate information\\n\\n21 °C\\n\\nPartly cloudy\\n\\n88%\\n\\n1.7\\n\\n5 kmph /  ENE\\n\\nSeouryeok\\n\\n21 °C\\n\\nPartly cloudy\\n\\n88%\\n\\n1.7\\n\\n5 kmph /  ENE\\n\\nSinchon\\n\\n21 °C\\n\\nPartly cloudy\\n\\n88%\\n\\n1.7\\n\\n5 kmph /  ENE\\n\\nSinchon Ro\\n\\n21 °C\\n\\nPartly cloudy\\n\\n88%\\n\\n1.7\\n\\n5 kmph /  ENE\\n\\nSinsa Dong\\n\\n21 °C\\n\\nPartly cloudy\\n\\n88%\\n\\n1.7\\n\\n5 kmph /  ENE\\n\\nYongsan Gu\\n\\n21 °C [...] 수분 공급\\n•  수분 유지\\n\\n의복\\n•  다층 착용 필요\\n\\n---\\n\\n운전\\n•  운전을 즐기세요\\n\\n선크림\\n•  Apply\\n\\nSouth Koreaのトレンド\\n\\nAir Quality Monitoring for Logistics: Smarter Deliveries with Data\\n\\n## Seoulの10日間天気予報 ---\\n\\n월별 보기\\n\\n오늘\\n\\n20°C\\n\\n81 %\\n\\nSaturday\\n\\n22°C\\n\\n78 %\\n\\nSunday\\n\\n18°C\\n\\n79 %\\n\\nMonday\\n\\n16°C\\n\\n91 %\\n\\nTuesday\\n\\n20°C\\n\\n82 %\\n\\nWednesday\\n\\n21°C\\n\\n70 %\\n\\nThursday\\n\\n18°C\\n\\n72 %\\n\\nFriday\\n\\n17°C\\n\\n76 %\\n\\nSaturday\\n\\n16°C\\n\\n91 %\\n\\nSunday\\n\\n17°C\\n\\n84 %\\n\\n오늘\\n3 Oct\\n\\n---\\n\\nPatchy rain nearby\\n\\n가끔 가벼운 비, 습도는 81%, 바람 속도는 7.9 km/h입니다.\\n\\n---\\n\\n22°C\\n  /  19°C\\n\\n습도\\n81 %\", \"score\": 0.7707586, \"raw_content\": null}, {\"url\": \"https://www.accuweather.com/ko/kr/seoul/226081/current-weather/226081\", \"title\": \"서울특별시, 서울시, 대한민국 현재 날씨 - AccuWeather\", \"content\": \"서울특별시, 서울시, 대한민국 현재 날씨 | AccuWeather\\n\\n돌아가기\\n\\n[]( 서울시 ========== 83°F\\n\\n현재 위치 사용\\n\\n최신\\n\\n서울특별시 서울시 83°\\n\\n결과를 찾을 수 없습니다.\\n\\n도시나 우편번호, 관심 지역을 검색해 보세요.\\n\\n[](\\n\\n설정\\n\\n서울특별시, 서울시 날씨\\n\\n오늘WinterCast지역 {stormName} 추적기시간별일별레이더MinuteCast®월대기질건강 및 활동\\n\\n전 세계\\n\\n### 허리케인### 악천후 기상### 레이더 및 지도### 동영상\\n\\n오늘시간별일별레이더MinuteCast®월대기질건강 및 활동\\n\\n[](\\n\\n월요일, 8월 11일\\n\\n[](\\n\\n현재 기상\\n\\nPM 7:48\\n\\n83°F\\n\\n구름 조금\\n\\n RealFeel® 88° \\n\\n매우 따뜻함\\n\\nRealFeel®\\n\\n88°\\n\\n바람\\n\\n서북서 4mi/h\\n\\n돌풍\\n\\n8mi/h\\n\\n습도\\n\\n68%\\n\\n이슬점\\n\\n71° F\\n\\n기압\\n\\n↑ 29.68inHg\\n\\n구름량\\n\\n68%\\n\\n가시거리\\n\\n10mi\\n\\n운저\\n\\n40000ft [...] 밤\\n-\\n\\n 8. 11. \\n\\n 73°최저\\n\\n RealFeel® 81° \\n\\n쾌적함\\n\\n대체로 맑고 습함\\n\\n바람 남 4mi/h\\n\\n돌풍 10mi/h\\n\\n강수 확률 4%\\n\\n뇌우 확률 0%\\n\\n강수 0.00in\\n\\n구름량 23%\\n\\n### 저녁\\n\\n### 밤사이\\n\\n해와 달\\n\\nImage 113 시간 46 분\\n\\n일출 AM 5:44\\n\\n일몰 PM 7:30\\n\\nImage 211 시간 58 분\\n\\n일출 PM 8:40\\n\\n일몰 AM 8:38\\n\\n온도 기록\\n\\n8. 11.\\n\\n높음\\n\\n낮음\\n\\n예보\\n\\n84°\\n\\n73°\\n\\n평균\\n\\n87°\\n\\n71°\\n\\n작년\\n\\n94°\\n\\n82°\\n\\n전망\\n--\\n\\n### 시간별### 일별### 월\\n\\n전 세계\\n\\n### 허리케인### 악천후 기상### 레이더 및 지도### 동영상\\n\\nAround The Web\\n\\n전 세계아시아대한민국서울시서울특별시\\n\\n인근 지역:\\n\\n   동작구, 서울시\\n   마포구, 서울시\\n   서대문구, 서울시\", \"score\": 0.756376, \"raw_content\": null}], \"response_time\": 1.86, \"request_id\": \"8837cba7-591c-4b54-adbd-2ab44ae52356\"}\n",
      "==================================\u001b[1m Ai Message \u001b[0m==================================\n",
      "\n",
      "현재 서울의 기온은 소스에 따라 다르게 나와요. 예를 들어 AQI.in에선 약 21°C로 표시됩니다.\n",
      "\n",
      "- 21°C × 10 = 210°C (수학적 곱셈의 결과이며, 실제 대기에서 210°C는 불가능한 수치입니다)\n",
      "- 같은 맥락에서 만약 기온이 28°C였다면 28 × 10 = 280°C가 됩니다.\n",
      "\n",
      "원하시면 특정 사이트의 최신 기온으로 다시 계산해 드릴게요.\n"
     ]
    },
    {
     "name": "stdin",
     "output_type": "stream",
     "text": [
      "사용자:  quit\n"
     ]
    },
    {
     "name": "stdout",
     "output_type": "stream",
     "text": [
      "Goodbye!\n"
     ]
    }
   ],
   "source": [
    "def stream_graph_updates(user_input: str):\n",
    "    # 워크플로우를 스트리밍 모드로 실행 (사용자 입력 처리)\n",
    "    events = agent.stream({\"messages\": [{\"role\": \"user\", \"content\": user_input}]})\n",
    "    for event in events:\n",
    "        for value in event.values():\n",
    "            # 이벤트의 마지막 메시지 출력\n",
    "            last_msg = value[\"messages\"][-1]\n",
    "            # ToolMessage는 출력 제외\n",
    "            # if isinstance(last_msg, ToolMessage):\n",
    "            #     continue\n",
    "            last_msg.pretty_print()\n",
    "\n",
    "while True:\n",
    "    try:\n",
    "        user_input = input(\"사용자: \")  # 사용자 입력 받기\n",
    "        if user_input.lower() in [\"quit\", \"exit\", \"q\"]:  # 종료 조건\n",
    "            print(\"Goodbye!\")\n",
    "            break\n",
    "\n",
    "        # 워크플로우 실행\n",
    "        stream_graph_updates(user_input)\n",
    "    except Exception as e:\n",
    "        print(e)\n",
    "        break"
   ]
  },
  {
   "cell_type": "markdown",
   "id": "bab8968c-0d19-4a34-ab40-a27bfad69837",
   "metadata": {},
   "source": [
    "----------------------\n",
    "우리는 `messages`를 상태로 사용하고, **도구가 바인딩된 채팅 모델**을 사용하는 그래프를 만들었습니다.\n",
    "\n",
    "이 그래프는 다음과 같은 동작을 할 수 있었습니다:  \n",
    "* 도구 호출을 반환\n",
    "* 자연어 응답을 반환\n",
    "\n",
    "# 라우터 (Router)\n",
    "\n",
    "1. **도구를 실제로 호출하는 노드**를 추가합니다.\n",
    "2. **조건부 엣지**를 추가하여, 채팅 모델의 출력을 확인한 뒤\n",
    "\n",
    "   * 도구 호출이 있다면 도구 노드로\n",
    "   * 도구 호출이 없다면 바로 종료 노드로 이동하도록 라우팅합니다.\n",
    "\n",
    "![라우터 예시 이미지](https://cdn.prod.website-files.com/65b8cd72835ceeacd4449a53/66dbac6543c3d4df239a4ed1_router1.png)"
   ]
  },
  {
   "cell_type": "code",
   "execution_count": 19,
   "id": "10c74210-3f42-4195-8e66-db94173297e9",
   "metadata": {},
   "outputs": [],
   "source": [
    "def multiply(a: int, b: int) -> int:\n",
    "    \"\"\"Multiply a and b.\n",
    "\n",
    "    Args:\n",
    "        a: first int\n",
    "        b: second int\n",
    "    \"\"\"\n",
    "    return a * b\n",
    "\n",
    "llm_with_tools = model.bind_tools([multiply])"
   ]
  },
  {
   "cell_type": "markdown",
   "id": "a8e86917-f757-40c6-b465-4addd2b6cb1c",
   "metadata": {},
   "source": [
    "우리는 [내장된 `ToolNode`](https://langchain-ai.github.io/langgraph/reference/prebuilt/?h=tools+condition#toolnode)를 사용하며,\n",
    "**초기화 시 도구 목록(list of tools)** 만 전달하면 됩니다.\n",
    "\n",
    "또한, [내장된 `tools_condition`](https://langchain-ai.github.io/langgraph/reference/prebuilt/?h=tools+condition#tools_condition)를\n",
    "**조건부 엣지(conditional edge)** 로 사용합니다."
   ]
  },
  {
   "cell_type": "code",
   "execution_count": 20,
   "id": "ee1abaf8-f402-43e0-b66f-b301de5364f1",
   "metadata": {},
   "outputs": [
    {
     "data": {
      "image/png": "[encoded data removed]",
      "text/plain": [
       "<langgraph.graph.state.CompiledStateGraph object at 0x10bd1b510>"
      ]
     },
     "execution_count": 20,
     "metadata": {},
     "output_type": "execute_result"
    }
   ],
   "source": [
    "from langgraph.graph import StateGraph, START, END\n",
    "from langgraph.graph import MessagesState\n",
    "from langgraph.prebuilt import ToolNode\n",
    "from langgraph.prebuilt import tools_condition\n",
    "\n",
    "# Node\n",
    "def tool_calling_llm(state: MessagesState):\n",
    "    return {\"messages\": [llm_with_tools.invoke(state[\"messages\"])]}\n",
    "\n",
    "# Build graph\n",
    "builder = StateGraph(MessagesState)\n",
    "builder.add_node(\"tool_calling_llm\", tool_calling_llm)\n",
    "builder.add_node(\"tools\", ToolNode([multiply]))\n",
    "builder.add_edge(START, \"tool_calling_llm\")\n",
    "builder.add_conditional_edges(\n",
    "    \"tool_calling_llm\",\n",
    "    # 만약 assistant의 마지막 메시지(결과)가 도구 호출이면 -> tools_condition은 tools 노드로 이동합니다.\n",
    "    # 만약 assistant의 마지막 메시지가 도구 호출이 아니면 -> tools_condition은 END 노드로 이동합니다.\n",
    "    tools_condition,\n",
    ")\n",
    "builder.add_edge(\"tools\", END)\n",
    "graph = builder.compile()\n",
    "graph"
   ]
  },
  {
   "cell_type": "code",
   "execution_count": 21,
   "id": "e448600f-9316-4739-a154-f7f417f71cf1",
   "metadata": {},
   "outputs": [
    {
     "name": "stdout",
     "output_type": "stream",
     "text": [
      "================================\u001b[1m System Message \u001b[0m================================\n",
      "\n",
      "주어지 도구를 사용해서 답하세요.\n",
      "================================\u001b[1m Human Message \u001b[0m=================================\n",
      "\n",
      "안녕, 2 곱하기 2는 얼마야?\n",
      "==================================\u001b[1m Ai Message \u001b[0m==================================\n",
      "Tool Calls:\n",
      "  multiply (call_FWYbCrVu160Czg9bCD5BUBl0)\n",
      " Call ID: call_FWYbCrVu160Czg9bCD5BUBl0\n",
      "  Args:\n",
      "    a: 2\n",
      "    b: 2\n",
      "=================================\u001b[1m Tool Message \u001b[0m=================================\n",
      "Name: multiply\n",
      "\n",
      "4\n"
     ]
    }
   ],
   "source": [
    "from langchain_core.messages import HumanMessage, SystemMessage\n",
    "\n",
    "messages = [\n",
    "    SystemMessage(content=\"주어지 도구를 사용해서 답하세요.\"),\n",
    "    HumanMessage(content=\"안녕, 2 곱하기 2는 얼마야?\")\n",
    "]\n",
    "messages = graph.invoke({\"messages\": messages})\n",
    "for m in messages['messages']:\n",
    "    m.pretty_print()"
   ]
  },
  {
   "cell_type": "code",
   "execution_count": null,
   "id": "a01a28e3-4b01-45af-8060-5b348829ca63",
   "metadata": {},
   "outputs": [],
   "source": []
  }
 ],
 "metadata": {
  "kernelspec": {
   "display_name": "Python 3 (ipykernel)",
   "language": "python",
   "name": "python3"
  },
  "language_info": {
   "codemirror_mode": {
    "name": "ipython",
    "version": 3
   },
   "file_extension": ".py",
   "mimetype": "text/x-python",
   "name": "python",
   "nbconvert_exporter": "python",
   "pygments_lexer": "ipython3",
   "version": "3.11.13"
  }
 },
 "nbformat": 4,
 "nbformat_minor": 5
}
