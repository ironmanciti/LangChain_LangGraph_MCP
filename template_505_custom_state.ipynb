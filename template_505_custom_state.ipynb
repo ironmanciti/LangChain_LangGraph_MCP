{
 "cells": [
  {
   "cell_type": "markdown",
   "id": "d2963590",
   "metadata": {},
   "source": [
    "# 맞춤형 State 작성\n",
    "\n",
    "### 상태 (State)\n",
    "- node 와 node 간에 정보를 전달할 때 State 객체데 담아 전달\n",
    "- TypedDict : 파이썬 dict 에 타입 힌팅을 추가한 개념\n",
    "- 모든 값을 다 채우지 않아도 된다.\n",
    "- 새로운 node에서 값을 overwrite 방식으로 채운다.\n",
    "- Reducer(add_messages 혹은 operator.add): 자동으로 list에 메시지를 추가해 주는 기능"
   ]
  },
  {
   "cell_type": "code",
   "execution_count": null,
   "id": "de5a08ff",
   "metadata": {},
   "outputs": [],
   "source": [
    "# API-KEY 읽어오기"
   ]
  },
  {
   "cell_type": "code",
   "execution_count": null,
   "id": "204d640f",
   "metadata": {},
   "outputs": [],
   "source": [
    "# 모델 초기화\n",
    "# llm = init_chat_model(\"google_genai:gemini-2.5-flash\")"
   ]
  },
  {
   "cell_type": "markdown",
   "id": "f1d21b9e-fc29-4217-9e0a-9594370ecf5d",
   "metadata": {},
   "source": [
    "### 챗봇이 엔티티의 생일을 조사할 수 있도록 상태(state)에 name과 birthday 키를 추가합니다."
   ]
  },
  {
   "cell_type": "code",
   "execution_count": null,
   "id": "811ce366",
   "metadata": {},
   "outputs": [],
   "source": [
    "# LangGraph State 정의\n",
    "class State(TypedDict):"
   ]
  },
  {
   "cell_type": "markdown",
   "id": "a5157774-3504-493f-9e43-075c5b46d62b",
   "metadata": {},
   "source": [
    "### 도구 내부에서 State 업데이트\n",
    "State 에 저장되기 전에 사람이 정보를 검토할 수 있도록 human_assistance 도구 안에서 State 키를 채워 넣습니다.  \n",
    "이를 위해 도구 내부에서 Command를 사용해 상태 업데이트 명령을 발행합니다.\n",
    "\n",
    "```\n",
    "def human_assistance(\n",
    "    name: str, birthday: str, tool_call_id: Annotated[str, InjectedToolCallId]) -> str: \n",
    "```\n",
    "- tool_call_id: 도구 호출의 고유한 DI, 도구 호출과 그 결과를 추적하기 위해 LangChain이 자동 생성  \n",
    "- 모델 프롬프트에 노출되지 않고, LangChain이 런타임에서 자동으로 넣어줍니다.  \n",
    "- 덕분에 모델은 name, birthday만 보고 채워주면 되고, 내부 추적용 ID는 프레임워크가 관리합니다."
   ]
  },
  {
   "cell_type": "code",
   "execution_count": null,
   "id": "4120b8fa",
   "metadata": {},
   "outputs": [],
   "source": [
    "# human_assistance 도구 정의 (인간의 도움을 요청하는 도구)\n",
    "# 상태 업데이트를 위한 ToolMessage를 생성하기 때문에 해당 도구 호출의 ID가 필요합니다.\n",
    "# LangChain의 InjectedToolCallId를 사용하면 이 인자는 모델에게 노출되지 않습니다.\n",
    "def human_assistance(\n",
    "    # 인간에게 질문과 현재 상태(name, birthday)를 전달 후 응답을 기다림\n",
    "    # 모델의 답변이 맞으면 (응답이 y로 시작하면) 현재 상태 유지\n",
    "    # 그렇지 않으면 인간 검토자가 제공한 수정된 name, birthday 사용\n",
    "    # 도구 내부에서 ToolMessage를 사용해 상태(state)를 명시적으로 업데이트합니다.\n",
    "    # 도구 내부에서 Command 객체를 반환하여 State를 업데이트합니다"
   ]
  },
  {
   "cell_type": "markdown",
   "id": "a160d65a-1e09-4bc9-a81b-f07f49b7a6b9",
   "metadata": {},
   "source": [
    "### Graph 생성"
   ]
  },
  {
   "cell_type": "code",
   "execution_count": null,
   "id": "0df3d08f",
   "metadata": {},
   "outputs": [],
   "source": [
    "# 상태 기반 워크플로우 생성\n",
    "# 웹 검색을 도구\n",
    "# 도구 리스트 (정보 추출 도구 추가)\n",
    "# LLM이 도구 호출 여부 판단\n",
    "# chatbot 노드 함수\n",
    "def chatbot(state: State):\n",
    "    # 병렬 도구 호출 비활성화: 인터럽트 후 툴 중복 호출 방지\n",
    "# 워크플로우에 chatbot 노드 추가\n",
    "# tool 노드 워크플로우에 추가\n",
    "# 조건부 라우팅: tools로 이동하거나 END로 이동 (종료)\n",
    "# tools 노드 실행 후 chatbot 노드로 다시 이동 (도구 결과 처리)\n",
    "# 워크플로우 시작점에서 chatbot 노드로 이동"
   ]
  },
  {
   "cell_type": "code",
   "execution_count": null,
   "id": "7828d14a",
   "metadata": {},
   "outputs": [],
   "source": []
  },
  {
   "cell_type": "markdown",
   "id": "707e871c-bfbc-4834-a1c1-13bd06b26750",
   "metadata": {},
   "source": [
    "### 챗봇에게 프롬프트를 보냅니다.\n",
    "이순신 장군의 \"생일(birthday)\"을 조회하도록 챗봇에 지시하고, 필요한 정보를 얻으면 **human_assistance** 도구를 호출하도록 유도합니다.  "
   ]
  },
  {
   "cell_type": "code",
   "execution_count": null,
   "id": "a4204a9a",
   "metadata": {},
   "outputs": [],
   "source": []
  },
  {
   "cell_type": "code",
   "execution_count": null,
   "id": "cdf1af0d",
   "metadata": {},
   "outputs": [],
   "source": [
    "# 현재 스냅샷 조회\n",
    "# 필요한 키만 골라 보기 (예: name, birthday)"
   ]
  },
  {
   "cell_type": "markdown",
   "id": "fc1f16e7-22cf-4f3f-82ea-c80d7692469a",
   "metadata": {},
   "source": [
    "### 사람의 도움 추가\n",
    "| 속성 이름              | 설명                                                               |\n",
    "| ------------------ | ---------------------------------------------------------------- |\n",
    "| `resume`           | 인터럽트나 외부 입력을 통해 **그래프 실행을 재개**할 때 사용하는 값                         |\n",
    "| `update`           | 그래프의 상태(state)를 갱신할 데이터를 담는 필드                                   |\n",
    "\n",
    "\n",
    "챗봇이 올바른 날짜를 식별하지 못했다고 가정하고, 필요한 정보를 제공해 주세요."
   ]
  },
  {
   "cell_type": "code",
   "execution_count": null,
   "id": "8cad7613",
   "metadata": {},
   "outputs": [],
   "source": [
    "# human_command = Command(\n",
    "#     resume={\n",
    "#         \"correct\": \"yes\",\n",
    "#     },\n",
    "# )"
   ]
  },
  {
   "cell_type": "code",
   "execution_count": null,
   "id": "2930f21d",
   "metadata": {},
   "outputs": [],
   "source": [
    "# 실행 이후 상태 스냅샷 조회\n",
    "# 필요한 키만 골라 보기 (예: name, birthday)"
   ]
  },
  {
   "cell_type": "markdown",
   "id": "55826fb7-8c63-48fd-ad47-2fdaba633b5b",
   "metadata": {},
   "source": [
    "### 상태 수동 업데이트\n",
    "LangGraph는 애플리케이션 상태를 매우 세밀하게 제어할 수 있는 기능을 제공합니다. 예를 들어, 실행 도중(인터럽트가 걸린 경우도 포함) 언제든지 graph.update_state를 사용하여 특정 키 값을 수동으로 덮어씌울 수 있습니다."
   ]
  },
  {
   "cell_type": "code",
   "execution_count": null,
   "id": "13c4bf36",
   "metadata": {},
   "outputs": [],
   "source": []
  },
  {
   "cell_type": "code",
   "execution_count": null,
   "id": "23cef52f",
   "metadata": {},
   "outputs": [],
   "source": [
    "# 실행 이후 상태 스냅샷 조회\n",
    "# 필요한 키만 골라 보기 (예: name, birthday)"
   ]
  },
  {
   "cell_type": "markdown",
   "id": "d5efb142-553c-4d36-a65a-e042d14bc85c",
   "metadata": {},
   "source": []
  },
  {
   "cell_type": "code",
   "execution_count": null,
   "id": "35b6e9b8",
   "metadata": {},
   "outputs": [],
   "source": []
  },
  {
   "cell_type": "code",
   "execution_count": null,
   "id": "fecc1d18",
   "metadata": {},
   "outputs": [],
   "source": []
  }
 ],
 "metadata": {
  "kernelspec": {
   "display_name": "Python 3 (ipykernel)",
   "language": "python",
   "name": "python3"
  },
  "language_info": {
   "codemirror_mode": {
    "name": "ipython",
    "version": 3
   },
   "file_extension": ".py",
   "mimetype": "text/x-python",
   "name": "python",
   "nbconvert_exporter": "python",
   "pygments_lexer": "ipython3",
   "version": "3.11.13"
  }
 },
 "nbformat": 4,
 "nbformat_minor": 5
}
