{
 "cells": [
  {
   "cell_type": "markdown",
   "id": "86fc5bb2-017f-434e-8cd6-53ab214a5604",
   "metadata": {
    "id": "86fc5bb2-017f-434e-8cd6-53ab214a5604"
   },
   "source": [
    "# Retrieval Augmented Generation (RAG) 애플리케이션 구축: Part 2 - Chatbot Agent \n",
    "\n",
    "### 사용자와의 상호작용을 기억하는 메모리 기능과 다단계 검색(multi-step retrieval)을 통합한 RAG 애플리케이션을 구축\n",
    "\n",
    "- **Part 1**: RAG 개념을 소개하고, 최소한의 구현 방법을 설명합니다.  \n",
    "- **Part 2** 기존 구현을 확장하여 대화형 상호작용과 다단계 검색 프로세스를 처리할 수 있도록 ReAct agent를 생성합니다."
   ]
  },
  {
   "cell_type": "code",
   "execution_count": null,
   "id": "1114be85",
   "metadata": {},
   "outputs": [],
   "source": []
  },
  {
   "cell_type": "code",
   "execution_count": null,
   "id": "51278e9d",
   "metadata": {},
   "outputs": [],
   "source": [
    "# model = init_chat_model(\"gemini-2.5-flash\", model_provider=\"google_genai\")\n",
    "# 사용할 임베딩 모델의 이름을 지정"
   ]
  },
  {
   "cell_type": "code",
   "execution_count": null,
   "id": "6aa2629d",
   "metadata": {},
   "outputs": [],
   "source": []
  },
  {
   "cell_type": "markdown",
   "id": "fa6ba684-26cf-4860-904e-a4d51380c134",
   "metadata": {
    "id": "fa6ba684-26cf-4860-904e-a4d51380c134"
   },
   "source": [
    "### **문서 불러오기 (Loading Documents)**"
   ]
  },
  {
   "cell_type": "code",
   "execution_count": null,
   "id": "cd4a3663",
   "metadata": {},
   "outputs": [],
   "source": [
    "# 주요 콘텐츠 태그만 필터링 (제목, 본문, 코드 등)\n",
    "# WebBaseLoader 사용: requests_kwargs로 User-Agent 설정\n",
    "# 문서 로드\n",
    "# 결과 확인\n",
    "# 불러온 문서를 설정한 기준에 따라 청크로 분할\n",
    "# 분할된 청크(서브 문서)의 개수 출력"
   ]
  },
  {
   "cell_type": "markdown",
   "id": "335abbbf-109f-4eca-9563-d2f6c77995d5",
   "metadata": {},
   "source": [
    "### 검색 단계를 **도구(tool)** 로 전환\n",
    "\n",
    "- `@tool` 함수는 다음과 같이 `OpenAI의 function-calling` 구조로 함수들을 선언합니다.\n",
    "```\n",
    "{\n",
    "  \"name\": \"retrieve\",\n",
    "  \"description\": \"주어진 쿼리와 관련된 정보를 검색합니다.\",\n",
    "  \"parameters\": {\n",
    "    \"type\": \"object\",\n",
    "    \"properties\": {\n",
    "      \"query\": {\n",
    "        \"type\": \"string\",\n",
    "        \"description\": \"검색할 텍스트 쿼리입니다. llm 이 생성해 줍니다.\"\n",
    "      }\n",
    "    },\n",
    "    \"required\": [\"query\"]\n",
    "  }\n",
    "}\n",
    "```"
   ]
  },
  {
   "cell_type": "code",
   "execution_count": null,
   "id": "2796e04e",
   "metadata": {},
   "outputs": [],
   "source": [
    "# 검색(retrieve) 함수를 도구로 정의\n",
    "# - response_format=\"content_and_artifact\"로 지정하면 \n",
    "# 반드시 결과를 직렬화된 content와 artifact로 반환 - Langchain이 format check\n",
    "def retrieve(query: str):\n",
    "    # 벡터 스토어에서 유사도 검색 수행. 가장 유사한 두 개의 문서를 반환.\n",
    "    # 검색된 문서를 문자열로 직렬화\n",
    "    # 직렬화된 결과(content)와 원본 문서 목록(artifact) 반환."
   ]
  },
  {
   "cell_type": "code",
   "execution_count": null,
   "id": "d3558f9b",
   "metadata": {},
   "outputs": [],
   "source": [
    "# MemorySaver: 워크플로우의 상태를 메모리에 저장"
   ]
  },
  {
   "cell_type": "code",
   "execution_count": null,
   "id": "9e27975f",
   "metadata": {},
   "outputs": [],
   "source": []
  },
  {
   "cell_type": "markdown",
   "id": "e255152f-8a21-4eb1-9dee-1da2e182e361",
   "metadata": {},
   "source": [
    "------------------------------\n",
    "에이전트가 수행하는 과정은 다음과 같습니다:  \n",
    "\n",
    "1. **작업 분해(Task Decomposition)의 표준 방법을 검색하기 위한 쿼리를 생성합니다.**  \n",
    "2. **첫 번째 답변을 받은 후, 해당 방법의 일반적인 확장을 검색하는 두 번째 쿼리를 생성합니다.**  \n",
    "3. **필요한 모든 문맥을 확보한 후, 최종적으로 질문에 대한 답변을 생성합니다.**  "
   ]
  },
  {
   "cell_type": "code",
   "execution_count": null,
   "id": "78b75fa3",
   "metadata": {},
   "outputs": [],
   "source": []
  }
 ],
 "metadata": {
  "colab": {
   "provenance": []
  },
  "kernelspec": {
   "display_name": "Python 3 (ipykernel)",
   "language": "python",
   "name": "python3"
  },
  "language_info": {
   "codemirror_mode": {
    "name": "ipython",
    "version": 3
   },
   "file_extension": ".py",
   "mimetype": "text/x-python",
   "name": "python",
   "nbconvert_exporter": "python",
   "pygments_lexer": "ipython3",
   "version": "3.11.13"
  }
 },
 "nbformat": 4,
 "nbformat_minor": 5
}
