{
 "cells": [
  {
   "cell_type": "markdown",
   "id": "658024d6",
   "metadata": {},
   "source": [
    "# Agent에 도구 추가"
   ]
  },
  {
   "cell_type": "code",
   "execution_count": null,
   "id": "3cc891a2",
   "metadata": {},
   "outputs": [],
   "source": [
    "# API-KEY 읽어오기"
   ]
  },
  {
   "cell_type": "code",
   "execution_count": null,
   "id": "bc9669d4",
   "metadata": {},
   "outputs": [],
   "source": [
    "# model = init_chat_model(\"gemini-2.5-flash\", model_provider=\"google_genai\")"
   ]
  },
  {
   "cell_type": "markdown",
   "id": "b0dbcd2f",
   "metadata": {},
   "source": [
    "### 도구 정의"
   ]
  },
  {
   "cell_type": "code",
   "execution_count": null,
   "id": "867ff56b",
   "metadata": {},
   "outputs": [],
   "source": [
    "# pip install langchain-tavily"
   ]
  },
  {
   "cell_type": "code",
   "execution_count": null,
   "id": "4149561e",
   "metadata": {},
   "outputs": [],
   "source": [
    "def multiply(a: int, b: int) -> int:\n",
    "# 웹 검색을 도구\n",
    "# 도구 리스트\n",
    "# 도구 테스트\n",
    "# 도구 테스트"
   ]
  },
  {
   "cell_type": "code",
   "execution_count": null,
   "id": "ec16bad3",
   "metadata": {},
   "outputs": [],
   "source": [
    "# LLM에 입력 되는 값 확인"
   ]
  },
  {
   "cell_type": "markdown",
   "id": "ce89e0a3",
   "metadata": {},
   "source": [
    "## ReAct Agent를 수동으로 구현\n",
    "\n",
    "- `create_react_agent`를 사용하지 않고 수동 구현\n",
    "\n",
    "```\n",
    "chatbot (LLM 추론) → route_tools (판단) → tools (도구 실행) → chatbot (결과 처리)\n",
    "                   ↘ END (완료)\n",
    "```\n",
    "\n",
    "각 단계를 더 정교하게 제어하고 커스터마이징할 수 있다."
   ]
  },
  {
   "cell_type": "code",
   "execution_count": null,
   "id": "c4cca8e2",
   "metadata": {},
   "outputs": [],
   "source": [
    "# 에이전트의 상태 정의 클래스\n",
    "class State(TypedDict):\n",
    "# 상태 기반 워크플로우 생성\n",
    "# LLM이 도구 호출 여부 판단\n",
    "# chatbot 노드 함수\n",
    "def chatbot(state: State):\n",
    "# 워크플로우에 chatbot 노드 추가"
   ]
  },
  {
   "cell_type": "markdown",
   "id": "ade87c0d",
   "metadata": {},
   "source": [
    "### 도구 실행 함수 생성\n",
    "\n",
    "#### ToolMessage\n",
    "- LangGraph에서 도구(tool) 실행 결과를 표현하기 위한 특별한 메시지 객체.  \n",
    "- 일반 AIMessage나 HumanMessage처럼 대화의 한 턴을 나타내지만, 특히 “이건 도구 실행의 결과다”라는 것을 그래프 런타임에 알려주는 역할."
   ]
  },
  {
   "cell_type": "code",
   "execution_count": null,
   "id": "2ca56e92",
   "metadata": {},
   "outputs": [],
   "source": [
    "# 도구 실행 클래스\n",
    "class BasicToolNode:\n",
    "    def __init__(self, tools: list) -> None:\n",
    "    def __call__(self, inputs: State):\n",
    "        # 입력 상태에서 메시지 리스트를 추출.\n",
    "            # 도구 이름을 이용해 도구 호출\n",
    "            # 도구 결과를 `ToolMessage` 형식으로 변환하여 출력 리스트에 추가\n",
    "        # 도구 호출 결과를 포함한 메시지 리스트를 반환\n",
    "# BasicToolNode 인스턴스 생성\n",
    "# tools 노드를 워크플로우에 추가"
   ]
  },
  {
   "cell_type": "markdown",
   "id": "a6fbfd24",
   "metadata": {},
   "source": [
    "### 조건부 에지(conditional_edge) 추가"
   ]
  },
  {
   "cell_type": "code",
   "execution_count": null,
   "id": "0cadfd13",
   "metadata": {},
   "outputs": [],
   "source": [
    "def route_tools(state: State):\n",
    "    # LLM 응답에 `tool_calls`가 있으면 `tools` 노드로 이동.\n",
    "    # 없으면 END 노드로 이동 (종료)\n",
    "# 조건부 라우팅: tools로 이동하거나 END로 종료.\n",
    "    # 라우팅 결과를 노드 이름으로 매핑\n",
    "# tools 노드 실행 후 chatbot 노드로 다시 이동 (도구 결과 처리)\n",
    "# 워크플로우 시작점에서 chatbot 노드로 이동\n",
    "# 워크플로우 컴파일, 실행 가능한 워크플로우 생성"
   ]
  },
  {
   "cell_type": "markdown",
   "id": "12604abd-4f36-404f-b211-9e67d05827e4",
   "metadata": {},
   "source": [
    "### graph.invoke vs. graph.stream"
   ]
  },
  {
   "cell_type": "code",
   "execution_count": null,
   "id": "f71d9aae",
   "metadata": {},
   "outputs": [],
   "source": []
  },
  {
   "cell_type": "code",
   "execution_count": null,
   "id": "98cda88e",
   "metadata": {},
   "outputs": [],
   "source": []
  },
  {
   "cell_type": "markdown",
   "id": "033f41cb-66bb-42e1-9e48-121df8de9f8f",
   "metadata": {},
   "source": [
    "--------"
   ]
  },
  {
   "cell_type": "markdown",
   "id": "311d09bf-f654-4b7c-87de-9124ff3902a2",
   "metadata": {},
   "source": [
    "## create_react_agent 로 ReAct Agent 구현"
   ]
  },
  {
   "cell_type": "code",
   "execution_count": null,
   "id": "22102b56",
   "metadata": {},
   "outputs": [],
   "source": [
    "# ReAct 에이전트 생성"
   ]
  },
  {
   "cell_type": "markdown",
   "id": "edffa456-dd91-41b1-bb81-65d113dd444d",
   "metadata": {},
   "source": [
    "(대화 예시)\n",
    "```\n",
    "사용자:  지금 서울의 날씨가 어때?\n",
    "================================== Ai Message ==================================\n",
    "Tool Calls:\n",
    "  tavily_search (call_LBshVOFPi8aaOY4OMvQsg2xo)\n",
    " Call ID: call_LBshVOFPi8aaOY4OMvQsg2xo\n",
    "\n",
    " 사용자:  100 곱하기 2 는 얼마야?\n",
    "================================== Ai Message ==================================\n",
    "Tool Calls:\n",
    "  multiply (call_2E2bRfRICTDKAurlV8S6i7dm)\n",
    "```"
   ]
  },
  {
   "cell_type": "code",
   "execution_count": null,
   "id": "0d9383de",
   "metadata": {},
   "outputs": [],
   "source": [
    "def stream_graph_updates(user_input: str):\n",
    "    # 워크플로우를 스트리밍 모드로 실행 (사용자 입력 처리)\n",
    "            # 이벤트의 마지막 메시지 출력\n",
    "            # ToolMessage는 출력 제외\n",
    "            # if isinstance(last_msg, ToolMessage):\n",
    "            #     continue\n",
    "        # 워크플로우 실행"
   ]
  },
  {
   "cell_type": "markdown",
   "id": "bab8968c-0d19-4a34-ab40-a27bfad69837",
   "metadata": {},
   "source": [
    "----------------------\n",
    "우리는 `messages`를 상태로 사용하고, **도구가 바인딩된 채팅 모델**을 사용하는 그래프를 만들었습니다.\n",
    "\n",
    "이 그래프는 다음과 같은 동작을 할 수 있었습니다:  \n",
    "* 도구 호출을 반환\n",
    "* 자연어 응답을 반환\n",
    "\n",
    "# 라우터 (Router)\n",
    "\n",
    "1. **도구를 실제로 호출하는 노드**를 추가합니다.\n",
    "2. **조건부 엣지**를 추가하여, 채팅 모델의 출력을 확인한 뒤\n",
    "\n",
    "   * 도구 호출이 있다면 도구 노드로\n",
    "   * 도구 호출이 없다면 바로 종료 노드로 이동하도록 라우팅합니다.\n",
    "\n",
    "![라우터 예시 이미지](https://cdn.prod.website-files.com/65b8cd72835ceeacd4449a53/66dbac6543c3d4df239a4ed1_router1.png)"
   ]
  },
  {
   "cell_type": "code",
   "execution_count": null,
   "id": "f813a407",
   "metadata": {},
   "outputs": [],
   "source": [
    "def multiply(a: int, b: int) -> int:"
   ]
  },
  {
   "cell_type": "markdown",
   "id": "a8e86917-f757-40c6-b465-4addd2b6cb1c",
   "metadata": {},
   "source": [
    "우리는 [내장된 `ToolNode`](https://langchain-ai.github.io/langgraph/reference/prebuilt/?h=tools+condition#toolnode)를 사용하며,\n",
    "**초기화 시 도구 목록(list of tools)** 만 전달하면 됩니다.\n",
    "\n",
    "또한, [내장된 `tools_condition`](https://langchain-ai.github.io/langgraph/reference/prebuilt/?h=tools+condition#tools_condition)를\n",
    "**조건부 엣지(conditional edge)** 로 사용합니다."
   ]
  },
  {
   "cell_type": "code",
   "execution_count": null,
   "id": "ea638ea0",
   "metadata": {},
   "outputs": [],
   "source": [
    "# Node\n",
    "def tool_calling_llm(state: MessagesState):\n",
    "# Build graph\n",
    "    # 만약 assistant의 마지막 메시지(결과)가 도구 호출이면 -> tools_condition은 tools 노드로 이동합니다.\n",
    "    # 만약 assistant의 마지막 메시지가 도구 호출이 아니면 -> tools_condition은 END 노드로 이동합니다."
   ]
  },
  {
   "cell_type": "code",
   "execution_count": null,
   "id": "2d2a31a7",
   "metadata": {},
   "outputs": [],
   "source": []
  },
  {
   "cell_type": "code",
   "execution_count": null,
   "id": "a41b04d3",
   "metadata": {},
   "outputs": [],
   "source": []
  }
 ],
 "metadata": {
  "kernelspec": {
   "display_name": "Python 3 (ipykernel)",
   "language": "python",
   "name": "python3"
  },
  "language_info": {
   "codemirror_mode": {
    "name": "ipython",
    "version": 3
   },
   "file_extension": ".py",
   "mimetype": "text/x-python",
   "name": "python",
   "nbconvert_exporter": "python",
   "pygments_lexer": "ipython3",
   "version": "3.11.13"
  }
 },
 "nbformat": 4,
 "nbformat_minor": 5
}
