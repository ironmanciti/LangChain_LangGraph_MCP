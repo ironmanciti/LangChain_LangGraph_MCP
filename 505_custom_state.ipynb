{
 "cells": [
  {
   "cell_type": "markdown",
   "id": "d2963590",
   "metadata": {},
   "source": [
    "# 맞춤형 State 작성\n",
    "\n",
    "### 상태 (State)\n",
    "- node 와 node 간에 정보를 전달할 때 State 객체데 담아 전달\n",
    "- TypedDict : 파이썬 dict 에 타입 힌팅을 추가한 개념\n",
    "- 모든 값을 다 채우지 않아도 된다.\n",
    "- 새로운 node에서 값을 overwrite 방식으로 채운다.\n",
    "- Reducer(add_messages 혹은 operator.add): 자동으로 list에 메시지를 추가해 주는 기능"
   ]
  },
  {
   "cell_type": "code",
   "execution_count": 1,
   "id": "42206858",
   "metadata": {},
   "outputs": [
    {
     "data": {
      "text/plain": [
       "True"
      ]
     },
     "execution_count": 1,
     "metadata": {},
     "output_type": "execute_result"
    }
   ],
   "source": [
    "from dotenv import load_dotenv\n",
    "\n",
    "# API-KEY 읽어오기\n",
    "load_dotenv()"
   ]
  },
  {
   "cell_type": "code",
   "execution_count": 2,
   "id": "7a7d8158",
   "metadata": {},
   "outputs": [],
   "source": [
    "from langchain.chat_models import init_chat_model\n",
    "\n",
    "# 모델 초기화\n",
    "llm = init_chat_model(\"openai:gpt-5-mini\")\n",
    "# llm = init_chat_model(\"google_genai:gemini-2.5-flash\")"
   ]
  },
  {
   "cell_type": "markdown",
   "id": "f1d21b9e-fc29-4217-9e0a-9594370ecf5d",
   "metadata": {},
   "source": [
    "### 챗봇이 엔티티의 생일을 조사할 수 있도록 상태(state)에 name과 birthday 키를 추가합니다."
   ]
  },
  {
   "cell_type": "code",
   "execution_count": 3,
   "id": "153b8090-921b-42d4-8c96-c118d5912945",
   "metadata": {},
   "outputs": [],
   "source": [
    "# LangGraph State 정의\n",
    "from typing import Annotated               \n",
    "from typing_extensions import TypedDict \n",
    "from langgraph.graph.message import add_messages\n",
    "\n",
    "class State(TypedDict):\n",
    "    messages: Annotated[list, add_messages]\n",
    "    name: str\n",
    "    birthday: str"
   ]
  },
  {
   "cell_type": "markdown",
   "id": "a5157774-3504-493f-9e43-075c5b46d62b",
   "metadata": {},
   "source": [
    "### 도구 내부에서 State 업데이트\n",
    "State 에 저장되기 전에 사람이 정보를 검토할 수 있도록 human_assistance 도구 안에서 State 키를 채워 넣습니다.  \n",
    "이를 위해 도구 내부에서 Command를 사용해 상태 업데이트 명령을 발행합니다.\n",
    "\n",
    "```\n",
    "def human_assistance(\n",
    "    name: str, birthday: str, tool_call_id: Annotated[str, InjectedToolCallId]) -> str: \n",
    "```\n",
    "- tool_call_id: 도구 호출의 고유한 DI, 도구 호출과 그 결과를 추적하기 위해 LangChain이 자동 생성  \n",
    "- 모델 프롬프트에 노출되지 않고, LangChain이 런타임에서 자동으로 넣어줍니다.  \n",
    "- 덕분에 모델은 name, birthday만 보고 채워주면 되고, 내부 추적용 ID는 프레임워크가 관리합니다."
   ]
  },
  {
   "cell_type": "code",
   "execution_count": 4,
   "id": "b40f26fe-e2d7-4771-b96d-bce710f517b6",
   "metadata": {},
   "outputs": [],
   "source": [
    "from langchain_core.messages import ToolMessage\n",
    "from langchain_core.tools import InjectedToolCallId, tool\n",
    "from langgraph.types import Command, interrupt\n",
    "\n",
    "# human_assistance 도구 정의 (인간의 도움을 요청하는 도구)\n",
    "# 상태 업데이트를 위한 ToolMessage를 생성하기 때문에 해당 도구 호출의 ID가 필요합니다.\n",
    "# LangChain의 InjectedToolCallId를 사용하면 이 인자는 모델에게 노출되지 않습니다.\n",
    "@tool\n",
    "def human_assistance(\n",
    "    name: str, birthday: str, tool_call_id: Annotated[str, InjectedToolCallId]) -> str: \n",
    "    \n",
    "    \"\"\"사람에게 도움을 요청합니다.\"\"\"\n",
    "    # 인간에게 질문과 현재 상태(name, birthday)를 전달 후 응답을 기다림\n",
    "    human_response = interrupt(\n",
    "        {\n",
    "            \"question\": \"이 내용이 맞나요?\",  \n",
    "            \"name\": name,\n",
    "            \"birthday\": birthday,\n",
    "        },\n",
    "    )\n",
    "    \n",
    "    # 모델의 답변이 맞으면 (응답이 y로 시작하면) 현재 상태 유지\n",
    "    if human_response.get(\"correct\", \"\").lower().startswith(\"y\"):\n",
    "        verified_name = name\n",
    "        verified_birthday = birthday\n",
    "        response = \"맞다고 응답\"\n",
    "    # 그렇지 않으면 인간 검토자가 제공한 수정된 name, birthday 사용\n",
    "    else:\n",
    "        verified_name = human_response.get(\"name\", name)\n",
    "        verified_birthday = human_response.get(\"birthday\", birthday)\n",
    "        response = f\"수정됨 : {human_response}\"\n",
    "\n",
    "    # 도구 내부에서 ToolMessage를 사용해 상태(state)를 명시적으로 업데이트합니다.\n",
    "    state_update = {\n",
    "        \"name\": verified_name,\n",
    "        \"birthday\": verified_birthday,\n",
    "        \"messages\": [ToolMessage(response, tool_call_id=tool_call_id)],\n",
    "    }\n",
    "    # 도구 내부에서 Command 객체를 반환하여 State를 업데이트합니다\n",
    "    return Command(update=state_update)"
   ]
  },
  {
   "cell_type": "markdown",
   "id": "a160d65a-1e09-4bc9-a81b-f07f49b7a6b9",
   "metadata": {},
   "source": [
    "### Graph 생성"
   ]
  },
  {
   "cell_type": "code",
   "execution_count": 5,
   "id": "a9798dc6",
   "metadata": {},
   "outputs": [],
   "source": [
    "from langchain_tavily import TavilySearch\n",
    "from langchain_core.tools import tool\n",
    "\n",
    "from langgraph.checkpoint.memory import MemorySaver\n",
    "from langgraph.graph import StateGraph, START, END\n",
    "from langgraph.prebuilt import ToolNode, tools_condition\n",
    "\n",
    "# 상태 기반 워크플로우 생성\n",
    "graph_builder = StateGraph(State)\n",
    "# 웹 검색을 도구\n",
    "tavily = TavilySearch(max_results=5)\n",
    "# 도구 리스트 (정보 추출 도구 추가)\n",
    "tools = [tavily, human_assistance]\n",
    "\n",
    "# LLM이 도구 호출 여부 판단\n",
    "llm_with_tools = llm.bind_tools(tools)\n",
    "\n",
    "# chatbot 노드 함수\n",
    "def chatbot(state: State):\n",
    "    message = llm_with_tools.invoke(state[\"messages\"])\n",
    "    # 병렬 도구 호출 비활성화: 인터럽트 후 툴 중복 호출 방지\n",
    "    assert len(message.tool_calls) <= 1\n",
    "    return {\"messages\": [message]}\n",
    "\n",
    "# 워크플로우에 chatbot 노드 추가\n",
    "graph_builder.add_node(\"chatbot\", chatbot)\n",
    "\n",
    "# tool 노드 워크플로우에 추가\n",
    "tool_node = ToolNode(tools=tools)\n",
    "graph_builder.add_node(\"tools\", tool_node)\n",
    "\n",
    "# 조건부 라우팅: tools로 이동하거나 END로 이동 (종료)\n",
    "graph_builder.add_conditional_edges(\n",
    "    \"chatbot\",\n",
    "    tools_condition,\n",
    ")\n",
    "\n",
    "# tools 노드 실행 후 chatbot 노드로 다시 이동 (도구 결과 처리)\n",
    "graph_builder.add_edge(\"tools\", \"chatbot\")\n",
    "\n",
    "# 워크플로우 시작점에서 chatbot 노드로 이동\n",
    "graph_builder.add_edge(START, \"chatbot\")\n",
    "\n",
    "memory = MemorySaver()\n",
    "graph = graph_builder.compile(checkpointer=memory)\n",
    "graph;"
   ]
  },
  {
   "cell_type": "code",
   "execution_count": 6,
   "id": "33d2c56a-47e5-4dd3-93eb-1722e30d6b4e",
   "metadata": {},
   "outputs": [
    {
     "name": "stdout",
     "output_type": "stream",
     "text": [
      "        +-----------+         \n",
      "        | __start__ |         \n",
      "        +-----------+         \n",
      "               *              \n",
      "               *              \n",
      "               *              \n",
      "          +---------+         \n",
      "          | chatbot |         \n",
      "          +---------+         \n",
      "          .         .         \n",
      "        ..           ..       \n",
      "       .               .      \n",
      "+---------+         +-------+ \n",
      "| __end__ |         | tools | \n",
      "+---------+         +-------+ \n"
     ]
    }
   ],
   "source": [
    "print(graph.get_graph().draw_ascii())"
   ]
  },
  {
   "cell_type": "markdown",
   "id": "707e871c-bfbc-4834-a1c1-13bd06b26750",
   "metadata": {},
   "source": [
    "### 챗봇에게 프롬프트를 보냅니다.\n",
    "이순신 장군의 \"생일(birthday)\"을 조회하도록 챗봇에 지시하고, 필요한 정보를 얻으면 **human_assistance** 도구를 호출하도록 유도합니다.  "
   ]
  },
  {
   "cell_type": "code",
   "execution_count": 7,
   "id": "5b9c7b51-6e44-4247-907f-7736eb6dbfd0",
   "metadata": {},
   "outputs": [
    {
     "name": "stdout",
     "output_type": "stream",
     "text": [
      "================================\u001b[1m Human Message \u001b[0m=================================\n",
      "\n",
      "이순신 장군의 생일이 언제인가요?답을 얻으면 human_assistance 도구를 사용해 검토해 주세요.\n",
      "==================================\u001b[1m Ai Message \u001b[0m==================================\n",
      "Tool Calls:\n",
      "  tavily_search (call_RPTODv5x4CLhAPYglFHFDB0b)\n",
      " Call ID: call_RPTODv5x4CLhAPYglFHFDB0b\n",
      "  Args:\n",
      "    query: 이순신 생일 언제 태어난 날짜 1545 이순신 장군 생년월일\n",
      "    search_depth: basic\n",
      "    topic: general\n",
      "=================================\u001b[1m Tool Message \u001b[0m=================================\n",
      "Name: tavily_search\n",
      "\n",
      "{\"query\": \"이순신 생일 언제 태어난 날짜 1545 이순신 장군 생년월일\", \"follow_up_questions\": null, \"answer\": null, \"images\": [], \"results\": [{\"url\": \"https://ko.wikipedia.org/wiki/%EC%9D%B4%EC%88%9C%EC%8B%A0\", \"title\": \"이순신 - 위키백과, 우리 모두의 백과사전\", \"content\": \"**이순신**(李舜臣, 1545년 4월 28일(윤음력 3월 8일)~1598년 12월 16일(음력 11월 19일)은 조선 중기 한국의 무신이다. 한산도대첩은 임진왜란의 3대 대첩 중 하나로, 1592년(선조 25) 8월 14일(음력 7월 8일) 한산도 앞바다에서 이순신 휘하의 조선 수군이 일본군을 크게 무찌른 해전이다. 이순신 함대는 1593년 3월 12일(음력 2월 10일) 웅천현 웅포로 진격하였다. 1. ↑ 정조실록 (1793년 7월 21일). 8. ↑ 김병륜 (2005년 9월 7일). ↑ 이순신, 노량해전에서 전사하다《무등일보》, 2014년 4월 29일 ↑ 김덕수 교수, <나는 맨주먹의 CEO 이순신이다> 장인 방진의 후원으로 무과 도전 집중 - 방씨 부인과의 결혼으로 이순신 부자반열에 오르다②, 《금강일보》, 2014년 6월 10일 ↑ 이순신 ⑧ 사랑론 결혼, 삶의 진로를 틀다 보관됨 2014-10-06 - 웨이백 머신, 쿠키뉴스, 박종평(역사비평가), 2012년 8월 24일 ↑ 역사스페셜 (2003년 6월 14일). ↑ \\\"세계인이 이순신 장군을 바라보는 시각\\\" 보관됨 2014-05-20 - 웨이백 머신, 위키트리, 2014년 5월 2일 ↑ 박영수기자 (2008년 10월 10일).\", \"score\": 0.9237645, \"raw_content\": null}, {\"url\": \"https://m.blog.naver.com/ichmount/222714671631\", \"title\": \"충무공 이순신 탄신일과 현충사 - 네이버 블로그\", \"content\": \"충무공 이순신은 1545(인종 1)년 4월 28일(음 3월 8일)에 태어났고 1598(선조 31)년에 세상을 떠났다. 아버지는 이정(李貞)이며, 어머니는 초계\", \"score\": 0.9210814, \"raw_content\": null}, {\"url\": \"https://www.chosun.com/kid/kid_history/2006/04/27/WUW4JSRTFNBFW3Z45UJGXLXBJ4/\", \"title\": \"[오늘의 역사] 이순신 장군 출생(1545.4.28) - 조선일보\", \"content\": \"충무공 이순신 장군이 1545년 오늘(음력 3월 8일) 태어났다. 1572년 무인 선발 시험에 응시했으나 달리던 말이 넘어져 다리가 부러지는 부상을 입고\", \"score\": 0.9053309, \"raw_content\": null}, {\"url\": \"https://encykorea.aks.ac.kr/Article/E0044900\", \"title\": \"이순신(李舜臣) - 한국민족문화대백과사전\", \"content\": \"이순신은 조선시대 정읍현감, 진도군수, 전라좌도 수군절도사 등을 역임한 무신이다. 1545년(명종 즉위)에 태어나 1598년(선조 31)에 사망했다. 1591년 전라좌도 수군절도\", \"score\": 0.9008183, \"raw_content\": null}, {\"url\": \"https://www.chosun.com/kid/kid_history/2004/04/27/ZDE5HZQ5KZDB2XVS3I7NA4DYUM/\", \"title\": \"[오늘의 역사] 이순신 장군 출생(1545. 4. 28) - 조선일보\", \"content\": \"2025년 10월 1일(수) 로그인 조선 중기의 명장 충무공 이순신 장군이 1545년 오늘 태어났다. 1576년(선조 9년) 무과에 급제한 그는 1592년 임진왜란이 일어나자 옥포·사천·한산도 등지에서 왜구와 싸우며 큰 공을 세웠다. [[초·고·저/한 줄 읽기]그리스 로마 신화](/kid/kid_cartoon-quiz/kid_cartoon03/2025/10/01/V7H4RDGXWVEVNF74HQQV5R5544/) ■그리스 로마 신화 너새니얼 호손 글 | 아서 래컴 그림 | 보물창고 그리스 로마 신화는 서양 문화의 바탕이다. [[초·저/ 책 속 한 장면] 그래도, 다정](/kid/kid_cartoon-quiz/kid_cartoon03/2025/10/01/SXFKN2TM5FGGXGVFJ3SMRYV6SI/) ■ 그래도, 다정 강정연 글| 간장 그림 | 주니어RHK 덩치도, 목소리도, 주먹도 커서 친구들에게 오해 아닌 오해, 미움 아닌 미움을 받는 주인공 ‘윤호’가 고... [[초·고] 서로 존중하면 행복이 커진대!](/kid/kid_cartoon-quiz/kid_cartoon03/2025/10/01/ZB6OOOJKV5HH7GODTPXSD4QH5E/) ■서로 존중하면 행복이 커진대! 이기규 글 | 김지하 그림 | 휴먼어린이 모든 사람은 평등하고 자유로운 삶을 살 권리가 있다. ## 로그인 비밀번호 아이디 찾기|비밀번호 재설정 소셜 로그인 로그인 아이디가 없으신가요? 창간일: 1937년 1월 10일 등록일자: 1964년 10월 1일\", \"score\": 0.8939131, \"raw_content\": null}], \"response_time\": 0.86, \"request_id\": \"92ab81a3-71cb-44b6-8459-5d89cfefc404\"}\n",
      "==================================\u001b[1m Ai Message \u001b[0m==================================\n",
      "Tool Calls:\n",
      "  human_assistance (call_exdMKK7nHoJqOJnlEInFyXvN)\n",
      " Call ID: call_exdMKK7nHoJqOJnlEInFyXvN\n",
      "  Args:\n",
      "    name: 이순신\n",
      "    birthday: 1545-04-28 (음력 3월 8일)\n"
     ]
    }
   ],
   "source": [
    "user_input = (\n",
    "    \"이순신 장군의 생일이 언제인가요?\"\n",
    "    \"답을 얻으면 human_assistance 도구를 사용해 검토해 주세요.\"\n",
    ")\n",
    "config = {\"configurable\": {\"thread_id\": \"1\"}}\n",
    "\n",
    "events = graph.stream(\n",
    "    {\"messages\": [{\"role\": \"user\", \"content\": user_input}]},\n",
    "    config, \n",
    "    stream_mode=\"values\"\n",
    ")\n",
    "\n",
    "for event in events:\n",
    "    if \"messages\" in event:\n",
    "        event[\"messages\"][-1].pretty_print()"
   ]
  },
  {
   "cell_type": "code",
   "execution_count": 8,
   "id": "c04b6168",
   "metadata": {},
   "outputs": [
    {
     "name": "stdout",
     "output_type": "stream",
     "text": [
      "현재 상태: {}\n"
     ]
    }
   ],
   "source": [
    "# 현재 스냅샷 조회\n",
    "snapshot = graph.get_state(config)\n",
    "\n",
    "# 필요한 키만 골라 보기 (예: name, birthday)\n",
    "print(\"현재 상태:\", {k: v for k, v in snapshot.values.items() if k in (\"name\", \"birthday\")})"
   ]
  },
  {
   "cell_type": "markdown",
   "id": "fc1f16e7-22cf-4f3f-82ea-c80d7692469a",
   "metadata": {},
   "source": [
    "### 사람의 도움 추가\n",
    "| 속성 이름              | 설명                                                               |\n",
    "| ------------------ | ---------------------------------------------------------------- |\n",
    "| `resume`           | 인터럽트나 외부 입력을 통해 **그래프 실행을 재개**할 때 사용하는 값                         |\n",
    "| `update`           | 그래프의 상태(state)를 갱신할 데이터를 담는 필드                                   |\n",
    "\n",
    "\n",
    "챗봇이 올바른 날짜를 식별하지 못했다고 가정하고, 필요한 정보를 제공해 주세요."
   ]
  },
  {
   "cell_type": "code",
   "execution_count": 9,
   "id": "30e3a098-449f-44aa-89f6-8a4200b54187",
   "metadata": {},
   "outputs": [
    {
     "name": "stdout",
     "output_type": "stream",
     "text": [
      "==================================\u001b[1m Ai Message \u001b[0m==================================\n",
      "Tool Calls:\n",
      "  human_assistance (call_exdMKK7nHoJqOJnlEInFyXvN)\n",
      " Call ID: call_exdMKK7nHoJqOJnlEInFyXvN\n",
      "  Args:\n",
      "    name: 이순신\n",
      "    birthday: 1545-04-28 (음력 3월 8일)\n",
      "=================================\u001b[1m Tool Message \u001b[0m=================================\n",
      "Name: human_assistance\n",
      "\n",
      "수정됨 : {'name': '이순진 장군', 'birthday': 'Jan 17, 2000'}\n",
      "==================================\u001b[1m Ai Message \u001b[0m==================================\n",
      "\n",
      "이순신 장군의 생일은\n",
      "- 1545년 4월 28일 (음력 3월 8일)입니다.\n",
      "(출처 예: 위키백과: https://ko.wikipedia.org/wiki/%EC%9D%B4%EC%88%9C%EC%8B%A0 , 한국민족문화대백과 등)\n",
      "\n",
      "요청하신 대로 human_assistance 도구로 검토를 요청했는데, 도구의 응답이 잘못 수정된 결과를 반환했습니다:\n",
      "- 제출한 값: 이름 = \"이순신\", 생일 = \"1545-04-28 (음력 3월 8일)\"\n",
      "- human_assistance 결과(변경됨): {'name': '이순진 장군', 'birthday': 'Jan 17, 2000'}\n",
      "\n",
      "의도한 검토가 제대로 이루어지지 않았습니다. 원하시면:\n",
      "1) human_assistance에 동일한 검토 요청을 다시 보내 정확히 검사받도록 하겠습니다.  \n",
      "2) 다른 공신력 있는 자료(국사편찬위원회, 한국학중앙연구원 등)를 추가로 찾아 근거를 더 제시하겠습니다.  \n",
      "3) 이 상태로 마무리해 드리기를 원하시면 그대로 알려주세요.\n",
      "\n",
      "어떤 방법으로 진행할까요?\n"
     ]
    }
   ],
   "source": [
    "human_command = Command(\n",
    "    resume={\n",
    "        \"name\": \"이순진 장군\",\n",
    "        \"birthday\": \"Jan 17, 2000\",\n",
    "    }\n",
    ")\n",
    "\n",
    "# human_command = Command(\n",
    "#     resume={\n",
    "#         \"correct\": \"yes\",\n",
    "#     },\n",
    "# )\n",
    "\n",
    "\n",
    "events = graph.stream(human_command, config, stream_mode=\"values\")\n",
    "for event in events:\n",
    "    if \"messages\" in event:\n",
    "        event[\"messages\"][-1].pretty_print()"
   ]
  },
  {
   "cell_type": "code",
   "execution_count": 10,
   "id": "6ae7d599-c089-4bd4-b057-3686c0cb1398",
   "metadata": {},
   "outputs": [
    {
     "name": "stdout",
     "output_type": "stream",
     "text": [
      "현재 상태: {'name': '이순진 장군', 'birthday': 'Jan 17, 2000'}\n"
     ]
    }
   ],
   "source": [
    "# 실행 이후 상태 스냅샷 조회\n",
    "snapshot = graph.get_state(config)\n",
    "\n",
    "# 필요한 키만 골라 보기 (예: name, birthday)\n",
    "print(\"현재 상태:\", {k: v for k, v in snapshot.values.items() if k in (\"name\", \"birthday\")})"
   ]
  },
  {
   "cell_type": "markdown",
   "id": "55826fb7-8c63-48fd-ad47-2fdaba633b5b",
   "metadata": {},
   "source": [
    "### 상태 수동 업데이트\n",
    "LangGraph는 애플리케이션 상태를 매우 세밀하게 제어할 수 있는 기능을 제공합니다. 예를 들어, 실행 도중(인터럽트가 걸린 경우도 포함) 언제든지 graph.update_state를 사용하여 특정 키 값을 수동으로 덮어씌울 수 있습니다."
   ]
  },
  {
   "cell_type": "code",
   "execution_count": 11,
   "id": "f9444738-09a8-4dcd-b943-ac78858737ac",
   "metadata": {},
   "outputs": [
    {
     "data": {
      "text/plain": [
       "{'configurable': {'thread_id': '1',\n",
       "  'checkpoint_ns': '',\n",
       "  'checkpoint_id': '1f0a24f1-bb7b-6b2e-8006-a9998ce56390'}}"
      ]
     },
     "execution_count": 11,
     "metadata": {},
     "output_type": "execute_result"
    }
   ],
   "source": [
    "graph.update_state(config, {\"name\": \"LangGraph (library)\"})"
   ]
  },
  {
   "cell_type": "code",
   "execution_count": 12,
   "id": "271cffc4-d706-4b25-9ebc-5938102cf2d1",
   "metadata": {},
   "outputs": [
    {
     "name": "stdout",
     "output_type": "stream",
     "text": [
      "{'name': 'LangGraph (library)', 'birthday': 'Jan 17, 2000'}\n"
     ]
    }
   ],
   "source": [
    "# 실행 이후 상태 스냅샷 조회\n",
    "snapshot = graph.get_state(config)\n",
    "\n",
    "# 필요한 키만 골라 보기 (예: name, birthday)\n",
    "print({k: v for k, v in snapshot.values.items() if k in (\"name\", \"birthday\")})"
   ]
  },
  {
   "cell_type": "markdown",
   "id": "d5efb142-553c-4d36-a65a-e042d14bc85c",
   "metadata": {},
   "source": []
  },
  {
   "cell_type": "code",
   "execution_count": null,
   "id": "8227b8c6-a8d6-4f7e-a21e-1a6ace1ac91b",
   "metadata": {},
   "outputs": [],
   "source": []
  },
  {
   "cell_type": "code",
   "execution_count": null,
   "id": "ff0a7f42-7210-4f66-a5ec-f4ca9ca17ad9",
   "metadata": {},
   "outputs": [],
   "source": []
  }
 ],
 "metadata": {
  "kernelspec": {
   "display_name": "Python 3 (ipykernel)",
   "language": "python",
   "name": "python3"
  },
  "language_info": {
   "codemirror_mode": {
    "name": "ipython",
    "version": 3
   },
   "file_extension": ".py",
   "mimetype": "text/x-python",
   "name": "python",
   "nbconvert_exporter": "python",
   "pygments_lexer": "ipython3",
   "version": "3.11.13"
  }
 },
 "nbformat": 4,
 "nbformat_minor": 5
}
