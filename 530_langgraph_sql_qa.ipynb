{
 "cells": [
  {
   "cell_type": "markdown",
   "id": "7d139eed",
   "metadata": {
    "id": "9SaUhrmqNBTl"
   },
   "source": [
    "#  **SQL 데이터를 활용한 질문/응답(Q&A) 시스템 구축**\n",
    "\n",
    "LLM(대규모 언어 모델) 시스템이 **구조화된 데이터(structured data)** 를 쿼리하도록 만드는 것은 **비구조화된 텍스트(unstructured text data)** 를 처리하는 것과는 상당히 다른 접근 방식이 필요합니다.\n",
    "\n",
    "- **비구조화된 데이터:** 주로 벡터 데이터베이스를 사용하여 텍스트를 검색합니다.  \n",
    "- **구조화된 데이터:** LLM이 SQL과 같은 언어를 사용하여 **쿼리(query)**를 작성하고 실행합니다.\n",
    "\n",
    "다음 두 가지 구현 방식을 다룹니다:  \n",
    "1. **체인(Chains)**\n",
    "2. **에이전트(Agents)**\n",
    "\n",
    "이 시스템을 통해 **데이터베이스에 대한 질문을 자연어로 입력**하고, **자연어로 답변을 받을 수 있습니다.**\n",
    "\n",
    "- **체인:** 단일 SQL 쿼리를 실행하여 답변을 생성합니다.  \n",
    "- **에이전트:** 필요에 따라 여러 번 데이터베이스를 쿼리하여 답변을 생성합니다.\n",
    "---\n",
    "\n",
    "## **아키텍처 (Architecture)**\n",
    "\n",
    "1. **질문을 SQL 쿼리로 변환:**  \n",
    "   - 모델이 사용자 입력을 SQL 쿼리로 변환합니다.  \n",
    "2. **SQL 쿼리 실행:**   \n",
    "   - 변환된 SQL 쿼리를 데이터베이스에서 실행합니다.  \n",
    "3. **질문에 답변:**  \n",
    "   - 모델이 SQL 쿼리 결과를 바탕으로 사용자 질문에 대한 답변을 생성합니다.  "
   ]
  },
  {
   "cell_type": "code",
   "execution_count": 1,
   "id": "09ff0625",
   "metadata": {},
   "outputs": [
    {
     "data": {
      "text/plain": [
       "True"
      ]
     },
     "execution_count": 1,
     "metadata": {},
     "output_type": "execute_result"
    }
   ],
   "source": [
    "from dotenv import load_dotenv\n",
    "load_dotenv()"
   ]
  },
  {
   "cell_type": "code",
   "execution_count": 2,
   "id": "15f0adc1-7725-44fd-86b5-7c3d5c6ead78",
   "metadata": {},
   "outputs": [],
   "source": [
    "from langchain.chat_models import init_chat_model\n",
    "\n",
    "model = init_chat_model(\"gpt-5-mini\", model_provider=\"openai\")\n",
    "# model = init_chat_model(\"gemini-2.5-flash\", model_provider=\"google_genai\")"
   ]
  },
  {
   "cell_type": "markdown",
   "id": "c90169e7",
   "metadata": {
    "id": "PxA5MLayNBTo"
   },
   "source": [
    "### **샘플 데이터**\n",
    "\n",
    "이 예제에서는 **SQLite** 연결을 사용하여 **Chinook 데이터베이스**를 활용합니다.  \n",
    "Chinook 데이터베이스는 **디지털 미디어 스토어**를 나타내는 샘플 데이터베이스입니다.\n",
    "\n",
    "---\n",
    "\n",
    "##  **Chinook 데이터베이스 설치**\n",
    "\n",
    "[설치 가이드](https://database.guide/2-sample-databases-sqlite/)를 따라 `Chinook.db`를 현재 노트북과 같은 디렉터리에 생성합니다.  \n",
    "\n",
    "또는, 아래 명령어를 사용하여 커맨드 라인에서 데이터베이스를 다운로드하고 빌드할 수 있습니다:\n",
    "\n",
    "```bash\n",
    "curl -s https://raw.githubusercontent.com/lerocha/chinook-database/master/ChinookDatabase/DataSources/Chinook_Sqlite.sql | sqlite3 Chinook.db\n",
    "```\n",
    "\n",
    "### **설명:**  \n",
    "1. `curl` 명령어를 사용하여 Chinook 데이터베이스 SQL 스크립트를 다운로드합니다.  \n",
    "2. `sqlite3`를 사용해 SQL 스크립트를 실행하고 `Chinook.db` 파일을 생성합니다.\n",
    "\n",
    "---\n",
    "이 데이터베이스는 **SQLAlchemy 기반의 `SQLDatabase` 클래스**를 사용하여 상호작용할 수 있습니다."
   ]
  },
  {
   "cell_type": "code",
   "execution_count": 3,
   "id": "5e2263b0",
   "metadata": {},
   "outputs": [],
   "source": [
    "# SQLite3 설치 in Colab\n",
    "# !sudo apt-get update\n",
    "# !sudo apt-get install sqlite3"
   ]
  },
  {
   "cell_type": "code",
   "execution_count": 4,
   "id": "8d608d36",
   "metadata": {},
   "outputs": [],
   "source": [
    "# Chinook db 설치 in Colab\n",
    "# !curl -s https://raw.githubusercontent.com/lerocha/chinook-database/master/ChinookDatabase/DataSources/Chinook_Sqlite.sql | sqlite3 Chinook.db"
   ]
  },
  {
   "cell_type": "code",
   "execution_count": 5,
   "id": "890e073d",
   "metadata": {},
   "outputs": [
    {
     "name": "stdout",
     "output_type": "stream",
     "text": [
      "sqlite\n",
      "['Album', 'Artist', 'Customer', 'Employee', 'Genre', 'Invoice', 'InvoiceLine', 'MediaType', 'Playlist', 'PlaylistTrack', 'Track']\n"
     ]
    },
    {
     "data": {
      "text/plain": [
       "\"[(1, 'AC/DC'), (2, 'Accept'), (3, 'Aerosmith'), (4, 'Alanis Morissette'), (5, 'Alice In Chains'), (6, 'Antônio Carlos Jobim'), (7, 'Apocalyptica'), (8, 'Audioslave'), (9, 'BackBeat'), (10, 'Billy Cobham')]\""
      ]
     },
     "execution_count": 5,
     "metadata": {},
     "output_type": "execute_result"
    }
   ],
   "source": [
    "from langchain_community.utilities import SQLDatabase\n",
    "\n",
    "# SQLite 데이터베이스 파일 'Chinook.db'에 연결합니다.\n",
    "db = SQLDatabase.from_uri(\"sqlite:///Chinook.db\")\n",
    "\n",
    "# 사용 중인 데이터베이스의 SQL 방언(SQL Dialect)을 출력합니다.\n",
    "print(db.dialect)\n",
    "\n",
    "# 데이터베이스에서 사용할 수 있는 테이블 이름들을 출력합니다.\n",
    "print(db.get_usable_table_names())\n",
    "\n",
    "# Artist 테이블의 상위 10개 레코드를 조회합니다\n",
    "result = db.run(\"SELECT * FROM Artist LIMIT 10;\")\n",
    "result"
   ]
  },
  {
   "cell_type": "markdown",
   "id": "579f72d1",
   "metadata": {
    "id": "R0iAv4dqNBTp"
   },
   "source": [
    "##  **SQL 데이터베이스를 LLM과 연결하기**\n",
    "\n",
    "주어진 질문에 대해 다음 단계를 수행하는 일련의 단계를 LangGraph를 이용하여 만들어 보겠습니다:  \n",
    "\n",
    "- 1. 질문을 **SQL 쿼리로 변환**합니다.  \n",
    "- 2. 쿼리를 **실행**합니다.  \n",
    "- 3. 쿼리 **결과를 사용해 원래 질문에 답변**합니다.    \n",
    "\n",
    "이러한 시나리오는 **에이전트(Agents)** 를 이용하여 구현해야 합니다.\n",
    "\n",
    "---\n",
    "\n",
    "#### **애플리케이션 상태(Application State)**\n",
    "\n",
    "LangGraph의 **상태(State)** 는 애플리케이션에 입력되는 데이터, 단계 간에 전달되는 데이터, 그리고 출력되는 데이터를 제어합니다.  \n",
    "\n",
    "- 일반적으로 `TypedDict`로 정의됩니다.  \n",
    "- 또는, [**Pydantic BaseModel**](https://langchain-ai.github.io/langgraph/how-tos/state-model/)을 사용할 수도 있습니다.\n",
    "\n",
    "애플리케이션 상태에서는 다음 데이터를 추적합니다:  \n",
    "\n",
    "1. **입력된 질문 (Input Question)**  \n",
    "2. **생성된 SQL 쿼리 (Generated Query)**  \n",
    "3. **쿼리 결과 (Query Result)**  \n",
    "4. **생성된 답변 (Generated Answer)**  "
   ]
  },
  {
   "cell_type": "code",
   "execution_count": 6,
   "id": "049f7bc1",
   "metadata": {},
   "outputs": [],
   "source": [
    "from typing_extensions import TypedDict, Annotated\n",
    "\n",
    "# State 정의\n",
    "class State(TypedDict):\n",
    "    question: str    # 사용자로부터 입력받은 질문\n",
    "    query: str         # 질문을 변환하여 생성된 SQL 쿼리\n",
    "    result: str         # SQL 쿼리 실행 결과\n",
    "    answer: str      # 최종적으로 생성된 LLM 답변"
   ]
  },
  {
   "cell_type": "markdown",
   "id": "fddd2037",
   "metadata": {
    "id": "TR8FsjieNBTp"
   },
   "source": [
    "이제 이 상태(state)를 기반으로 작동하며 내용을 채워주는 **함수**들이 필요합니다.\n",
    "\n",
    "---\n",
    "\n",
    "#### **1. 질문을 SQL 쿼리로 변환하기**\n",
    "\n",
    "첫 번째 단계는 **사용자 입력을 SQL 쿼리로 변환**하는 것입니다.  \n",
    "SQL 쿼리를 신뢰성 있게 생성하기 위해 LangChain의 **구조화된 출력(structured output)** 추상화를 사용할 것입니다.\n",
    "\n",
    "---------\n",
    "이 프롬프트에는 **SQL 방언(dialect)** 과 **테이블 정보(table_info)** 와 같은 채워야 할 여러 매개변수들이 포함되어 있습니다.  \n",
    "\n",
    "LangChain의 [`SQLDatabase`](https://python.langchain.com/api_reference/community/utilities/langchain_community.utilities.sql_database.SQLDatabase.html) 객체에는 이러한 작업을 도와주는 메서드들이 포함되어 있습니다.  \n",
    "\n",
    "우리의 `write_query` 단계는 이 매개변수들을 채운 뒤, **모델을 프롬프트하여 SQL 쿼리를 생성**하도록 할 것입니다."
   ]
  },
  {
   "cell_type": "code",
   "execution_count": 7,
   "id": "0c911f2d-ec30-4655-9839-8844e46cc290",
   "metadata": {},
   "outputs": [
    {
     "name": "stdout",
     "output_type": "stream",
     "text": [
      "{'query': 'SELECT COUNT(*) AS EmployeeCount FROM Employee;'}\n"
     ]
    }
   ],
   "source": [
    "from langchain_core.prompts import ChatPromptTemplate\n",
    "\n",
    "# SQL 쿼리 프롬프트 템플릿 정의\n",
    "# ChatPromptTemplate을 사용해 시스템 메시지와 사용자 메시지를 구조화\n",
    "query_prompt = ChatPromptTemplate.from_messages([\n",
    "    (\"system\", \"\"\"당신은 SQL 전문가입니다. 주어진 질문을 SQL 쿼리로 변환하는 작업을 수행합니다.\n",
    "    다음 정보를 참고하여 SQL 쿼리를 작성하세요:\n",
    "    \n",
    "    방언(dialect): {dialect}\n",
    "    테이블 정보: {table_info}\n",
    "    최대 결과 수: {top_k}\n",
    "    \n",
    "    쿼리는 문법적으로 정확해야 하며, 질문에 대한 정확한 답을 제공해야 합니다.\"\"\"),\n",
    "    (\"human\", \"{input}\")  # 사용자의 실제 질문이 여기에 들어감\n",
    "])\n",
    "\n",
    "# TypedDict를 사용해 SQL 쿼리 출력 형식을 정의\n",
    "class QueryOutput(TypedDict):\n",
    "    \"\"\"생성된 SQL 쿼리를 저장하는 데이터 타입입니다.\"\"\"\n",
    "    query: Annotated[str, \"문법적으로 올바른 SQL 쿼리여야 합니다.\"]\n",
    "\n",
    "# 자연어 질문을 SQL 쿼리로 변환하는 함수 작성\n",
    "def write_query(state: State):\n",
    "    \"\"\"\n",
    "    사용자 질문을 바탕으로 정보를 검색하기 위한 SQL 쿼리를 생성합니다.\n",
    "    Args:\n",
    "        state: 사용자 질문이 포함된 상태 객체\n",
    "    Returns:\n",
    "        dict: 생성된 SQL 쿼리가 포함된 딕셔너리\n",
    "    \"\"\"\n",
    "    # 프롬프트 템플릿에 실제 값들을 주입하여 프롬프트 생성\n",
    "    prompt = query_prompt.invoke({\n",
    "        \"dialect\": db.dialect,        # 데이터베이스 방언 \n",
    "        \"top_k\": 10,                 # 최대 반환할 결과 수\n",
    "        \"table_info\": db.get_table_info(),  # 데이터베이스 테이블 스키마 정보\n",
    "        \"input\": state[\"question\"]    # 사용자가 입력한 질문\n",
    "    })\n",
    "    \n",
    "    # LLM이 구조화된 출력(QueryOutput 형식)을 반환하도록 설정\n",
    "    structured_llm = model.with_structured_output(QueryOutput)\n",
    "    \n",
    "    # LLM을 호출하여 SQL 쿼리 생성\n",
    "    result = structured_llm.invoke(prompt)\n",
    "    \n",
    "    # 생성된 쿼리를 상태 객체 형식으로 반환\n",
    "    return {\"query\": result[\"query\"]}\n",
    "\n",
    "# 함수 테스트 - 실제 질문으로 SQL 쿼리 생성 확인\n",
    "sql_result = write_query({\"question\": \"직원이 몇명 있나요?\"})\n",
    "print(sql_result) "
   ]
  },
  {
   "cell_type": "markdown",
   "id": "e5bf1fc0",
   "metadata": {
    "id": "GVMbNm2CNBTr"
   },
   "source": [
    "#### **2. 쿼리 실행 (Execute query)**\n",
    "\n",
    "**데이터베이스 연결 권한은 가능한 한 최소화**하세요.  \n",
    "또한, 쿼리를 실행하기 전에 **사람의 승인 단계(human approval step)** 를 체인에 추가하는 것을 고려하세요."
   ]
  },
  {
   "cell_type": "code",
   "execution_count": 8,
   "id": "c1559c02",
   "metadata": {},
   "outputs": [
    {
     "name": "stdout",
     "output_type": "stream",
     "text": [
      "{'result': '[(8,)]'}\n"
     ]
    }
   ],
   "source": [
    "from langchain_community.tools.sql_database.tool import QuerySQLDatabaseTool\n",
    "\n",
    "def execute_query(state: State):\n",
    "    \"\"\"\n",
    "    생성된 SQL 쿼리를 실제 데이터베이스에서 실행하는 함수\n",
    "    Args:\n",
    "        state: SQL 쿼리가 포함된 상태 객체 (state[\"query\"]에 SQL 쿼리 저장됨)\n",
    "    Returns:\n",
    "        dict: 쿼리 실행 결과가 포함된 딕셔너리\n",
    "    \"\"\"\n",
    "    # QuerySQLDatabaseTool을 사용하여 데이터베이스 쿼리 실행 도구 생성\n",
    "    # db 객체는 이미 연결된 데이터베이스 인스턴스\n",
    "    execute_query_tool = QuerySQLDatabaseTool(db=db)\n",
    "    \n",
    "    # state[\"query\"]에 저장된 SQL 쿼리를 실제 데이터베이스에서 실행\n",
    "    # 예: \"SELECT COUNT(*) FROM employees;\" 실행\n",
    "    result = execute_query_tool.invoke(state[\"query\"])\n",
    "    \n",
    "    # 쿼리 실행 결과를 상태 객체 형식으로 반환\n",
    "    # result는 문자열 형태의 쿼리 결과 (예: \"[(25,)]\" 또는 \"25명\")\n",
    "    return {\"result\": result}\n",
    "    \n",
    "# sql_result는 이전 write_query 함수에서 생성된 SQL 쿼리\n",
    "result = execute_query({\"query\": sql_result[\"query\"]})\n",
    "print(result) "
   ]
  },
  {
   "cell_type": "markdown",
   "id": "952e8a5a",
   "metadata": {
    "id": "2WkY0SAGNBTs"
   },
   "source": [
    "####  **3. 답변 생성 (Generate answer)**  \n",
    "\n",
    "마지막 단계에서는 **데이터베이스에서 가져온 정보**를 바탕으로 질문에 대한 **답변을 생성**합니다."
   ]
  },
  {
   "cell_type": "code",
   "execution_count": 9,
   "id": "03dedf26",
   "metadata": {},
   "outputs": [],
   "source": [
    "def generate_answer(state: State):\n",
    "    \"\"\"\n",
    "    SQL 쿼리 실행 결과를 바탕으로 사용자 질문에 대한 자연어 답변을 생성하는 함수\n",
    "    Args:\n",
    "        state: 사용자 질문, SQL 쿼리, 실행 결과가 모두 포함된 상태 객체\n",
    "               - state[\"question\"]: 사용자의 원래 질문\n",
    "               - state[\"query\"]: 생성된 SQL 쿼리  \n",
    "               - state[\"result\"]: SQL 실행 결과\n",
    "    Returns:\n",
    "        dict: 최종 자연어 답변이 포함된 딕셔너리\n",
    "    \"\"\"\n",
    "    # LLM에게 전달할 프롬프트 구성\n",
    "    # 사용자 질문, SQL 쿼리, 실행 결과를 모두 포함하여 컨텍스트 제공\n",
    "    prompt = (\n",
    "        \"다음 사용자 질문, 해당 SQL 쿼리, 그리고 SQL 결과를 바탕으로 사용자 질문에 답하세요.\\n\\n\"\n",
    "        f'Question: {state[\"question\"]}\\n'     # 원래 사용자 질문 (예: \"직원이 몇명 있나요?\")\n",
    "        f'SQL Query: {state[\"query\"]}\\n'       # 생성된 SQL (예: \"SELECT COUNT(*) FROM employees;\")\n",
    "        f'SQL Result: {state[\"result\"]}'       # 실행 결과 (예: \"[(25,)]\")\n",
    "    )\n",
    "    \n",
    "    # LLM을 호출하여 자연어 답변 생성\n",
    "    # 예: \"현재 총 25명의 직원이 있습니다.\"\n",
    "    response = model.invoke(prompt)\n",
    "    \n",
    "    # 생성된 답변을 상태 객체 형식으로 반환\n",
    "    return {'answer': response.content}"
   ]
  },
  {
   "cell_type": "markdown",
   "id": "549d207a",
   "metadata": {
    "id": "g0gH5i9BNBTs"
   },
   "source": [
    "#### **LangGraph를 사용한 오케스트레이션 (Orchestrating with LangGraph)**  \n",
    "\n",
    "마지막으로, 우리의 애플리케이션을 하나의 **`graph` 객체**로 컴파일합니다.  \n",
    "이 경우, **세 가지 단계를 순서(sequence)** 로 연결하기만 하면 됩니다."
   ]
  },
  {
   "cell_type": "code",
   "execution_count": 10,
   "id": "351c63a9",
   "metadata": {},
   "outputs": [
    {
     "data": {
      "image/png": "[encoded data removed]",
      "text/plain": [
       "<langgraph.graph.state.CompiledStateGraph object at 0x1133e0910>"
      ]
     },
     "execution_count": 10,
     "metadata": {},
     "output_type": "execute_result"
    }
   ],
   "source": [
    "from langgraph.graph import START, StateGraph\n",
    "\n",
    "# 위의 3 단계를 연결한 StateGraph 생성\n",
    "workflow = StateGraph(State).add_sequence(\n",
    "    [write_query, execute_query, generate_answer]\n",
    ")\n",
    "\n",
    "# 그래프의 시작점(START)과 첫 번째 단계(write_query) 연결\n",
    "workflow.add_edge(START, \"write_query\")\n",
    "\n",
    "# 정의된 단계와 연결 관계를 기반으로 최종 그래프 생성\n",
    "app = workflow.compile()\n",
    "app"
   ]
  },
  {
   "cell_type": "markdown",
   "id": "3551b864",
   "metadata": {
    "id": "pT3Czu3NNBTs"
   },
   "source": [
    "각 단계를 개별적으로 **스트리밍(stream)** 하여 결과를 확인할 수 있습니다."
   ]
  },
  {
   "cell_type": "code",
   "execution_count": 11,
   "id": "7feb22b0",
   "metadata": {},
   "outputs": [
    {
     "name": "stdout",
     "output_type": "stream",
     "text": [
      "{'write_query': {'query': 'SELECT COUNT(*) AS EmployeeCount FROM Employee;'}}\n",
      "{'execute_query': {'result': '[(8,)]'}}\n",
      "{'generate_answer': {'answer': '직원은 총 8명입니다.'}}\n"
     ]
    }
   ],
   "source": [
    "for step in app.stream(\n",
    "    {\"question\": \"직원이 몇명인가요?\"},\n",
    "    stream_mode=\"updates\"\n",
    "):\n",
    "    print(step)"
   ]
  },
  {
   "cell_type": "markdown",
   "id": "3405cee6",
   "metadata": {
    "id": "Cy_ENnTINBTt"
   },
   "source": [
    "####  **Human-in-the-loop (인간 개입 단계)**  \n",
    "\n",
    "- 이 기능을 사용하면 **민감한 단계**(예: SQL 쿼리 실행) 전에 애플리케이션을 **중단(interrupt)** 하고 **사람이 검토(human review)** 할 수 있습니다.  \n",
    "\n",
    "- 이 기능은 LangGraph의 **[persistence(영속성)](https://langchain-ai.github.io/langgraph/concepts/persistence/)** 레이어를 통해 지원됩니다.  \n",
    "- 이 레이어는 애플리케이션의 실행 진행 상태(run progress)를 사용자가 선택한 저장소(storage)에 저장합니다.  \n",
    "\n",
    "아래 예시에서는 **인메모리(in-memory)** 저장소를 지정합니다."
   ]
  },
  {
   "cell_type": "code",
   "execution_count": 12,
   "id": "6801c9ee-c61f-4bf8-843d-cf6a9dfeec85",
   "metadata": {},
   "outputs": [],
   "source": [
    "from langgraph.checkpoint.memory import MemorySaver\n",
    "\n",
    "memory = MemorySaver()\n",
    "\n",
    "# 위의 3 단계를 연결한 StateGraph 생성\n",
    "workflow = StateGraph(State).add_sequence(\n",
    "    [write_query, execute_query, generate_answer]\n",
    ")\n",
    "\n",
    "# 그래프의 시작점(START)과 첫 번째 단계(write_query) 연결\n",
    "workflow.add_edge(START, \"write_query\")\n",
    "\n",
    "# 정의된 단계와 연결 관계를 기반으로 최종 그래프 생성\n",
    "app = workflow.compile(checkpointer=memory, interrupt_before=['execute_query'])\n",
    "app;"
   ]
  },
  {
   "cell_type": "code",
   "execution_count": 13,
   "id": "c225e55f-a7f0-48b4-81b7-463afab01775",
   "metadata": {},
   "outputs": [
    {
     "name": "stdout",
     "output_type": "stream",
     "text": [
      "{'write_query': {'query': 'SELECT COUNT(*) AS employee_count FROM Employee;'}}\n",
      "{'__interrupt__': ()}\n"
     ]
    }
   ],
   "source": [
    "# 영속성을 사용할 때는 실행을 이어갈 수 있도록 고유 식별 스레드 ID를 지정\n",
    "config = {\"configurable\": {\"thread_id\": \"1\"}}\n",
    "\n",
    "for step in app.stream(\n",
    "    {\"question\": \"직원이 몇명인가요?\"},\n",
    "    stream_mode=\"updates\",\n",
    "    config=config\n",
    "):\n",
    "    print(step)"
   ]
  },
  {
   "cell_type": "markdown",
   "id": "bd364ae6",
   "metadata": {
    "id": "MpcWQfTLNBTt"
   },
   "source": [
    "----------\n",
    "동일한 실행(run)을 반복하되, 간단한 **예/아니오(yes/no) 승인 단계**를 추가해보겠습니다."
   ]
  },
  {
   "cell_type": "code",
   "execution_count": 14,
   "id": "3ab4eea0-5327-458f-90a2-b36e45a19f2f",
   "metadata": {},
   "outputs": [
    {
     "name": "stdout",
     "output_type": "stream",
     "text": [
      "첫 번째 실행 결과:\n",
      "{'question': '직원이 몇 명 있나요?', 'query': 'SELECT COUNT(*) AS EmployeeCount FROM Employee;'}\n"
     ]
    },
    {
     "name": "stdin",
     "output_type": "stream",
     "text": [
      "쿼리를 실행하시겠습니까? (yes/no):  yes\n"
     ]
    },
    {
     "name": "stdout",
     "output_type": "stream",
     "text": [
      "최종 실행 결과:\n",
      "{'question': '직원이 몇 명 있나요?', 'query': 'SELECT COUNT(*) AS EmployeeCount FROM Employee;', 'result': '[(8,)]', 'answer': '총 8명입니다. (Employee 테이블의 COUNT(*) 결과 = 8)'}\n"
     ]
    }
   ],
   "source": [
    "# 영속성을 사용할 때는 실행을 이어갈 수 있도록 고유 식별 스레드 ID를 지정\n",
    "config = {\"configurable\": {\"thread_id\": \"1\"}}\n",
    "\n",
    "# 그래프 실행 - invoke로 전체 워크플로우 실행하여 최종 결과 받기\n",
    "result = app.invoke(\n",
    "    {\"question\": \"직원이 몇 명 있나요?\"},    # 사용자 입력 질문\n",
    "    config         # 스레드 ID 및 설정 정보\n",
    ")\n",
    "print(\"첫 번째 실행 결과:\")\n",
    "print(result)  # 전체 실행 결과 출력 (중단 지점까지의 결과)\n",
    "\n",
    "# execute_query 단계 전에 사용자 승인 여부 확인\n",
    "try:\n",
    "    user_approval = input(\"쿼리를 실행하시겠습니까? (yes/no): \")  # 사용자 승인 입력\n",
    "except Exception:\n",
    "    user_approval = \"no\"  # 예외 발생 시 기본값으로 'no' 설정\n",
    "    \n",
    "# 승인 확인\n",
    "if user_approval.lower() == \"yes\":\n",
    "    # 중단된 지점부터 계속 실행하여 최종 결과 받기\n",
    "    final_result = app.invoke(\n",
    "        None,      # 입력 없음 (이전 상태에서 계속)\n",
    "        config     # 동일한 스레드 ID로 이어서 실행\n",
    "    )\n",
    "    print(\"최종 실행 결과:\")\n",
    "    print(final_result)  # 전체 워크플로우 완료 후 최종 결과\n",
    "else:\n",
    "    # 사용자가 'no'를 입력한 경우, 실행 중단\n",
    "    print(\"사용자가 작업을 취소했습니다.\")"
   ]
  },
  {
   "cell_type": "markdown",
   "id": "2ac192a9",
   "metadata": {
    "id": "eLZMCQkyNBTt"
   },
   "source": [
    "##  **에이전트(Agents) 사용**\n",
    "\n",
    "**에이전트(Agents)** 는 **LLM의 추론(reasoning) 능력**을 활용하여 실행 중에 결정을 내립니다.  \n",
    "에이전트를 사용하면 **쿼리 생성 및 실행 과정의 추가적인 판단(discretion)** 을 LLM에 맡길 수 있습니다.  \n",
    "\n",
    "**에이전트**에는 몇 가지 장점이 있습니다:\n",
    "\n",
    "- 사용자 질문에 답하기 위해 **필요한 만큼 데이터베이스를 여러 번 쿼리**할 수 있습니다.  \n",
    "- 생성된 쿼리를 실행하다 오류가 발생하면, **오류(traceback)를 포착**하여 올바르게 **재생성(regenerate)** 할 수 있습니다.  \n",
    "- 데이터베이스의 **스키마(schema)** 와 **내용(content)** 모두를 기반으로 질문에 답할 수 있습니다 (예: 특정 테이블 설명).  \n",
    "\n",
    "**LangGraph의 [사전 구축된 ReAct 에이전트 생성자(pre-built ReAct agent constructor)](https://langchain-ai.github.io/langgraph/how-tos/#langgraph.prebuilt.chat_agent_executor.create_react_agent)** 를 사용하면 **한 줄의 코드**로 이를 수행할 수 있습니다.\n",
    "\n",
    "---\n",
    "LangChain의 [**SQLDatabaseToolkit**](https://python.langchain.com/api_reference/community/agent_toolkits/langchain_community.agent_toolkits.sql.toolkit.SQLDatabaseToolkit.html)을 사용하여 도구(tool) 세트를 제공합니다. \n",
    "\n",
    "`SQLDatabaseToolkit`에는 다음과 같은 도구들이 포함됩니다:\n",
    "\n",
    "- **쿼리 생성 및 실행(Create and execute queries)**  \n",
    "- **쿼리 구문 검증(Check query syntax)**  \n",
    "- **테이블 설명 가져오기(Retrieve table descriptions)**  \n",
    "- **기타 여러 기능(... and more)**  "
   ]
  },
  {
   "cell_type": "code",
   "execution_count": 15,
   "id": "efe6ca11",
   "metadata": {},
   "outputs": [
    {
     "data": {
      "text/plain": [
       "['sql_db_query', 'sql_db_schema', 'sql_db_list_tables', 'sql_db_query_checker']"
      ]
     },
     "execution_count": 15,
     "metadata": {},
     "output_type": "execute_result"
    }
   ],
   "source": [
    "from langchain_community.agent_toolkits import SQLDatabaseToolkit\n",
    "\n",
    "# SQLDatabaseToolkit은 LLM과 데이터베이스(SQL)를 연결하기 위한 도구 세트\n",
    "toolkit = SQLDatabaseToolkit(db=db, llm=model)\n",
    "\n",
    "# SQLDatabaseToolkit에서 사용할 수 있는 모든 도구를 가져옵니다.\n",
    "tools = toolkit.get_tools()\n",
    "\n",
    "tool_names = [tool.name for tool in tools]\n",
    "tool_names"
   ]
  },
  {
   "cell_type": "code",
   "execution_count": 16,
   "id": "04493bca-048d-4a11-abd3-69c37fe2a492",
   "metadata": {},
   "outputs": [],
   "source": [
    "prompt_template = (\n",
    "    \"\"\"\n",
    "    당신은 SQL 전문가입니다. 주어진 질문에 답하기 위해 반드시 다음 순서를 따라 작업을 완료하세요:\n",
    "    \n",
    "    **필수 작업 순서:**\n",
    "    1. 질문을 분석하여 적절한 SQL 쿼리를 작성하세요\n",
    "    2. 작성한 SQL 쿼리를 반드시 sql_db_query 도구를 사용해서 실행하세요\n",
    "    3. 실행 결과를 바탕으로 사용자 질문에 대한 명확한 답변을 제공하세요\n",
    "    \n",
    "    **데이터베이스 정보:**\n",
    "    - 방언(dialect): {dialect}\n",
    "    - 테이블 정보: {table_info}\n",
    "    - 최대 결과 수: {top_k}\n",
    "    \n",
    "    **중요 지침:**\n",
    "    - 쿼리는 문법적으로 정확해야 하며, 질문에 대한 정확한 답을 제공해야 합니다\n",
    "    - SQL 쿼리를 제안만 하지 말고, 반드시 실제로 실행하여 결과를 확인하세요\n",
    "    - 실행 결과 없이는 답변을 완료한 것이 아닙니다\n",
    "    - 도구 실행 후 나온 결과를 사용자가 이해하기 쉽게 해석해서 답변하세요\n",
    "    \n",
    "    **사용 가능한 도구:**\n",
    "    - sql_db_query: SQL 쿼리를 실행하여 실제 데이터를 조회하는 도구\n",
    "    \"\"\"\n",
    ")"
   ]
  },
  {
   "cell_type": "markdown",
   "id": "c32c391f",
   "metadata": {
    "id": "uhVExio9NBTy"
   },
   "source": [
    "프롬프트에서 강조된 **매개변수(parameters)** 를 채워보겠습니다."
   ]
  },
  {
   "cell_type": "code",
   "execution_count": 17,
   "id": "5eff453b",
   "metadata": {},
   "outputs": [
    {
     "data": {
      "text/plain": [
       "'\\n    당신은 SQL 전문가입니다. 주어진 질문에 답하기 위해 반드시 다음 순서를 따라 작업을 완료하세요:\\n\\n    **필수 작업 순서:**\\n    1. 질문을 분석하여 적절한 SQL 쿼리를 작성하세요\\n    2. 작성한 SQL 쿼리를 반드시 sql_db_query 도구를 사용해서 실행하세요\\n    3. 실행 결과를 바탕으로 사용자 질문에 대한 명확한 답변을 제공하세요\\n\\n    **데이터베이스 정보:**\\n    - 방언(dialect): SQLite\\n    - 테이블 정보: \\nCREATE TABLE \"Album\" (\\n\\t\"AlbumId\" INTEGER NOT NULL, \\n\\t\"Title\" NVARCHAR(160) NOT NULL, \\n\\t\"ArtistId\" INTEGER NOT NULL, \\n\\tPRIMARY KEY (\"AlbumId\"), \\n\\tFOREIGN KEY(\"ArtistId\") REFERENCES \"Artist\" (\"ArtistId\")\\n)\\n\\n/*\\n3 rows from Album table:\\nAlbumId\\tTitle\\tArtistId\\n1\\tFor Those About To Rock We Salute You\\t1\\n2\\tBalls to the Wall\\t2\\n3\\tRestless and Wild\\t2\\n*/\\n\\n\\nCREATE TABLE \"Artist\" (\\n\\t\"ArtistId\" INTEGER NOT NULL, \\n\\t\"Name\" NVARCHAR(120), \\n\\tPRIMARY KEY (\"ArtistId\")\\n)\\n\\n/*\\n3 rows from Artist table:\\nArtistId\\tName\\n1\\tAC/DC\\n2\\tAccept\\n3\\tAerosmith\\n*/\\n\\n\\nCREATE TABLE \"Customer\" (\\n\\t\"CustomerId\" INTEGER NOT NULL, \\n\\t\"FirstName\" NVARCHAR(40) NOT NULL, \\n\\t\"LastName\" NVARCHAR(20) NOT NULL, \\n\\t\"Company\" NVARCHAR(80), \\n\\t\"Address\" NVARCHAR(70), \\n\\t\"City\" NVARCHAR(40), \\n\\t\"State\" NVARCHAR(40), \\n\\t\"Country\" NVARCHAR(40), \\n\\t\"PostalCode\" NVARCHAR(10), \\n\\t\"Phone\" NVARCHAR(24), \\n\\t\"Fax\" NVARCHAR(24), \\n\\t\"Email\" NVARCHAR(60) NOT NULL, \\n\\t\"SupportRepId\" INTEGER, \\n\\tPRIMARY KEY (\"CustomerId\"), \\n\\tFOREIGN KEY(\"SupportRepId\") REFERENCES \"Employee\" (\"EmployeeId\")\\n)\\n\\n/*\\n3 rows from Customer table:\\nCustomerId\\tFirstName\\tLastName\\tCompany\\tAddress\\tCity\\tState\\tCountry\\tPostalCode\\tPhone\\tFax\\tEmail\\tSupportRepId\\n1\\tLuís\\tGonçalves\\tEmbraer - Empresa Brasileira de Aeronáutica S.A.\\tAv. Brigadeiro Faria Lima, 2170\\tSão José dos Campos\\tSP\\tBrazil\\t12227-000\\t+55 (12) 3923-5555\\t+55 (12) 3923-5566\\tluisg@embraer.com.br\\t3\\n2\\tLeonie\\tKöhler\\tNone\\tTheodor-Heuss-Straße 34\\tStuttgart\\tNone\\tGermany\\t70174\\t+49 0711 2842222\\tNone\\tleonekohler@surfeu.de\\t5\\n3\\tFrançois\\tTremblay\\tNone\\t1498 rue Bélanger\\tMontréal\\tQC\\tCanada\\tH2G 1A7\\t+1 (514) 721-4711\\tNone\\tftremblay@gmail.com\\t3\\n*/\\n\\n\\nCREATE TABLE \"Employee\" (\\n\\t\"EmployeeId\" INTEGER NOT NULL, \\n\\t\"LastName\" NVARCHAR(20) NOT NULL, \\n\\t\"FirstName\" NVARCHAR(20) NOT NULL, \\n\\t\"Title\" NVARCHAR(30), \\n\\t\"ReportsTo\" INTEGER, \\n\\t\"BirthDate\" DATETIME, \\n\\t\"HireDate\" DATETIME, \\n\\t\"Address\" NVARCHAR(70), \\n\\t\"City\" NVARCHAR(40), \\n\\t\"State\" NVARCHAR(40), \\n\\t\"Country\" NVARCHAR(40), \\n\\t\"PostalCode\" NVARCHAR(10), \\n\\t\"Phone\" NVARCHAR(24), \\n\\t\"Fax\" NVARCHAR(24), \\n\\t\"Email\" NVARCHAR(60), \\n\\tPRIMARY KEY (\"EmployeeId\"), \\n\\tFOREIGN KEY(\"ReportsTo\") REFERENCES \"Employee\" (\"EmployeeId\")\\n)\\n\\n/*\\n3 rows from Employee table:\\nEmployeeId\\tLastName\\tFirstName\\tTitle\\tReportsTo\\tBirthDate\\tHireDate\\tAddress\\tCity\\tState\\tCountry\\tPostalCode\\tPhone\\tFax\\tEmail\\n1\\tAdams\\tAndrew\\tGeneral Manager\\tNone\\t1962-02-18 00:00:00\\t2002-08-14 00:00:00\\t11120 Jasper Ave NW\\tEdmonton\\tAB\\tCanada\\tT5K 2N1\\t+1 (780) 428-9482\\t+1 (780) 428-3457\\tandrew@chinookcorp.com\\n2\\tEdwards\\tNancy\\tSales Manager\\t1\\t1958-12-08 00:00:00\\t2002-05-01 00:00:00\\t825 8 Ave SW\\tCalgary\\tAB\\tCanada\\tT2P 2T3\\t+1 (403) 262-3443\\t+1 (403) 262-3322\\tnancy@chinookcorp.com\\n3\\tPeacock\\tJane\\tSales Support Agent\\t2\\t1973-08-29 00:00:00\\t2002-04-01 00:00:00\\t1111 6 Ave SW\\tCalgary\\tAB\\tCanada\\tT2P 5M5\\t+1 (403) 262-3443\\t+1 (403) 262-6712\\tjane@chinookcorp.com\\n*/\\n\\n\\nCREATE TABLE \"Genre\" (\\n\\t\"GenreId\" INTEGER NOT NULL, \\n\\t\"Name\" NVARCHAR(120), \\n\\tPRIMARY KEY (\"GenreId\")\\n)\\n\\n/*\\n3 rows from Genre table:\\nGenreId\\tName\\n1\\tRock\\n2\\tJazz\\n3\\tMetal\\n*/\\n\\n\\nCREATE TABLE \"Invoice\" (\\n\\t\"InvoiceId\" INTEGER NOT NULL, \\n\\t\"CustomerId\" INTEGER NOT NULL, \\n\\t\"InvoiceDate\" DATETIME NOT NULL, \\n\\t\"BillingAddress\" NVARCHAR(70), \\n\\t\"BillingCity\" NVARCHAR(40), \\n\\t\"BillingState\" NVARCHAR(40), \\n\\t\"BillingCountry\" NVARCHAR(40), \\n\\t\"BillingPostalCode\" NVARCHAR(10), \\n\\t\"Total\" NUMERIC(10, 2) NOT NULL, \\n\\tPRIMARY KEY (\"InvoiceId\"), \\n\\tFOREIGN KEY(\"CustomerId\") REFERENCES \"Customer\" (\"CustomerId\")\\n)\\n\\n/*\\n3 rows from Invoice table:\\nInvoiceId\\tCustomerId\\tInvoiceDate\\tBillingAddress\\tBillingCity\\tBillingState\\tBillingCountry\\tBillingPostalCode\\tTotal\\n1\\t2\\t2021-01-01 00:00:00\\tTheodor-Heuss-Straße 34\\tStuttgart\\tNone\\tGermany\\t70174\\t1.98\\n2\\t4\\t2021-01-02 00:00:00\\tUllevålsveien 14\\tOslo\\tNone\\tNorway\\t0171\\t3.96\\n3\\t8\\t2021-01-03 00:00:00\\tGrétrystraat 63\\tBrussels\\tNone\\tBelgium\\t1000\\t5.94\\n*/\\n\\n\\nCREATE TABLE \"InvoiceLine\" (\\n\\t\"InvoiceLineId\" INTEGER NOT NULL, \\n\\t\"InvoiceId\" INTEGER NOT NULL, \\n\\t\"TrackId\" INTEGER NOT NULL, \\n\\t\"UnitPrice\" NUMERIC(10, 2) NOT NULL, \\n\\t\"Quantity\" INTEGER NOT NULL, \\n\\tPRIMARY KEY (\"InvoiceLineId\"), \\n\\tFOREIGN KEY(\"TrackId\") REFERENCES \"Track\" (\"TrackId\"), \\n\\tFOREIGN KEY(\"InvoiceId\") REFERENCES \"Invoice\" (\"InvoiceId\")\\n)\\n\\n/*\\n3 rows from InvoiceLine table:\\nInvoiceLineId\\tInvoiceId\\tTrackId\\tUnitPrice\\tQuantity\\n1\\t1\\t2\\t0.99\\t1\\n2\\t1\\t4\\t0.99\\t1\\n3\\t2\\t6\\t0.99\\t1\\n*/\\n\\n\\nCREATE TABLE \"MediaType\" (\\n\\t\"MediaTypeId\" INTEGER NOT NULL, \\n\\t\"Name\" NVARCHAR(120), \\n\\tPRIMARY KEY (\"MediaTypeId\")\\n)\\n\\n/*\\n3 rows from MediaType table:\\nMediaTypeId\\tName\\n1\\tMPEG audio file\\n2\\tProtected AAC audio file\\n3\\tProtected MPEG-4 video file\\n*/\\n\\n\\nCREATE TABLE \"Playlist\" (\\n\\t\"PlaylistId\" INTEGER NOT NULL, \\n\\t\"Name\" NVARCHAR(120), \\n\\tPRIMARY KEY (\"PlaylistId\")\\n)\\n\\n/*\\n3 rows from Playlist table:\\nPlaylistId\\tName\\n1\\tMusic\\n2\\tMovies\\n3\\tTV Shows\\n*/\\n\\n\\nCREATE TABLE \"PlaylistTrack\" (\\n\\t\"PlaylistId\" INTEGER NOT NULL, \\n\\t\"TrackId\" INTEGER NOT NULL, \\n\\tPRIMARY KEY (\"PlaylistId\", \"TrackId\"), \\n\\tFOREIGN KEY(\"TrackId\") REFERENCES \"Track\" (\"TrackId\"), \\n\\tFOREIGN KEY(\"PlaylistId\") REFERENCES \"Playlist\" (\"PlaylistId\")\\n)\\n\\n/*\\n3 rows from PlaylistTrack table:\\nPlaylistId\\tTrackId\\n1\\t3402\\n1\\t3389\\n1\\t3390\\n*/\\n\\n\\nCREATE TABLE \"Track\" (\\n\\t\"TrackId\" INTEGER NOT NULL, \\n\\t\"Name\" NVARCHAR(200) NOT NULL, \\n\\t\"AlbumId\" INTEGER, \\n\\t\"MediaTypeId\" INTEGER NOT NULL, \\n\\t\"GenreId\" INTEGER, \\n\\t\"Composer\" NVARCHAR(220), \\n\\t\"Milliseconds\" INTEGER NOT NULL, \\n\\t\"Bytes\" INTEGER, \\n\\t\"UnitPrice\" NUMERIC(10, 2) NOT NULL, \\n\\tPRIMARY KEY (\"TrackId\"), \\n\\tFOREIGN KEY(\"MediaTypeId\") REFERENCES \"MediaType\" (\"MediaTypeId\"), \\n\\tFOREIGN KEY(\"GenreId\") REFERENCES \"Genre\" (\"GenreId\"), \\n\\tFOREIGN KEY(\"AlbumId\") REFERENCES \"Album\" (\"AlbumId\")\\n)\\n\\n/*\\n3 rows from Track table:\\nTrackId\\tName\\tAlbumId\\tMediaTypeId\\tGenreId\\tComposer\\tMilliseconds\\tBytes\\tUnitPrice\\n1\\tFor Those About To Rock (We Salute You)\\t1\\t1\\t1\\tAngus Young, Malcolm Young, Brian Johnson\\t343719\\t11170334\\t0.99\\n2\\tBalls to the Wall\\t2\\t2\\t1\\tU. Dirkschneider, W. Hoffmann, H. Frank, P. Baltes, S. Kaufmann, G. Hoffmann\\t342562\\t5510424\\t0.99\\n3\\tFast As a Shark\\t3\\t2\\t1\\tF. Baltes, S. Kaufman, U. Dirkscneider & W. Hoffman\\t230619\\t3990994\\t0.99\\n*/\\n    - 최대 결과 수: 5\\n\\n    **중요 지침:**\\n    - 쿼리는 문법적으로 정확해야 하며, 질문에 대한 정확한 답을 제공해야 합니다\\n    - SQL 쿼리를 제안만 하지 말고, 반드시 실제로 실행하여 결과를 확인하세요\\n    - 실행 결과 없이는 답변을 완료한 것이 아닙니다\\n    - 도구 실행 후 나온 결과를 사용자가 이해하기 쉽게 해석해서 답변하세요\\n\\n    **사용 가능한 도구:**\\n    - sql_db_query: SQL 쿼리를 실행하여 실제 데이터를 조회하는 도구\\n    '"
      ]
     },
     "execution_count": 17,
     "metadata": {},
     "output_type": "execute_result"
    }
   ],
   "source": [
    "system_message = prompt_template.format(dialect=\"SQLite\", table_info=db.get_table_info(), top_k=5)\n",
    "system_message"
   ]
  },
  {
   "cell_type": "markdown",
   "id": "7cc8d7eb",
   "metadata": {
    "id": "Zz8Pf7u0NBTy"
   },
   "source": [
    "#### **에이전트 초기화 (Initializing Agent)**  \n",
    "\n",
    "사전 구축된 **LangGraph** 에이전트를 사용하여 **에이전트(agent)** 를 생성합니다."
   ]
  },
  {
   "cell_type": "code",
   "execution_count": 18,
   "id": "55db0d3c",
   "metadata": {},
   "outputs": [
    {
     "data": {
      "image/png": "[encoded data removed]",
      "text/plain": [
       "<langgraph.graph.state.CompiledStateGraph object at 0x113506b90>"
      ]
     },
     "execution_count": 18,
     "metadata": {},
     "output_type": "execute_result"
    }
   ],
   "source": [
    "from langchain_core.messages import HumanMessage\n",
    "from langgraph.prebuilt import create_react_agent\n",
    "\n",
    "# ReAct(Reasoning + Acting) 패턴을 사용하여 에이전트 생성\n",
    "agent_executor = create_react_agent(\n",
    "    model,         # LLM 객체\n",
    "    tools,        # SQL 쿼리 실행, 스키마 확인 등의 작업을 수행할 수 있는 도구 목록\n",
    "    prompt=system_message\n",
    ")\n",
    "\n",
    "agent_executor"
   ]
  },
  {
   "cell_type": "code",
   "execution_count": 19,
   "id": "450a8efb-16ea-436f-8048-2f79aa212c0a",
   "metadata": {},
   "outputs": [
    {
     "name": "stdout",
     "output_type": "stream",
     "text": [
      "==================================\u001b[1m Ai Message \u001b[0m==================================\n",
      "\n",
      "요청하신 대로 SQL을 실행했습니다.\n",
      "\n",
      "실행한 쿼리:\n",
      "SELECT COUNT(*) AS employee_count FROM Employee;\n",
      "\n",
      "결과:\n",
      "employee_count = 8\n",
      "\n",
      "따라서 직원 수는 총 8명입니다.\n"
     ]
    }
   ],
   "source": [
    "question = \"직원이 몇명인가요?\"\n",
    "\n",
    "# stream을 invoke로 변경 - 전체 실행 후 최종 결과만 받기\n",
    "result = agent_executor.invoke(\n",
    "    {'messages': [{'role': 'user', 'content': question}]}\n",
    ")\n",
    "\n",
    "# 최종 결과에서 마지막 메시지 출력\n",
    "result['messages'][-1].pretty_print()"
   ]
  },
  {
   "cell_type": "markdown",
   "id": "ec557497-cb73-4ad2-8faa-23325f0efafb",
   "metadata": {},
   "source": [
    "#### Agent 의 사고 과정을 실시간으로 보려면 `stream` 을 사용하여 중간 단계를 출력합니다."
   ]
  },
  {
   "cell_type": "code",
   "execution_count": 20,
   "id": "97c04858-6ea6-40e3-9c31-eb8c1765f721",
   "metadata": {},
   "outputs": [
    {
     "name": "stdout",
     "output_type": "stream",
     "text": [
      "================================\u001b[1m Human Message \u001b[0m=================================\n",
      "\n",
      "직원이 몇명인가요?\n",
      "==================================\u001b[1m Ai Message \u001b[0m==================================\n",
      "Tool Calls:\n",
      "  sql_db_query_checker (call_PrQ0Wwq8uO036YlSu7lmdJOL)\n",
      " Call ID: call_PrQ0Wwq8uO036YlSu7lmdJOL\n",
      "  Args:\n",
      "    query: SELECT COUNT(*) AS employee_count FROM Employee;\n",
      "=================================\u001b[1m Tool Message \u001b[0m=================================\n",
      "Name: sql_db_query_checker\n",
      "\n",
      "SELECT COUNT(*) AS employee_count FROM Employee;\n",
      "==================================\u001b[1m Ai Message \u001b[0m==================================\n",
      "Tool Calls:\n",
      "  sql_db_query (call_90EvZDFZMMBTYhQXKLwRMhUh)\n",
      " Call ID: call_90EvZDFZMMBTYhQXKLwRMhUh\n",
      "  Args:\n",
      "    query: SELECT COUNT(*) AS employee_count FROM Employee;\n",
      "=================================\u001b[1m Tool Message \u001b[0m=================================\n",
      "Name: sql_db_query\n",
      "\n",
      "[(8,)]\n",
      "==================================\u001b[1m Ai Message \u001b[0m==================================\n",
      "\n",
      "직원 수를 확인하기 위해 SQL 쿼리를 실행했습니다.\n",
      "\n",
      "실행한 쿼리:\n",
      "SELECT COUNT(*) AS employee_count FROM Employee;\n",
      "\n",
      "결과:\n",
      "직원 수 = 8명.\n"
     ]
    }
   ],
   "source": [
    "question = \"직원이 몇명인가요?\"\n",
    "\n",
    "for step in agent_executor.stream(\n",
    "    {'messages': [{'role': 'user', 'content': question}]},\n",
    "    stream_mode='values'   #각 단계의 최종 결과 값만 제공\n",
    "):\n",
    "    step['messages'][-1].pretty_print()"
   ]
  },
  {
   "cell_type": "code",
   "execution_count": 21,
   "id": "fdb37f97",
   "metadata": {},
   "outputs": [
    {
     "name": "stdout",
     "output_type": "stream",
     "text": [
      "================================\u001b[1m Human Message \u001b[0m=================================\n",
      "\n",
      "어느 나라의 고객이 가장 많은 금액을 지출했나요?\n",
      "==================================\u001b[1m Ai Message \u001b[0m==================================\n",
      "Tool Calls:\n",
      "  sql_db_query_checker (call_m5YPk7fYixkWmaLfylFAiygQ)\n",
      " Call ID: call_m5YPk7fYixkWmaLfylFAiygQ\n",
      "  Args:\n",
      "    query: SELECT BillingCountry, SUM(Total) AS TotalSpent\n",
      "FROM Invoice\n",
      "GROUP BY BillingCountry\n",
      "ORDER BY TotalSpent DESC\n",
      "LIMIT 1;\n",
      "=================================\u001b[1m Tool Message \u001b[0m=================================\n",
      "Name: sql_db_query_checker\n",
      "\n",
      "SELECT BillingCountry, SUM(Total) AS TotalSpent\n",
      "FROM Invoice\n",
      "GROUP BY BillingCountry\n",
      "ORDER BY TotalSpent DESC\n",
      "LIMIT 1;\n",
      "==================================\u001b[1m Ai Message \u001b[0m==================================\n",
      "Tool Calls:\n",
      "  sql_db_query (call_vhTzR8z5XKG8tWr8hrxMnmXr)\n",
      " Call ID: call_vhTzR8z5XKG8tWr8hrxMnmXr\n",
      "  Args:\n",
      "    query: SELECT BillingCountry, SUM(Total) AS TotalSpent\n",
      "FROM Invoice\n",
      "GROUP BY BillingCountry\n",
      "ORDER BY TotalSpent DESC\n",
      "LIMIT 5;\n",
      "=================================\u001b[1m Tool Message \u001b[0m=================================\n",
      "Name: sql_db_query\n",
      "\n",
      "[('USA', 523.06), ('Canada', 303.96), ('France', 195.1), ('Brazil', 190.1), ('Germany', 156.48)]\n",
      "==================================\u001b[1m Ai Message \u001b[0m==================================\n",
      "\n",
      "실행한 SQL:\n",
      "SELECT BillingCountry, SUM(Total) AS TotalSpent\n",
      "FROM Invoice\n",
      "GROUP BY BillingCountry\n",
      "ORDER BY TotalSpent DESC\n",
      "LIMIT 5;\n",
      "\n",
      "결과(상위 5개):\n",
      "- USA: 523.06\n",
      "- Canada: 303.96\n",
      "- France: 195.10\n",
      "- Brazil: 190.10\n",
      "- Germany: 156.48\n",
      "\n",
      "따라서 가장 많은 금액을 지출한 나라는 USA이며, 총 지출액은 523.06입니다. (테이블의 Total 칼럼 단위에 따름.)\n"
     ]
    }
   ],
   "source": [
    "question = \"어느 나라의 고객이 가장 많은 금액을 지출했나요?\"\n",
    "\n",
    "for step in agent_executor.stream(\n",
    "    {'messages': [{'role': 'user', 'content': question}]},\n",
    "    stream_mode='values'   #각 단계의 최종 결과 값만 제공\n",
    "):\n",
    "    step['messages'][-1].pretty_print()"
   ]
  },
  {
   "cell_type": "code",
   "execution_count": 22,
   "id": "d064689b",
   "metadata": {},
   "outputs": [
    {
     "name": "stdout",
     "output_type": "stream",
     "text": [
      "검증용 SQL 쿼리 결과: [('USA', 523.06)]\n"
     ]
    }
   ],
   "source": [
    "# SQL 쿼리로 검증\n",
    "validation_query = \"\"\"\n",
    "SELECT BillingCountry, SUM(Total) AS TotalSpent\n",
    "FROM Invoice\n",
    "GROUP BY BillingCountry\n",
    "ORDER BY TotalSpent DESC\n",
    "LIMIT 1;\n",
    "\"\"\"\n",
    "\n",
    "validation_result = db.run(validation_query)\n",
    "print(\"검증용 SQL 쿼리 결과:\", validation_result)"
   ]
  },
  {
   "cell_type": "markdown",
   "id": "3a0a2d7d",
   "metadata": {
    "id": "4V5MksHnNBTy"
   },
   "source": [
    "에이전트는 필요한 정보를 얻을 때까지 **여러 번의 쿼리**를 실행한다는 점에 주목하세요:  \n",
    "\n",
    "1. 사용 가능한 테이블 목록을 나열합니다.  \n",
    "2. 세 개의 테이블에 대한 스키마를 검색합니다.  \n",
    "3. 여러 테이블을 **JOIN 연산**을 통해 쿼리합니다.  \n",
    "\n",
    "에이전트는 마지막 쿼리의 결과를 사용해 **원래 질문에 대한 답변을 생성**할 수 있습니다.\n",
    "\n",
    "에이전트는 이와 유사하게 **정성적 질문(qualitative questions)** 도 처리할 수 있습니다."
   ]
  },
  {
   "cell_type": "code",
   "execution_count": null,
   "id": "94def1a7",
   "metadata": {},
   "outputs": [
    {
     "name": "stdout",
     "output_type": "stream",
     "text": [
      "================================\u001b[1m Human Message \u001b[0m=================================\n",
      "\n",
      "`playlisttrack` 테이블을 설명하세요. 한국어로 설명하세요.**\n",
      "==================================\u001b[1m Ai Message \u001b[0m==================================\n",
      "Tool Calls:\n",
      "  sql_db_query_checker (call_loYH0mqwfhz5mbyew62nBOm4)\n",
      " Call ID: call_loYH0mqwfhz5mbyew62nBOm4\n",
      "  Args:\n",
      "    query: PRAGMA table_info(\"PlaylistTrack\");\n",
      "=================================\u001b[1m Tool Message \u001b[0m=================================\n",
      "Name: sql_db_query_checker\n",
      "\n",
      "PRAGMA table_info(\"PlaylistTrack\");\n",
      "==================================\u001b[1m Ai Message \u001b[0m==================================\n",
      "Tool Calls:\n",
      "  sql_db_query (call_zwC79U8HHylTz0Eb39SYRJru)\n",
      " Call ID: call_zwC79U8HHylTz0Eb39SYRJru\n",
      "  Args:\n",
      "    query: PRAGMA table_info(\"PlaylistTrack\");\n",
      "=================================\u001b[1m Tool Message \u001b[0m=================================\n",
      "Name: sql_db_query\n",
      "\n",
      "[(0, 'PlaylistId', 'INTEGER', 1, None, 1), (1, 'TrackId', 'INTEGER', 1, None, 2)]\n",
      "==================================\u001b[1m Ai Message \u001b[0m==================================\n",
      "Tool Calls:\n",
      "  sql_db_query (call_pYZyqZ9hiCH7xLgpihZLyfFx)\n",
      " Call ID: call_pYZyqZ9hiCH7xLgpihZLyfFx\n",
      "  Args:\n",
      "    query: SELECT * FROM \"PlaylistTrack\" LIMIT 5;\n",
      "=================================\u001b[1m Tool Message \u001b[0m=================================\n",
      "Name: sql_db_query\n",
      "\n",
      "[(1, 3402), (1, 3389), (1, 3390), (1, 3391), (1, 3392)]\n",
      "==================================\u001b[1m Ai Message \u001b[0m==================================\n",
      "Tool Calls:\n",
      "  sql_db_query_checker (call_Ajxm8MOTkoMQvJI2twVj8oXs)\n",
      " Call ID: call_Ajxm8MOTkoMQvJI2twVj8oXs\n",
      "  Args:\n",
      "    query: PRAGMA foreign_key_list(\"PlaylistTrack\");\n",
      "=================================\u001b[1m Tool Message \u001b[0m=================================\n",
      "Name: sql_db_query_checker\n",
      "\n",
      "PRAGMA foreign_key_list(\"PlaylistTrack\");\n",
      "==================================\u001b[1m Ai Message \u001b[0m==================================\n",
      "Tool Calls:\n",
      "  sql_db_query (call_q2O2fikx0VYN6g9iQ4dB0tPb)\n",
      " Call ID: call_q2O2fikx0VYN6g9iQ4dB0tPb\n",
      "  Args:\n",
      "    query: PRAGMA foreign_key_list(\"PlaylistTrack\");\n",
      "=================================\u001b[1m Tool Message \u001b[0m=================================\n",
      "Name: sql_db_query\n",
      "\n",
      "[(0, 0, 'Track', 'TrackId', 'TrackId', 'NO ACTION', 'NO ACTION', 'NONE'), (1, 0, 'Playlist', 'PlaylistId', 'PlaylistId', 'NO ACTION', 'NO ACTION', 'NONE')]\n",
      "==================================\u001b[1m Ai Message \u001b[0m==================================\n",
      "Tool Calls:\n",
      "  sql_db_query (call_0nK3OwwWAqTxSp0twhMnTJEx)\n",
      " Call ID: call_0nK3OwwWAqTxSp0twhMnTJEx\n",
      "  Args:\n",
      "    query: SELECT COUNT(*) AS row_count FROM \"PlaylistTrack\";\n",
      "=================================\u001b[1m Tool Message \u001b[0m=================================\n",
      "Name: sql_db_query\n",
      "\n",
      "[(8715,)]\n"
     ]
    }
   ],
   "source": [
    "question = \"`playlisttrack` 테이블을 설명하세요. 한국어로 설명하세요.**\"\n",
    "\n",
    "for step in agent_executor.stream(\n",
    "    {\"messages\": [{\"role\": \"user\", \"content\": question}]},\n",
    "    stream_mode=\"values\",\n",
    "):\n",
    "    step[\"messages\"][-1].pretty_print()"
   ]
  },
  {
   "cell_type": "code",
   "execution_count": null,
   "id": "0dcb5b83-e7d2-41a7-988e-17641514dd75",
   "metadata": {},
   "outputs": [],
   "source": []
  }
 ],
 "metadata": {
  "colab": {
   "provenance": []
  },
  "kernelspec": {
   "display_name": "Python 3 (ipykernel)",
   "language": "python",
   "name": "python3"
  },
  "language_info": {
   "codemirror_mode": {
    "name": "ipython",
    "version": 3
   },
   "file_extension": ".py",
   "mimetype": "text/x-python",
   "name": "python",
   "nbconvert_exporter": "python",
   "pygments_lexer": "ipython3",
   "version": "3.11.13"
  }
 },
 "nbformat": 4,
 "nbformat_minor": 5
}
