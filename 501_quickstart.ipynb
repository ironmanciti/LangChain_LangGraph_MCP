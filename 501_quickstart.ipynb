{
 "cells": [
  {
   "cell_type": "markdown",
   "id": "0ee0194c",
   "metadata": {},
   "source": [
    "# Quick Start - ReAct Agent 생성"
   ]
  },
  {
   "cell_type": "code",
   "execution_count": 1,
   "id": "f1b1569b",
   "metadata": {},
   "outputs": [
    {
     "data": {
      "text/plain": [
       "True"
      ]
     },
     "execution_count": 1,
     "metadata": {},
     "output_type": "execute_result"
    }
   ],
   "source": [
    "from dotenv import load_dotenv\n",
    "\n",
    "# API-KEY 읽어오기\n",
    "load_dotenv()"
   ]
  },
  {
   "cell_type": "code",
   "execution_count": 2,
   "id": "9266825b-2c57-46e8-9bf2-d7c939623137",
   "metadata": {},
   "outputs": [],
   "source": [
    "# 사용할 LLM 모델 지정\n",
    "MODEL = \"openai:gpt-5-nano\"\n",
    "# MODEL = \"google_genai:gemini-2.5-flash\""
   ]
  },
  {
   "cell_type": "code",
   "execution_count": 3,
   "id": "2efe9a51-d68d-45b7-8a80-ead74855edf6",
   "metadata": {},
   "outputs": [],
   "source": [
    "import requests\n",
    "\n",
    "def get_weather(latitude: float, longitude: float) -> str:\n",
    "    \"\"\"Open-Meteo API에서 현재 날씨 코드 조회 후 간단한 한국어로 번역\"\"\"\n",
    "    url = (\n",
    "        f\"https://api.open-meteo.com/v1/forecast?\"\n",
    "        f\"latitude={latitude}&longitude={longitude}\"\n",
    "        f\"&current=weather_code\"\n",
    "    )\n",
    "    resp = requests.get(url, timeout=10)\n",
    "    resp.raise_for_status()\n",
    "    data = resp.json()\n",
    "\n",
    "    code = int(data[\"current\"][\"weather_code\"])\n",
    "\n",
    "    # 코드 매핑\n",
    "    if code == 0:\n",
    "        return \"맑음\"\n",
    "    elif code in [1, 2, 3]:\n",
    "        return \"구름 많음\"\n",
    "    elif code in [45, 48]:\n",
    "        return \"안개\"\n",
    "    elif 51 <= code <= 67 or 80 <= code <= 82:\n",
    "        return \"비\"\n",
    "    elif 71 <= code <= 77 or 85 <= code <= 86:\n",
    "        return \"눈\"\n",
    "    elif 95 <= code <= 99:\n",
    "        return \"뇌우\"\n",
    "    else:\n",
    "        return \"알 수 없음\""
   ]
  },
  {
   "cell_type": "code",
   "execution_count": 4,
   "id": "f798dc7a-fab8-446d-bf0c-8aa9fe54286e",
   "metadata": {},
   "outputs": [
    {
     "data": {
      "image/png": "[encoded data removed]",
      "text/plain": [
       "<langgraph.graph.state.CompiledStateGraph object at 0x10db10f90>"
      ]
     },
     "execution_count": 4,
     "metadata": {},
     "output_type": "execute_result"
    }
   ],
   "source": [
    "from langgraph.prebuilt import create_react_agent\n",
    "\n",
    "# ReAct 에이전트 생성\n",
    "agent = create_react_agent(\n",
    "    model=MODEL,  \n",
    "    tools=[get_weather],                    # 에이전트가 사용할 도구 목록\n",
    "    prompt=\"당신은 도움이 되는 어시스턴트입니다.\"    # 에이전트의 역할과 동작을 정의하는 프롬프트\n",
    ")\n",
    "agent"
   ]
  },
  {
   "cell_type": "code",
   "execution_count": 5,
   "id": "40553878",
   "metadata": {},
   "outputs": [
    {
     "name": "stdout",
     "output_type": "stream",
     "text": [
      "=== 에이전트 응답 ===\n"
     ]
    },
    {
     "data": {
      "text/plain": [
       "{'messages': [HumanMessage(content='오늘 서울 날씨 어때?', additional_kwargs={}, response_metadata={}, id='e0b87f04-9c1b-4088-b651-f0351e2ce01f'),\n",
       "  AIMessage(content='', additional_kwargs={'tool_calls': [{'id': 'call_4j9P5jy9bIGlvSYeNG2k2V5i', 'function': {'arguments': '{\"latitude\":37.5665,\"longitude\":126.978}\\n', 'name': 'get_weather'}, 'type': 'function'}], 'refusal': None}, response_metadata={'token_usage': {'completion_tokens': 224, 'prompt_tokens': 165, 'total_tokens': 389, 'completion_tokens_details': {'accepted_prediction_tokens': 0, 'audio_tokens': 0, 'reasoning_tokens': 192, 'rejected_prediction_tokens': 0}, 'prompt_tokens_details': {'audio_tokens': 0, 'cached_tokens': 0}}, 'model_name': 'gpt-5-nano-2025-08-07', 'system_fingerprint': None, 'id': 'chatcmpl-CMsjwVA5CZEGARI3uG1WgO97hvKNC', 'service_tier': 'default', 'finish_reason': 'tool_calls', 'logprobs': None}, id='run--9f4ac47b-d4f3-4600-9dc0-e824787bf71b-0', tool_calls=[{'name': 'get_weather', 'args': {'latitude': 37.5665, 'longitude': 126.978}, 'id': 'call_4j9P5jy9bIGlvSYeNG2k2V5i', 'type': 'tool_call'}], usage_metadata={'input_tokens': 165, 'output_tokens': 224, 'total_tokens': 389, 'input_token_details': {'audio': 0, 'cache_read': 0}, 'output_token_details': {'audio': 0, 'reasoning': 192}}),\n",
       "  ToolMessage(content='구름 많음', name='get_weather', id='8c869212-8ebc-488d-a220-bab36e5e400d', tool_call_id='call_4j9P5jy9bIGlvSYeNG2k2V5i'),\n",
       "  AIMessage(content='오늘 서울은 구름이 많습니다. \\n원하시면 기온, 바람, 강수 확률 등 자세한 정보를 시간대별 예보로도 확인해 드릴게요. 어떤 정보가 필요하신가요?', additional_kwargs={'refusal': None}, response_metadata={'token_usage': {'completion_tokens': 955, 'prompt_tokens': 206, 'total_tokens': 1161, 'completion_tokens_details': {'accepted_prediction_tokens': 0, 'audio_tokens': 0, 'reasoning_tokens': 896, 'rejected_prediction_tokens': 0}, 'prompt_tokens_details': {'audio_tokens': 0, 'cached_tokens': 0}}, 'model_name': 'gpt-5-nano-2025-08-07', 'system_fingerprint': None, 'id': 'chatcmpl-CMsjzM2FMbNfnLggc449e4HJk4Nfm', 'service_tier': 'default', 'finish_reason': 'stop', 'logprobs': None}, id='run--7147de52-a850-45af-b870-5b07f4ac0bc4-0', usage_metadata={'input_tokens': 206, 'output_tokens': 955, 'total_tokens': 1161, 'input_token_details': {'audio': 0, 'cache_read': 0}, 'output_token_details': {'audio': 0, 'reasoning': 896}})]}"
      ]
     },
     "execution_count": 5,
     "metadata": {},
     "output_type": "execute_result"
    }
   ],
   "source": [
    "# 에이전트 실행\n",
    "result = agent.invoke(\n",
    "    {\"messages\": [{\"role\": \"user\", \"content\": \"오늘 서울 날씨 어때?\"}]},  # 사용자 메시지 입력\n",
    ")\n",
    "# 결과 출력\n",
    "print(\"=== 에이전트 응답 ===\")\n",
    "result"
   ]
  },
  {
   "cell_type": "code",
   "execution_count": 6,
   "id": "5ccff514-7830-47f9-96a1-072440521e5f",
   "metadata": {},
   "outputs": [
    {
     "name": "stdout",
     "output_type": "stream",
     "text": [
      "================================\u001b[1m Human Message \u001b[0m=================================\n",
      "\n",
      "오늘 서울 날씨 어때?\n"
     ]
    }
   ],
   "source": [
    "result['messages'][0].pretty_print()"
   ]
  },
  {
   "cell_type": "code",
   "execution_count": 7,
   "id": "6466975f",
   "metadata": {},
   "outputs": [
    {
     "name": "stdout",
     "output_type": "stream",
     "text": [
      "=== 대화 과정 ===\n",
      "\n",
      "--- 메시지 1 ---\n",
      "================================\u001b[1m Human Message \u001b[0m=================================\n",
      "\n",
      "오늘 서울 날씨 어때?\n",
      "\n",
      "--- 메시지 2 ---\n",
      "==================================\u001b[1m Ai Message \u001b[0m==================================\n",
      "Tool Calls:\n",
      "  get_weather (call_4j9P5jy9bIGlvSYeNG2k2V5i)\n",
      " Call ID: call_4j9P5jy9bIGlvSYeNG2k2V5i\n",
      "  Args:\n",
      "    latitude: 37.5665\n",
      "    longitude: 126.978\n",
      "\n",
      "--- 메시지 3 ---\n",
      "=================================\u001b[1m Tool Message \u001b[0m=================================\n",
      "Name: get_weather\n",
      "\n",
      "구름 많음\n",
      "\n",
      "--- 메시지 4 ---\n",
      "==================================\u001b[1m Ai Message \u001b[0m==================================\n",
      "\n",
      "오늘 서울은 구름이 많습니다. \n",
      "원하시면 기온, 바람, 강수 확률 등 자세한 정보를 시간대별 예보로도 확인해 드릴게요. 어떤 정보가 필요하신가요?\n"
     ]
    }
   ],
   "source": [
    "# 각 단계의 메시지 출력\n",
    "print(\"=== 대화 과정 ===\")\n",
    "for i, message in enumerate(result['messages']):\n",
    "    print(f\"\\n--- 메시지 {i+1} ---\")\n",
    "    message.pretty_print()"
   ]
  },
  {
   "cell_type": "markdown",
   "id": "fefa160f",
   "metadata": {},
   "source": [
    "## 사용자 정의 프롬프트 추가\n",
    "\n",
    "`AgentState`는 LangGraph의 사전 구축된 채팅 에이전트에서 사용하는 상태(state) 클래스입니다.\n",
    "\n",
    "```\n",
    "class AgentState(TypedDict):\n",
    "    \"\"\"ReAct Agent가 사용하는 상태 모델\"\"\"\n",
    "\n",
    "    # 대화 메시지 목록\n",
    "    messages: Annotated[Sequence[AnyMessage], add_messages]\n",
    "```"
   ]
  },
  {
   "cell_type": "code",
   "execution_count": 8,
   "id": "5bdc9be1",
   "metadata": {},
   "outputs": [
    {
     "name": "stdout",
     "output_type": "stream",
     "text": [
      "================================\u001b[1m Human Message \u001b[0m=================================\n",
      "\n",
      "오늘 서울 날씨 어때?\n",
      "==================================\u001b[1m Ai Message \u001b[0m==================================\n",
      "Tool Calls:\n",
      "  get_weather (call_NZMOUJ5otkZs4kDl61Be6ILH)\n",
      " Call ID: call_NZMOUJ5otkZs4kDl61Be6ILH\n",
      "  Args:\n",
      "    latitude: 37.5665\n",
      "    longitude: 126.978\n",
      "=================================\u001b[1m Tool Message \u001b[0m=================================\n",
      "Name: get_weather\n",
      "\n",
      "구름 많음\n",
      "==================================\u001b[1m Ai Message \u001b[0m==================================\n",
      "\n",
      "홍길동님, 현재 서울의 날씨는 구름이 많습니다. 필요하시면 오늘의 온도, 체감온도, 강수 확률 등 자세한 정보를 추가로 확인해 드릴게요. 어떤 정보가 필요하신가요?\n"
     ]
    }
   ],
   "source": [
    "from langchain_core.messages import AnyMessage\n",
    "from langchain_core.runnables import RunnableConfig\n",
    "from langgraph.prebuilt.chat_agent_executor import AgentState\n",
    "from langgraph.prebuilt import create_react_agent\n",
    "\n",
    "# 에이전트의 프롬프트 생성 함수\n",
    "def prompt(state: AgentState, config: RunnableConfig) -> list[AnyMessage]:  \n",
    "    # config에서 사용자 이름을 추출\n",
    "    user_name = config[\"configurable\"].get(\"user_name\")\n",
    "    # 시스템 메시지 생성: 사용자 이름을 포함\n",
    "    system_msg = f\"당신은 도움이 되는 어시스턴트입니다. 사용자를 {user_name}님으로 호칭하세요.\"\n",
    "    # 시스템 메시지와 기존 상태의 메시지를 결합하여 반환\n",
    "    return [{\"role\": \"system\", \"content\": system_msg}] + state[\"messages\"]\n",
    "\n",
    "# ReAct 에이전트 생성\n",
    "agent = create_react_agent(\n",
    "    model=MODEL,     # 사용할 LLM 모델 지정\n",
    "    tools=[get_weather],      # 에이전트가 사용할 도구 목록\n",
    "    prompt=prompt             # 함수를 이용한 동적 프롬프트 생성\n",
    ")\n",
    "\n",
    "# 에이전트 실행\n",
    "result = agent.invoke(\n",
    "    {\"messages\": [{\"role\": \"user\", \"content\":  \"오늘 서울 날씨 어때?\"}]},\n",
    "    # 에이전트 실행을 위한 설정 정보\n",
    "    config={\"configurable\": {\"user_name\": \"홍길동\"}}\n",
    ")\n",
    "# 각 단계의 메시지 출력\n",
    "for message in result['messages']:\n",
    "    message.pretty_print()"
   ]
  },
  {
   "cell_type": "markdown",
   "id": "3b3258a9",
   "metadata": {},
   "source": [
    "## 메모리 추가"
   ]
  },
  {
   "cell_type": "code",
   "execution_count": 9,
   "id": "63b38fcc",
   "metadata": {},
   "outputs": [],
   "source": [
    "from langgraph.prebuilt import create_react_agent\n",
    "from langgraph.checkpoint.memory import InMemorySaver\n",
    "\n",
    "# 에이전트의 상태를 메모리에 저장 (프로그램이 종료되면 사라짐)\n",
    "checkpointer = InMemorySaver()\n",
    "\n",
    "# ReAct 에이전트 생성\n",
    "agent = create_react_agent(\n",
    "    model=MODEL,            # 사용할 LLM 모델 지정\n",
    "    tools=[get_weather],             # 에이전트가 사용할 도구 목록\n",
    "    checkpointer=checkpointer        # 에이전트의 상태를 저장하는 기능 추가\n",
    ")\n",
    "\n",
    "# 에이전트 실행을 위한 설정 정보\n",
    "# 'thread_id'는 대화의 고유 식별자 역할\n",
    "config = {\"configurable\": {\"thread_id\": \"1\"}}\n",
    "\n",
    "# 에이전트 실행 (서울)\n",
    "seoul_response = agent.invoke(\n",
    "    {\"messages\": [{\"role\": \"user\", \"content\": \"서울 날씨 어때?\"}]},\n",
    "    config  \n",
    ")\n",
    "# 에이전트 실행 (부산)\n",
    "pusan_response = agent.invoke(\n",
    "    {\"messages\": [{\"role\": \"user\", \"content\": \"부산 날씨 어때?\"}]},\n",
    "    config\n",
    ")"
   ]
  },
  {
   "cell_type": "code",
   "execution_count": 10,
   "id": "f17000d3",
   "metadata": {},
   "outputs": [
    {
     "name": "stdout",
     "output_type": "stream",
     "text": [
      "================================\u001b[1m Human Message \u001b[0m=================================\n",
      "\n",
      "서울 날씨 어때?\n",
      "==================================\u001b[1m Ai Message \u001b[0m==================================\n",
      "Tool Calls:\n",
      "  get_weather (call_KxYBluLj1WvyvbhqdwXwb63A)\n",
      " Call ID: call_KxYBluLj1WvyvbhqdwXwb63A\n",
      "  Args:\n",
      "    latitude: 37.5665\n",
      "    longitude: 126.978\n",
      "=================================\u001b[1m Tool Message \u001b[0m=================================\n",
      "Name: get_weather\n",
      "\n",
      "구름 많음\n",
      "==================================\u001b[1m Ai Message \u001b[0m==================================\n",
      "\n",
      "서울 현재 날씨는 구름이 많습니다. 필요하시면 온도, 체감 온도, 강수 확률 등의 상세 정보도 알려드릴게요.\n"
     ]
    }
   ],
   "source": [
    "# 각 단계의 메시지 출력\n",
    "for message in seoul_response['messages']:\n",
    "    message.pretty_print()"
   ]
  },
  {
   "cell_type": "code",
   "execution_count": 11,
   "id": "95225df8",
   "metadata": {},
   "outputs": [
    {
     "name": "stdout",
     "output_type": "stream",
     "text": [
      "================================\u001b[1m Human Message \u001b[0m=================================\n",
      "\n",
      "서울 날씨 어때?\n",
      "==================================\u001b[1m Ai Message \u001b[0m==================================\n",
      "Tool Calls:\n",
      "  get_weather (call_KxYBluLj1WvyvbhqdwXwb63A)\n",
      " Call ID: call_KxYBluLj1WvyvbhqdwXwb63A\n",
      "  Args:\n",
      "    latitude: 37.5665\n",
      "    longitude: 126.978\n",
      "=================================\u001b[1m Tool Message \u001b[0m=================================\n",
      "Name: get_weather\n",
      "\n",
      "구름 많음\n",
      "==================================\u001b[1m Ai Message \u001b[0m==================================\n",
      "\n",
      "서울 현재 날씨는 구름이 많습니다. 필요하시면 온도, 체감 온도, 강수 확률 등의 상세 정보도 알려드릴게요.\n",
      "================================\u001b[1m Human Message \u001b[0m=================================\n",
      "\n",
      "부산 날씨 어때?\n",
      "==================================\u001b[1m Ai Message \u001b[0m==================================\n",
      "Tool Calls:\n",
      "  get_weather (call_XrnZLYqrPSQuzpX8kG8ALShj)\n",
      " Call ID: call_XrnZLYqrPSQuzpX8kG8ALShj\n",
      "  Args:\n",
      "    latitude: 35.1796\n",
      "    longitude: 129.0756\n",
      "=================================\u001b[1m Tool Message \u001b[0m=================================\n",
      "Name: get_weather\n",
      "\n",
      "구름 많음\n",
      "==================================\u001b[1m Ai Message \u001b[0m==================================\n",
      "\n",
      "부산 현재 날씨는 구름이 많습니다. 필요하시면 온도, 체감 온도, 강수 확률, 바람 등 상세 정보도 알려드릴게요. 어떤 정보를 원하시나요?\n"
     ]
    }
   ],
   "source": [
    "# 각 단계의 메시지 출력\n",
    "for message in pusan_response['messages']:\n",
    "    message.pretty_print()"
   ]
  },
  {
   "cell_type": "markdown",
   "id": "1d9de2f2",
   "metadata": {},
   "source": [
    "## 구조화된 출력 반환"
   ]
  },
  {
   "cell_type": "code",
   "execution_count": 14,
   "id": "3653bad1-ec48-4757-ad56-53ee52b44140",
   "metadata": {},
   "outputs": [
    {
     "data": {
      "text/plain": [
       "{'messages': [HumanMessage(content='오늘 서울 날씨 어때?', additional_kwargs={}, response_metadata={}, id='4cae2d90-15ec-4c91-b9a4-6f4e3ac33991'),\n",
       "  AIMessage(content='', additional_kwargs={'tool_calls': [{'id': 'call_iuC3OzyRMq9alMdAmSMCAbRT', 'function': {'arguments': '{\"latitude\":37.5665,\"longitude\":126.9780}', 'name': 'get_weather'}, 'type': 'function'}], 'refusal': None}, response_metadata={'token_usage': {'completion_tokens': 353, 'prompt_tokens': 150, 'total_tokens': 503, 'completion_tokens_details': {'accepted_prediction_tokens': 0, 'audio_tokens': 0, 'reasoning_tokens': 320, 'rejected_prediction_tokens': 0}, 'prompt_tokens_details': {'audio_tokens': 0, 'cached_tokens': 0}}, 'model_name': 'gpt-5-nano-2025-08-07', 'system_fingerprint': None, 'id': 'chatcmpl-CMslse12IDubPKUHvdQVbdFFc7i1d', 'service_tier': 'default', 'finish_reason': 'tool_calls', 'logprobs': None}, id='run--a3fd509d-ad99-4af1-aaf1-ef0763ef39e5-0', tool_calls=[{'name': 'get_weather', 'args': {'latitude': 37.5665, 'longitude': 126.978}, 'id': 'call_iuC3OzyRMq9alMdAmSMCAbRT', 'type': 'tool_call'}], usage_metadata={'input_tokens': 150, 'output_tokens': 353, 'total_tokens': 503, 'input_token_details': {'audio': 0, 'cache_read': 0}, 'output_token_details': {'audio': 0, 'reasoning': 320}}),\n",
       "  ToolMessage(content='구름 많음', name='get_weather', id='8feb59fd-3a6b-4d02-a50f-d1015a0e4837', tool_call_id='call_iuC3OzyRMq9alMdAmSMCAbRT'),\n",
       "  AIMessage(content='오늘 서울은 구름이 많은 편입니다.\\n\\n원하시면 현재 기온이나 강수 확률 등 자세한 정보도 확인해 드릴게요.', additional_kwargs={'refusal': None}, response_metadata={'token_usage': {'completion_tokens': 618, 'prompt_tokens': 191, 'total_tokens': 809, 'completion_tokens_details': {'accepted_prediction_tokens': 0, 'audio_tokens': 0, 'reasoning_tokens': 576, 'rejected_prediction_tokens': 0}, 'prompt_tokens_details': {'audio_tokens': 0, 'cached_tokens': 0}}, 'model_name': 'gpt-5-nano-2025-08-07', 'system_fingerprint': None, 'id': 'chatcmpl-CMslwlRxXQtyH2IrqNWu81d2jNonB', 'service_tier': 'default', 'finish_reason': 'stop', 'logprobs': None}, id='run--b96a2b01-7deb-4d61-bf11-981ee4a6e224-0', usage_metadata={'input_tokens': 191, 'output_tokens': 618, 'total_tokens': 809, 'input_token_details': {'audio': 0, 'cache_read': 0}, 'output_token_details': {'audio': 0, 'reasoning': 576}})],\n",
       " 'structured_response': WeatherPlan(conditions='흐림', recommendation='외출하기', rationale='현재 서울은 구름이 많아 햇빛이 거의 없고 바람은 약간 있습니다. 비나 눈 예보는 없으며, 외출해도 무난한 편입니다.')}"
      ]
     },
     "execution_count": 14,
     "metadata": {},
     "output_type": "execute_result"
    }
   ],
   "source": [
    "from pydantic import BaseModel\n",
    "from langgraph.prebuilt import create_react_agent\n",
    "from typing import Annotated, Literal\n",
    "\n",
    "# 날씨 응답을 구조화하기 위한 모델\n",
    "class WeatherPlan(BaseModel):\n",
    "    conditions: Annotated[\n",
    "        Literal[\"맑음\", \"흐림\", \"비\", \"눈\"],\n",
    "        \"간결하고 필수적인 현재 날씨 상황만 포함합니다.\"\n",
    "    ]\n",
    "    recommendation: Annotated[\n",
    "        Literal[\"집에 있기\", \"외출하기\"],\n",
    "        \"현재 날씨를 고려해 사용자가 취할 행동을 제안합니다.\"\n",
    "    ]\n",
    "    rationale: Annotated[\n",
    "        str,\n",
    "        \"한 줄 설명 (왜 그 판단을 했는지 간단히)\"\n",
    "    ]\n",
    "\n",
    "\n",
    "# ReAct 에이전트 생성\n",
    "agent = create_react_agent(\n",
    "    model=MODEL,                # 사용할 LLM 모델 지정\n",
    "    tools=[get_weather],                    # 에이전트가 사용할 도구 목록\n",
    "    response_format=WeatherPlan        # 응답을 WeatherResponse 형식으로 구조화\n",
    ")\n",
    "\n",
    "# 에이전트 실행\n",
    "response = agent.invoke(\n",
    "    {\"messages\": [{\"role\": \"user\", \"content\":  \"오늘 서울 날씨 어때?\"}]}\n",
    ")\n",
    "\n",
    "response"
   ]
  },
  {
   "cell_type": "code",
   "execution_count": 15,
   "id": "18dc617c",
   "metadata": {},
   "outputs": [
    {
     "data": {
      "text/plain": [
       "WeatherPlan(conditions='흐림', recommendation='외출하기', rationale='현재 서울은 구름이 많아 햇빛이 거의 없고 바람은 약간 있습니다. 비나 눈 예보는 없으며, 외출해도 무난한 편입니다.')"
      ]
     },
     "execution_count": 15,
     "metadata": {},
     "output_type": "execute_result"
    }
   ],
   "source": [
    "# 구조화된 응답 추출\n",
    "response[\"structured_response\"]"
   ]
  },
  {
   "cell_type": "code",
   "execution_count": 16,
   "id": "c9993d2c",
   "metadata": {},
   "outputs": [
    {
     "name": "stdout",
     "output_type": "stream",
     "text": [
      "================================\u001b[1m Human Message \u001b[0m=================================\n",
      "\n",
      "오늘 서울 날씨 어때?\n",
      "==================================\u001b[1m Ai Message \u001b[0m==================================\n",
      "Tool Calls:\n",
      "  get_weather (call_iuC3OzyRMq9alMdAmSMCAbRT)\n",
      " Call ID: call_iuC3OzyRMq9alMdAmSMCAbRT\n",
      "  Args:\n",
      "    latitude: 37.5665\n",
      "    longitude: 126.978\n",
      "=================================\u001b[1m Tool Message \u001b[0m=================================\n",
      "Name: get_weather\n",
      "\n",
      "구름 많음\n",
      "==================================\u001b[1m Ai Message \u001b[0m==================================\n",
      "\n",
      "오늘 서울은 구름이 많은 편입니다.\n",
      "\n",
      "원하시면 현재 기온이나 강수 확률 등 자세한 정보도 확인해 드릴게요.\n"
     ]
    }
   ],
   "source": [
    "# 각 단계의 메시지 출력\n",
    "for message in response['messages']:\n",
    "    message.pretty_print()"
   ]
  },
  {
   "cell_type": "code",
   "execution_count": 17,
   "id": "786a597a",
   "metadata": {},
   "outputs": [
    {
     "name": "stdout",
     "output_type": "stream",
     "text": [
      "==================================\u001b[1m Ai Message \u001b[0m==================================\n",
      "\n",
      "오늘 서울은 구름이 많은 편입니다.\n",
      "\n",
      "원하시면 현재 기온이나 강수 확률 등 자세한 정보도 확인해 드릴게요.\n"
     ]
    }
   ],
   "source": [
    "response['messages'][-1].pretty_print()"
   ]
  },
  {
   "cell_type": "code",
   "execution_count": null,
   "id": "efbbeb92-f5d6-4961-b612-9e215d7f6b99",
   "metadata": {},
   "outputs": [],
   "source": []
  }
 ],
 "metadata": {
  "kernelspec": {
   "display_name": "Python 3 (ipykernel)",
   "language": "python",
   "name": "python3"
  },
  "language_info": {
   "codemirror_mode": {
    "name": "ipython",
    "version": 3
   },
   "file_extension": ".py",
   "mimetype": "text/x-python",
   "name": "python",
   "nbconvert_exporter": "python",
   "pygments_lexer": "ipython3",
   "version": "3.11.13"
  }
 },
 "nbformat": 4,
 "nbformat_minor": 5
}
