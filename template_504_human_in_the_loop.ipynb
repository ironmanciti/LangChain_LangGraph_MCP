{
 "cells": [
  {
   "cell_type": "markdown",
   "id": "ea23fa32",
   "metadata": {},
   "source": [
    "# 관리자 결제 승인 시나리오 (Admin Payment Approval Scenario)\n",
    "\n",
    "## 시나리오 요약\n",
    "\n",
    "이 노트북은 다음과 같은 관리자 결제 승인 시나리오를 구현합니다:\n",
    "\n",
    "1. **결제 요청**: 사용자가 특정 금액과 목적에 대해 결제 승인을 요청\n",
    "2. **워크플로우 일시정지**: `interrupt`를 통해 관리자의 응답을 기다림\n",
    "3. **관리자 응답**: 승인 또는 거부 결정\n",
    "4. **워크플로우 재개**: 관리자의 응답에 따라 프로세스 계속 진행\n",
    "\n",
    "### 주요 특징:\n",
    "- **비동기 처리**: 결제 승인 대기 중에도 다른 작업 가능\n",
    "- **상태 관리**: 각 결제 요청을 별도의 스레드로 관리\n",
    "- **유연한 응답**: 승인/거부 모두 처리 가능\n",
    "- **확장성**: 다양한 결제 시나리오에 적용 가능"
   ]
  },
  {
   "cell_type": "code",
   "execution_count": null,
   "id": "38f70ae7",
   "metadata": {},
   "outputs": [],
   "source": [
    "# API-KEY 읽어오기"
   ]
  },
  {
   "cell_type": "code",
   "execution_count": null,
   "id": "8b65ca95",
   "metadata": {},
   "outputs": [],
   "source": [
    "# 모델 초기화\n",
    "# llm = init_chat_model(\"google_genai:gemini-2.5-flash\")"
   ]
  },
  {
   "cell_type": "markdown",
   "id": "5f02fb85",
   "metadata": {},
   "source": [
    "### 결제 승인 요청 도구 추가"
   ]
  },
  {
   "cell_type": "code",
   "execution_count": null,
   "id": "3b13b274",
   "metadata": {},
   "outputs": [],
   "source": [
    "# 에이전트의 상태 정의 클래스\n",
    "class State(TypedDict):\n",
    "# 상태 기반 워크플로우 생성\n",
    "# 결제 승인 요청 도구\n",
    "def request_payment_approval(amount: float, description: str, requester: str) -> str:\n",
    "    # interrupt: 워크플로우를 일시 중지하고 관리자의 결제 승인을 기다림\n",
    "    # 관리자의 응답에서 data 반환\n",
    "# 웹 검색 도구\n",
    "# 도구 리스트에 결제 승인 요청 도구 추가\n",
    "# LLM이 도구 호출 여부 판단\n",
    "# chatbot 노드 함수\n",
    "def chatbot(state: State):\n",
    "    # 병렬 도구 호출 비활성화: 인터럽트 후 툴 중복 호출 방지\n",
    "# 워크플로우에 chatbot 노드 추가\n",
    "# tool 노드 워크플로우에 추가\n",
    "# 조건부 라우팅: tools로 이동하거나 END로 이동 (종료)\n",
    "# tools 노드 실행 후 chatbot 노드로 다시 이동 (도구 결과 처리)\n",
    "# 워크플로우 시작점에서 chatbot 노드로 이동"
   ]
  },
  {
   "cell_type": "code",
   "execution_count": null,
   "id": "fac8c74e",
   "metadata": {},
   "outputs": [],
   "source": [
    "# 그래프를 ASCII 아트로 출력"
   ]
  },
  {
   "cell_type": "markdown",
   "id": "69c066e4",
   "metadata": {},
   "source": [
    "### 결제 승인 요청 시나리오"
   ]
  },
  {
   "cell_type": "code",
   "execution_count": null,
   "id": "6e3d6648",
   "metadata": {},
   "outputs": [],
   "source": [
    "# 결제 시나리오 실행\n",
    "# 새로운 대화 세션 설정\n",
    "# 워크플로우를 스트리밍 모드로 실행\n",
    "# 각 event의 마지막 메시지 출력"
   ]
  },
  {
   "cell_type": "markdown",
   "id": "a209e4f0-618f-46da-b1cf-76c5e9a91cae",
   "metadata": {},
   "source": [
    "----------------\n",
    "```\n",
    "Command(resume={\"data\": admin_approval_response})\n",
    "```\n",
    "LangGraph에서는 어떤 노드가 외부 입력(예: 관리자 승인, 유저 추가 입력)을 기다리면서 멈출 수 있는데,\n",
    "이 때 외부에서 응답이 들어오면 Command(resume=...)을 보내서 그래프를 다시 돌립니다."
   ]
  },
  {
   "cell_type": "code",
   "execution_count": null,
   "id": "adae442f",
   "metadata": {},
   "outputs": [],
   "source": [
    "# admin_approval_response = (\n",
    "#     \"결제 요청이 거절 되었습니다.\"\n",
    "# )\n",
    "# Command 객체의 resume에 관리자 승인/거부 응답 저장\n",
    "# 각 event의 마지막 메시지 출력"
   ]
  },
  {
   "cell_type": "markdown",
   "id": "7788725d",
   "metadata": {},
   "source": []
  }
 ],
 "metadata": {
  "kernelspec": {
   "display_name": "Python 3 (ipykernel)",
   "language": "python",
   "name": "python3"
  },
  "language_info": {
   "codemirror_mode": {
    "name": "ipython",
    "version": 3
   },
   "file_extension": ".py",
   "mimetype": "text/x-python",
   "name": "python",
   "nbconvert_exporter": "python",
   "pygments_lexer": "ipython3",
   "version": "3.11.13"
  }
 },
 "nbformat": 4,
 "nbformat_minor": 5
}
