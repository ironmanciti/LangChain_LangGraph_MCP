{
 "cells": [
  {
   "cell_type": "markdown",
   "id": "0ee0194c",
   "metadata": {},
   "source": [
    "# Quick Start - ReAct Agent 생성"
   ]
  },
  {
   "cell_type": "code",
   "execution_count": null,
   "id": "1d02049e",
   "metadata": {},
   "outputs": [],
   "source": [
    "# API-KEY 읽어오기"
   ]
  },
  {
   "cell_type": "code",
   "execution_count": null,
   "id": "84c33362",
   "metadata": {},
   "outputs": [],
   "source": [
    "# 사용할 LLM 모델 지정\n",
    "# MODEL = \"google_genai:gemini-2.5-flash\""
   ]
  },
  {
   "cell_type": "code",
   "execution_count": null,
   "id": "21ac8cd8",
   "metadata": {},
   "outputs": [],
   "source": [
    "def get_weather(latitude: float, longitude: float) -> str:\n",
    "    # 코드 매핑"
   ]
  },
  {
   "cell_type": "code",
   "execution_count": null,
   "id": "dfa8b18b",
   "metadata": {},
   "outputs": [],
   "source": [
    "# ReAct 에이전트 생성"
   ]
  },
  {
   "cell_type": "code",
   "execution_count": null,
   "id": "21b98562",
   "metadata": {},
   "outputs": [],
   "source": [
    "# 에이전트 실행\n",
    "# 결과 출력"
   ]
  },
  {
   "cell_type": "code",
   "execution_count": null,
   "id": "aca15316",
   "metadata": {},
   "outputs": [],
   "source": []
  },
  {
   "cell_type": "code",
   "execution_count": null,
   "id": "74989c93",
   "metadata": {},
   "outputs": [],
   "source": [
    "# 각 단계의 메시지 출력"
   ]
  },
  {
   "cell_type": "markdown",
   "id": "fefa160f",
   "metadata": {},
   "source": [
    "## 사용자 정의 프롬프트 추가\n",
    "\n",
    "`AgentState`는 LangGraph의 사전 구축된 채팅 에이전트에서 사용하는 상태(state) 클래스입니다.\n",
    "\n",
    "```\n",
    "class AgentState(TypedDict):\n",
    "    \"\"\"ReAct Agent가 사용하는 상태 모델\"\"\"\n",
    "\n",
    "    # 대화 메시지 목록\n",
    "    messages: Annotated[Sequence[AnyMessage], add_messages]\n",
    "```"
   ]
  },
  {
   "cell_type": "code",
   "execution_count": null,
   "id": "b8f4929e",
   "metadata": {},
   "outputs": [],
   "source": [
    "# 에이전트의 프롬프트 생성 함수\n",
    "def prompt(state: AgentState, config: RunnableConfig) -> list[AnyMessage]:  \n",
    "    # config에서 사용자 이름을 추출\n",
    "    # 시스템 메시지 생성: 사용자 이름을 포함\n",
    "    # 시스템 메시지와 기존 상태의 메시지를 결합하여 반환\n",
    "# ReAct 에이전트 생성\n",
    "# 에이전트 실행\n",
    "    # 에이전트 실행을 위한 설정 정보\n",
    "# 각 단계의 메시지 출력"
   ]
  },
  {
   "cell_type": "markdown",
   "id": "3b3258a9",
   "metadata": {},
   "source": [
    "## 메모리 추가"
   ]
  },
  {
   "cell_type": "code",
   "execution_count": null,
   "id": "1b2226c8",
   "metadata": {},
   "outputs": [],
   "source": [
    "# 에이전트의 상태를 메모리에 저장 (프로그램이 종료되면 사라짐)\n",
    "# ReAct 에이전트 생성\n",
    "# 에이전트 실행을 위한 설정 정보\n",
    "# 'thread_id'는 대화의 고유 식별자 역할\n",
    "# 에이전트 실행 (서울)\n",
    "# 에이전트 실행 (부산)"
   ]
  },
  {
   "cell_type": "code",
   "execution_count": null,
   "id": "c0011f3f",
   "metadata": {},
   "outputs": [],
   "source": [
    "# 각 단계의 메시지 출력"
   ]
  },
  {
   "cell_type": "code",
   "execution_count": null,
   "id": "68ce39fe",
   "metadata": {},
   "outputs": [],
   "source": [
    "# 각 단계의 메시지 출력"
   ]
  },
  {
   "cell_type": "markdown",
   "id": "1d9de2f2",
   "metadata": {},
   "source": [
    "## 구조화된 출력 반환"
   ]
  },
  {
   "cell_type": "code",
   "execution_count": null,
   "id": "63a37453",
   "metadata": {},
   "outputs": [],
   "source": [
    "# 날씨 응답을 구조화하기 위한 모델\n",
    "class WeatherPlan(BaseModel):\n",
    "# ReAct 에이전트 생성\n",
    "# 에이전트 실행"
   ]
  },
  {
   "cell_type": "code",
   "execution_count": null,
   "id": "03d986a6",
   "metadata": {},
   "outputs": [],
   "source": [
    "# 구조화된 응답 추출"
   ]
  },
  {
   "cell_type": "code",
   "execution_count": null,
   "id": "8164ecc2",
   "metadata": {},
   "outputs": [],
   "source": [
    "# 각 단계의 메시지 출력"
   ]
  },
  {
   "cell_type": "code",
   "execution_count": null,
   "id": "ca8bcaf1",
   "metadata": {},
   "outputs": [],
   "source": []
  },
  {
   "cell_type": "code",
   "execution_count": null,
   "id": "817ae3df",
   "metadata": {},
   "outputs": [],
   "source": []
  }
 ],
 "metadata": {
  "kernelspec": {
   "display_name": "Python 3 (ipykernel)",
   "language": "python",
   "name": "python3"
  },
  "language_info": {
   "codemirror_mode": {
    "name": "ipython",
    "version": 3
   },
   "file_extension": ".py",
   "mimetype": "text/x-python",
   "name": "python",
   "nbconvert_exporter": "python",
   "pygments_lexer": "ipython3",
   "version": "3.11.13"
  }
 },
 "nbformat": 4,
 "nbformat_minor": 5
}
