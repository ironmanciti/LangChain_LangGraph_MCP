{
 "cells": [
  {
   "cell_type": "markdown",
   "id": "86fc5bb2-017f-434e-8cd6-53ab214a5604",
   "metadata": {
    "id": "86fc5bb2-017f-434e-8cd6-53ab214a5604"
   },
   "source": [
    "# Retrieval Augmented Generation (RAG) 애플리케이션 구축: Part 2 - Chatbot Agent \n",
    "\n",
    "### 사용자와의 상호작용을 기억하는 메모리 기능과 다단계 검색(multi-step retrieval)을 통합한 RAG 애플리케이션을 구축\n",
    "\n",
    "- **Part 1**: RAG 개념을 소개하고, 최소한의 구현 방법을 설명합니다.  \n",
    "- **Part 2** 기존 구현을 확장하여 대화형 상호작용과 다단계 검색 프로세스를 처리할 수 있도록 ReAct agent를 생성합니다."
   ]
  },
  {
   "cell_type": "code",
   "execution_count": 1,
   "id": "b058beb4",
   "metadata": {},
   "outputs": [
    {
     "data": {
      "text/plain": [
       "True"
      ]
     },
     "execution_count": 1,
     "metadata": {},
     "output_type": "execute_result"
    }
   ],
   "source": [
    "from dotenv import load_dotenv\n",
    "load_dotenv()"
   ]
  },
  {
   "cell_type": "code",
   "execution_count": 2,
   "id": "a2ef4281",
   "metadata": {},
   "outputs": [],
   "source": [
    "from langchain.chat_models import init_chat_model\n",
    "from langchain_openai import OpenAIEmbeddings\n",
    "\n",
    "model = init_chat_model(\"gpt-5-mini\", model_provider=\"openai\")\n",
    "# model = init_chat_model(\"gemini-2.5-flash\", model_provider=\"google_genai\")\n",
    "\n",
    "# 사용할 임베딩 모델의 이름을 지정\n",
    "embeddings = OpenAIEmbeddings(model='text-embedding-3-large')"
   ]
  },
  {
   "cell_type": "code",
   "execution_count": 3,
   "id": "c9aed5b4-142c-4421-80a2-faecb799bea9",
   "metadata": {},
   "outputs": [],
   "source": [
    "from langchain_core.vectorstores import InMemoryVectorStore\n",
    "\n",
    "vector_store = InMemoryVectorStore(embeddings)"
   ]
  },
  {
   "cell_type": "markdown",
   "id": "fa6ba684-26cf-4860-904e-a4d51380c134",
   "metadata": {
    "id": "fa6ba684-26cf-4860-904e-a4d51380c134"
   },
   "source": [
    "### **문서 불러오기 (Loading Documents)**"
   ]
  },
  {
   "cell_type": "code",
   "execution_count": 4,
   "id": "fef3908a",
   "metadata": {},
   "outputs": [
    {
     "name": "stderr",
     "output_type": "stream",
     "text": [
      "USER_AGENT environment variable not set, consider setting it to identify your requests.\n"
     ]
    },
    {
     "name": "stdout",
     "output_type": "stream",
     "text": [
      "Total characters: 8582\n",
      "블로그 글을 11개의 하위 문서로 분할했습니다.\n"
     ]
    }
   ],
   "source": [
    "import bs4\n",
    "from langchain_community.document_loaders import WebBaseLoader\n",
    "\n",
    "# 주요 콘텐츠 태그만 필터링 (제목, 본문, 코드 등)\n",
    "bs4_strainer = bs4.SoupStrainer(name=(\"h1\", \"h2\", \"h3\", \"p\", \"pre\", \"li\"))\n",
    "\n",
    "# WebBaseLoader 사용: requests_kwargs로 User-Agent 설정\n",
    "loader = WebBaseLoader(\n",
    "    web_paths=(\"https://botpress.com/ko/blog/llm-agents\",),\n",
    "    bs_kwargs={\"parse_only\": bs4_strainer},\n",
    "    requests_kwargs={\n",
    "        \"headers\": {\n",
    "            \"User-Agent\": \"Mozilla/5.0 (Windows NT 10.0; Win64; x64)\"\n",
    "        }\n",
    "    }\n",
    ")\n",
    "\n",
    "# 문서 로드\n",
    "docs = loader.load()\n",
    "\n",
    "# 결과 확인\n",
    "assert len(docs) == 1\n",
    "print(f\"Total characters: {len(docs[0].page_content)}\")\n",
    "\n",
    "from langchain_text_splitters import RecursiveCharacterTextSplitter\n",
    "\n",
    "text_splitter = RecursiveCharacterTextSplitter(\n",
    "    chunk_size=1000,            # 각 청크의 최대 문자 수 (1,000자)\n",
    "    chunk_overlap=200,          # 청크 간 겹치는 문자 수 (200자)\n",
    "    add_start_index=True,       # 원본 문서에서 각 청크의 시작 인덱스를 추적\n",
    ")\n",
    "\n",
    "# 불러온 문서를 설정한 기준에 따라 청크로 분할\n",
    "all_splits = text_splitter.split_documents(docs)\n",
    "\n",
    "# 분할된 청크(서브 문서)의 개수 출력\n",
    "print(f\"블로그 글을 {len(all_splits)}개의 하위 문서로 분할했습니다.\")\n",
    "\n",
    "_ = vector_store.add_documents(documents=all_splits)"
   ]
  },
  {
   "cell_type": "markdown",
   "id": "335abbbf-109f-4eca-9563-d2f6c77995d5",
   "metadata": {},
   "source": [
    "### 검색 단계를 **도구(tool)** 로 전환\n",
    "\n",
    "- `@tool` 함수는 다음과 같이 `OpenAI의 function-calling` 구조로 함수들을 선언합니다.\n",
    "```\n",
    "{\n",
    "  \"name\": \"retrieve\",\n",
    "  \"description\": \"주어진 쿼리와 관련된 정보를 검색합니다.\",\n",
    "  \"parameters\": {\n",
    "    \"type\": \"object\",\n",
    "    \"properties\": {\n",
    "      \"query\": {\n",
    "        \"type\": \"string\",\n",
    "        \"description\": \"검색할 텍스트 쿼리입니다. llm 이 생성해 줍니다.\"\n",
    "      }\n",
    "    },\n",
    "    \"required\": [\"query\"]\n",
    "  }\n",
    "}\n",
    "```"
   ]
  },
  {
   "cell_type": "code",
   "execution_count": 5,
   "id": "f9ce2c96",
   "metadata": {},
   "outputs": [],
   "source": [
    "from langchain_core.tools import tool\n",
    "\n",
    "# 검색(retrieve) 함수를 도구로 정의\n",
    "# - response_format=\"content_and_artifact\"로 지정하면 \n",
    "# 반드시 결과를 직렬화된 content와 artifact로 반환 - Langchain이 format check\n",
    "@tool(response_format=\"content_and_artifact\")\n",
    "def retrieve(query: str):\n",
    "    \"\"\"\n",
    "    주어진 쿼리와 관련된 정보를 검색합니다. \n",
    "    query: 검색할 텍스트 쿼리입니다. llm 이 생성해 줍니다.\n",
    "    \"\"\"    \n",
    "    # 벡터 스토어에서 유사도 검색 수행. 가장 유사한 두 개의 문서를 반환.\n",
    "    retrieved_docs = vector_store.similarity_search(query)\n",
    "    \n",
    "    # 검색된 문서를 문자열로 직렬화\n",
    "    serialized = \"\\n\\n\".join(\n",
    "        (f\"Source: {doc.metadata}\\n\" f\"Content {doc.page_content}\")\n",
    "        for doc in retrieved_docs\n",
    "    )\n",
    "    \n",
    "    # 직렬화된 결과(content)와 원본 문서 목록(artifact) 반환.\n",
    "    return serialized, retrieved_docs"
   ]
  },
  {
   "cell_type": "code",
   "execution_count": 6,
   "id": "6bc33288-a928-4660-9e6b-e79fa3f81d0d",
   "metadata": {},
   "outputs": [
    {
     "data": {
      "image/png": "[encoded data removed]",
      "text/plain": [
       "<langgraph.graph.state.CompiledStateGraph object at 0x111c85090>"
      ]
     },
     "execution_count": 6,
     "metadata": {},
     "output_type": "execute_result"
    }
   ],
   "source": [
    "from langgraph.prebuilt import create_react_agent\n",
    "from langgraph.checkpoint.memory import MemorySaver\n",
    "\n",
    "# MemorySaver: 워크플로우의 상태를 메모리에 저장\n",
    "memory = MemorySaver()\n",
    "\n",
    "tools = [retrieve]\n",
    "\n",
    "app = create_react_agent(model, tools, checkpointer=memory)\n",
    "app"
   ]
  },
  {
   "cell_type": "code",
   "execution_count": 7,
   "id": "c42b97af-7e3c-489a-b876-5efd4611cdd8",
   "metadata": {},
   "outputs": [
    {
     "name": "stdout",
     "output_type": "stream",
     "text": [
      "================================\u001b[1m Human Message \u001b[0m=================================\n",
      "\n",
      "\n",
      "LLM 에이전트 프레임워크를 구성하는 핵심 구성 요소는 무엇인가요?\n",
      "바로 대답하지 말고 주어진 도구를 사용하세요.\n",
      "\n",
      "==================================\u001b[1m Ai Message \u001b[0m==================================\n",
      "Tool Calls:\n",
      "  retrieve (call_HJ2UZsyXqf12a5rZTN6d8dyN)\n",
      " Call ID: call_HJ2UZsyXqf12a5rZTN6d8dyN\n",
      "  Args:\n",
      "    query: LLM 에이전트 프레임워크 핵심 구성 요소\n",
      "  retrieve (call_Jz6qZ767wWUtnwTxMbEfEukz)\n",
      " Call ID: call_Jz6qZ767wWUtnwTxMbEfEukz\n",
      "  Args:\n",
      "    query: core components of LLM agent framework planner memory retriever executor tools safety monitoring\n",
      "=================================\u001b[1m Tool Message \u001b[0m=================================\n",
      "Name: retrieve\n",
      "\n",
      "Source: {'source': 'https://botpress.com/ko/blog/llm-agents', 'start_index': 803}\n",
      "Content 무엇인가요?LLM 에이전트는 대규모 언어 모델을 사용하여 언어를 해석하고, 대화를 나누고, 작업을 수행하는 AI 기반 도구입니다.이러한 에이전트는 방대한 양의 텍스트 데이터로 학습된 복잡한 알고리즘을 기반으로 구축되어 인간과 유사한 방식으로 언어를 이해하고 생성할 수 있습니다. LLM 에이전트를 AI 에이전트, AI 챗봇, 가상 비서, 콘텐츠 생성 소프트웨어 및 기타 응용 도구에 통합할 수 있습니다.LLM 에이전트는 어떻게 작동하나요?LLM 에이전트는 검색, 추론, 메모리 및 도구 사용과 LLM 기능을 결합하여 자율적으로 작업을 완료합니다. 이러한 각 구성 요소의 기능을 자세히 살펴보겠습니다.‍이러한 기능을 함께 사용하면 LLM 에이전트가 완전한 자율성을 가지고 복잡한 다단계 워크플로우를 수행할 수 있습니다. 예를 들어B2B 영업 에이전트는 잠재 고객의 CRM 데이터를 검색하고, 거래 진행 상황을 분석하고, 잠재 고객과의 과거 상호 작용을 기억하여 후속 조치를 맞춤화하고, 이메일 및 캘린더 API를 사용하여 전송 및 일정을 잡습니다.IT 상담원은 시스템 로그를 검색하여 오류를 진단하고, 최상의 전략을 위해 문제 해결 단계를 분석하며, 이전 사용자 문제에서 효과가 있었던 것을 기억하고, 스크립트를 실행하여 서비스를 다시 시작하거나 티켓을 작성합니다.LLM 에이전트를 정의하는 4가지 기능은 무엇인가요?LLM 상담원에는 네 가지 주요 기능이 있습니다:1. 언어 모델 언어 모델은 종종 LLM 에이전트의 '두뇌'로 간주됩니다. 그 품질과 규모는 LLM 에이전트의 성능에 직접적인 영향을 미칩니다.방대한 텍스트 데이터 세트를 학습한 정교한 알고리즘으로, 문맥을 이해하고 패턴을 인식하며 일관되고 맥락에 맞는 응답을 생성할 수 있습니다.언어 패턴 식별 및 학습방대한 학습 데이터를 통해 어느 정도의 상황 인식 능력 향상다양한 도메인에 적응하고 다양한 주제를 처리하세요.언어 모델은 상담원의 언어 능력의 기초가 되는 응답의 깊이, 정확성 및 관련성을 결정합니다. 2.\n",
      "\n",
      "Source: {'source': 'https://botpress.com/ko/blog/llm-agents', 'start_index': 1598}\n",
      "Content 데이터 세트를 학습한 정교한 알고리즘으로, 문맥을 이해하고 패턴을 인식하며 일관되고 맥락에 맞는 응답을 생성할 수 있습니다.언어 패턴 식별 및 학습방대한 학습 데이터를 통해 어느 정도의 상황 인식 능력 향상다양한 도메인에 적응하고 다양한 주제를 처리하세요.언어 모델은 상담원의 언어 능력의 기초가 되는 응답의 깊이, 정확성 및 관련성을 결정합니다. 2. 메모리메모리는 사실, 사용자 선호도 또는 세션 전반의 주제와 같은 과거 상호 작용에서 얻은 정보를 유지하는 기능을 말합니다. 이를 통해 상담원의 문맥 이해도가 향상되고 대화가 더욱 연속적이고 관련성이 높아집니다. 일부 설정에서는 메모리를 통해 상담원이 시간이 지나도 정보를 유지할 수 있습니다. 이는 상담원이 반복되는 사용자 행동이나 선호도를 통해 '학습'하는 장기적인 상호작용을 지원하지만, 개인정보 보호 및 관련성을 위해 규제되는 경우가 많습니다.3. 도구 사용이 도구를 사용하면 LLM 상담원이 대화에서 행동으로 옮길 수 있습니다. LLM 에이전트는 외부 애플리케이션, 데이터베이스 또는 API와 통합하여 특정 기능을 수행할 수 있습니다. 즉, 실시간 정보를 가져오고, 외부 작업을 실행하거나, 특수 데이터베이스에 액세스하여 실시간 정보를 제공할 수 있는 기능을 제공합니다. 여기에는 다음이 포함됩니다:API 호출하기날씨 업데이트나 주가 같은 실시간 데이터 가져오기회의 또는 약속 예약하기제품 카탈로그나 인사 정책 문서와 같은 데이터베이스 쿼리하기툴을 사용하면 LLM 상담원이 수동적인 지식 기반 시스템에서 다른 시스템과 상호 작용할 수 있는 능동적인 참여자로 전환할 수 있습니다.4. 계획 계획은 LLM 상담원이 복잡한 작업을 관리 가능한 일련의 단계로 세분화하는 기능입니다. LLM 상담원은 피드백을 받거나 받지 않고 계획을 세울 수 있습니다. 어떤 차이가 있을까요?피드백 없이 계획을 세우면 LLM 상담원이 초기 이해를 바탕으로 계획을 작성합니다. 더 빠르고 간단하지만 적응력이 부족합니다.피드백이 포함된 계획은 LLM\n",
      "\n",
      "Source: {'source': 'https://botpress.com/ko/blog/llm-agents', 'start_index': 0}\n",
      "Content LLM 에이전트 완전 가이드 (2025)LLM 에이전트는 언어 이해, 기억력, 도구 사용 및 계획 능력을 결합하여 단순한 채팅을 넘어 복잡하고 자율적인 작업을 수행할 수 있습니다.LLM 에이전트를 개선하려면 정확성과 안정성을 높이기 위해 RAG, 미세 조정, n-샷 프롬프트, 고급 프롬프트 엔지니어링과 같은 기술이 필요합니다.LLM 에이전트를 구축하려면 명확한 목표, 적합한 플랫폼, 모델 구성, 통합, 테스트 및 지속적인 모니터링이 필요합니다.강력한 기능에도 불구하고 LLM 에이전트에는 환각, 개인정보 보호 위험, 컨텍스트 제약 등의 한계가 있으므로 신중한 설계와 감독이 필수적입니다.올해 가장 뜨거운 화두인 AI 에이전트에 대해 잘 알고 계실 겁니다: 바로 AI 에이전트입니다. 이러한 AI 에이전트의 대부분은 LLM 에이전트입니다 . 왜 그럴까요?\"지난 몇 년 동안 자율 에이전트에는 많은 변화가 있었습니다.\"라고 Botpress CEO Sylvain Perron 설명합니다. \"기본 모델이 개선되었습니다. LLMs 추론과 추상화의 새로운 계층을 열었습니다.\"LLMs 강력한 기능을 통해 모든 종류의 언어 기반 또는 추론 작업을 완료하도록 AI 에이전트를 구축할 수 있습니다.그리고 언어와 분석 능력 덕분에 향후 몇 년 내에 80% 이상의 기업이 AI 에이전트를 사용할 계획을 세우는 등 화이트칼라 직장을 서서히 대체하고 있습니다.AI 에이전트의 넓은 범주에는 비언어적 애플리케이션(콘텐츠 추천 시스템, 이미지 인식, 로봇 제어 등)이 포함되지만, LLM 에이전트는 일반적으로 대화형 AI 소프트웨어입니다. LLM 에이전트란 무엇인가요?LLM 에이전트는 대규모 언어 모델을 사용하여 언어를 해석하고, 대화를 나누고, 작업을 수행하는 AI 기반 도구입니다.이러한 에이전트는 방대한 양의 텍스트 데이터로 학습된 복잡한 알고리즘을 기반으로 구축되어 인간과 유사한 방식으로 언어를 이해하고 생성할 수 있습니다. LLM 에이전트를 AI 에이전트, AI 챗봇, 가상 비서, 콘텐츠 생성\n",
      "\n",
      "Source: {'source': 'https://botpress.com/ko/blog/llm-agents', 'start_index': 2397}\n",
      "Content 수 있습니다.4. 계획 계획은 LLM 상담원이 복잡한 작업을 관리 가능한 일련의 단계로 세분화하는 기능입니다. LLM 상담원은 피드백을 받거나 받지 않고 계획을 세울 수 있습니다. 어떤 차이가 있을까요?피드백 없이 계획을 세우면 LLM 상담원이 초기 이해를 바탕으로 계획을 작성합니다. 더 빠르고 간단하지만 적응력이 부족합니다.피드백이 포함된 계획은 LLM 상담원이 환경의 의견을 반영하여 계획을 지속적으로 개선할 수 있음을 의미합니다. 더 복잡하지만 훨씬 더 유연하고 시간이 지남에 따라 성능이 향상됩니다. LLM 상담원은 계획을 통해 솔루션을 향해 점진적으로 이동하는 논리적 흐름을 만들 수 있으므로 복잡한 요청을 보다 효과적으로 처리할 수 있습니다.LLM 에이전트의 4가지 유형은 무엇인가요?1. 대화형 상담원(예: 고객 지원 및 리드 생성)이러한 유형의 상담원은 사용자와 자연스럽게 대화를 나누며 정보를 제공하고 질문에 답하며 다양한 작업을 지원합니다. 이러한 에이전트는 LLMs 을 사용하여 사람과 유사한 응답을 이해하고 생성합니다. 예시: 예: 고객 지원 상담원 및 의료 챗봇2. 작업 지향 에이전트(예: AI 어시스턴트 및 AI 워크플로) 2.특정 작업을 수행하거나 미리 정의된 목표를 달성하는 데 중점을 둔 이러한 에이전트는 사용자와 상호 작용하여 사용자의 요구 사항을 파악한 다음 이러한 요구 사항을 충족하기 위한 작업을 실행합니다.예시  예:AI 어시스턴트 및 HR 봇3. 크리에이티브 에이전트(예: 콘텐츠 제작 도구)예술 작품, 음악, 글쓰기 등 독창적이고 창의적인 콘텐츠를 제작할 수 있는 이 에이전트는 LLMs 을 통해 사람들의 선호도와 예술적 스타일을 파악하여 시청자의 공감을 이끌어내는 콘텐츠를 제작할 수 있습니다. 예시 예: 콘텐츠 생성 도구 및 이미지 생성 도구(예: Dall-E)4. 협업 에이전트(예: 엔터프라이즈 AI 에이전트)이러한 에이전트는 인간과 함께 공동의 목표나 작업을 수행하며 팀원 간 또는 인간과 기계 간의 커뮤니케이션, 조정, 협력을\n",
      "==================================\u001b[1m Ai Message \u001b[0m==================================\n",
      "\n",
      "요청하신 대로 제공된 도구로 관련 문서를 검색해 정보를 확인했습니다. 그 자료들을 바탕으로 LLM(대형언어모델) 에이전트 프레임워크의 핵심 구성 요소를 정리하면 다음과 같습니다.\n",
      "\n",
      "- LLM(언어 모델)  \n",
      "  - 자연어 추론·계획·생성의 핵심 엔진(예: GPT 계열).  \n",
      "\n",
      "- 플래너(Planner) / 정책 결정부  \n",
      "  - 목표를 쪼개고 다음 동작(질문·도구 호출·추가 검색 등)을 결정하는 루프(Chain-of-thought/생각-행동 분리).  \n",
      "\n",
      "- 메모리(Memory)  \n",
      "  - 단기(대화 컨텍스트)와 장기(사용자 프로필, 세션 이력)를 유지해 참조하는 저장소(예: 벡터 DB + 임베딩).  \n",
      "\n",
      "- 리트리버(Retriever) / RAG 구성요소  \n",
      "  - 외부 지식(문서, DB)을 검색해 LLM에 보강 정보로 제공하는 검색·유사도 모듈.  \n",
      "\n",
      "- 툴(도구) 인터페이스 및 래퍼(Tooling)  \n",
      "  - 외부 API, 데이터베이스, 브라우저 자동화, 시스템 명령 등을 안전하게 호출하기 위한 래퍼와 스펙(입출력 규격).  \n",
      "\n",
      "- 실행기(Executor) / 액추에이터  \n",
      "  - 플래너가 결정한 도구 호출을 실제로 수행하고 결과를 에이전트로 반환하는 구성요소.  \n",
      "\n",
      "- 관찰자(Observations) / 센서 입력  \n",
      "  - 외부 상태(웹 응답, 센서 데이터 등)를 에이전트가 인식할 수 있게 표준화하여 전달.  \n",
      "\n",
      "- 프롬프트·컨텍스트 관리(Prompt Manager)  \n",
      "  - 역할, 지침, 예시, 시스템 메시지 등 프롬프트를 구성하고 컨텍스트를 관리하는 모듈.  \n",
      "\n",
      "- 안전·검증·필터링(Safety & Guardrails)  \n",
      "  - 유해·민감 응답 차단, 출처 표기, 액션 전 검증(정책 검사), 허용 목록/거부 목록 등.  \n",
      "\n",
      "- 로깅·모니터링·해석성(Observability & Auditing)  \n",
      "  - 의사결정 기록, 도구 호출 로그, 성능/비정상 탐지, 감사용 저장(디버깅·규정준수 목적).  \n",
      "\n",
      "- 테스트·시뮬레이션 / 시나리오 엔지니어링  \n",
      "  - 에이전트 동작을 자동화된 시나리오로 검증하고 회귀 테스트하는 체계.  \n",
      "\n",
      "- 인프라·오케스트레이션(Deployment & Orchestration)  \n",
      "  - 멀티모달·멀티스레드 세션 관리, 확장성(스케일링), 인증·권한 관리, 비용·지연 제어.  \n",
      "\n",
      "설계 시 고려할 점(요약)  \n",
      "- RAG와 메모리 설계로 사실성(정확도) 확보, 도구 호출 정책과 권한 분리로 안전성 확보, 관찰성/로깅으로 문제 원인 분석 가능하게 구성해야 합니다.\n",
      "\n",
      "원하시면 위 항목들을 기반으로 구체적인 아키텍처 예시(컴포넌트 다이어그램), 구현 스택(예: LLM 제공자, 벡터 DB, 메시지 큐, 툴 인터페이스 샘플) 또는 체크리스트 형태로 정리해 드리겠습니다. 어떤 형태로 더 도와드릴까요?\n"
     ]
    }
   ],
   "source": [
    "config = {\"configurable\": {\"thread_id\": \"def1234\"}} \n",
    "\n",
    "input_message = \"\"\"\n",
    "LLM 에이전트 프레임워크를 구성하는 핵심 구성 요소는 무엇인가요?\n",
    "바로 대답하지 말고 주어진 도구를 사용하세요.\n",
    "\"\"\"\n",
    "\n",
    "\n",
    "for step in app.stream(\n",
    "    {\"messages\": [{\"role\": \"user\", \"content\": input_message}]},\n",
    "    config,\n",
    "    stream_mode=\"values\",\n",
    "):\n",
    "    step[\"messages\"][-1].pretty_print()"
   ]
  },
  {
   "cell_type": "markdown",
   "id": "e255152f-8a21-4eb1-9dee-1da2e182e361",
   "metadata": {},
   "source": [
    "------------------------------\n",
    "에이전트가 수행하는 과정은 다음과 같습니다:  \n",
    "\n",
    "1. **작업 분해(Task Decomposition)의 표준 방법을 검색하기 위한 쿼리를 생성합니다.**  \n",
    "2. **첫 번째 답변을 받은 후, 해당 방법의 일반적인 확장을 검색하는 두 번째 쿼리를 생성합니다.**  \n",
    "3. **필요한 모든 문맥을 확보한 후, 최종적으로 질문에 대한 답변을 생성합니다.**  "
   ]
  },
  {
   "cell_type": "code",
   "execution_count": null,
   "id": "c7870944-2a4c-4bce-9a46-d3b9ccfae30c",
   "metadata": {},
   "outputs": [],
   "source": []
  }
 ],
 "metadata": {
  "colab": {
   "provenance": []
  },
  "kernelspec": {
   "display_name": "Python 3 (ipykernel)",
   "language": "python",
   "name": "python3"
  },
  "language_info": {
   "codemirror_mode": {
    "name": "ipython",
    "version": 3
   },
   "file_extension": ".py",
   "mimetype": "text/x-python",
   "name": "python",
   "nbconvert_exporter": "python",
   "pygments_lexer": "ipython3",
   "version": "3.11.13"
  }
 },
 "nbformat": 4,
 "nbformat_minor": 5
}
