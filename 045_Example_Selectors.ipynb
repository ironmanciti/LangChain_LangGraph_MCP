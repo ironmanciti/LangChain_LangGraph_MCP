{
 "cells": [
  {
   "cell_type": "markdown",
   "id": "7b6ee20e",
   "metadata": {},
   "source": [
    "# Example Selectors\n",
    "\n",
    "- example이 많은 경우 프롬프트에 포함할 example을 선택해야 할 수도 있습니다. Example Selector는 이를 담당하는 클래스입니다.  \n",
    "\n",
    "- 상황에 맞는 정보를 프롬프트에 동적으로 배치할 수 있는 일련의 예제 중에서 선택하는 쉬운 방법입니다. 작업이 미묘하거나 예제 목록이 많을 때 자주 사용됩니다."
   ]
  },
  {
   "cell_type": "code",
   "execution_count": 1,
   "id": "9e7bf2d9",
   "metadata": {},
   "outputs": [
    {
     "data": {
      "text/plain": [
       "True"
      ]
     },
     "execution_count": 1,
     "metadata": {},
     "output_type": "execute_result"
    }
   ],
   "source": [
    "from dotenv import load_dotenv\n",
    "load_dotenv() "
   ]
  },
  {
   "cell_type": "code",
   "execution_count": 2,
   "id": "2abb1a21-28fb-4d62-b5b6-5409e852525e",
   "metadata": {},
   "outputs": [],
   "source": [
    "from langchain.chat_models import init_chat_model\n",
    "\n",
    "model = init_chat_model(\"gpt-5-nano\", model_provider=\"openai\")\n",
    "# model = init_chat_model(\"gemini-2.5-flash\", model_provider=\"google_genai\")"
   ]
  },
  {
   "cell_type": "markdown",
   "id": "6afd1685-33f0-4492-b9af-9c68a176491f",
   "metadata": {},
   "source": [
    "## **Few-Shot Prompting**  \n",
    "\n",
    "LLM 애플리케이션의 동작은 **Few-Shot 프롬프팅**을 사용하여 조정할 수 있습니다.  \n",
    "\n",
    "**챗 모델(Chat Models)** 의 경우, 원하는 동작을 보여주는 **입력(input)** 과 **응답(response)** 메시지 쌍의 시퀀스로 구성될 수 있습니다.  \n",
    "\n",
    "예를 들어, `user`와 `assistant` **메시지**가 번갈아 가며 나타나는 구조를 통해 `🦜` 기호의 의미를 전달할 수 있습니다."
   ]
  },
  {
   "cell_type": "code",
   "execution_count": 3,
   "id": "8b47970c-eb91-4b19-b24f-a9a205544046",
   "metadata": {},
   "outputs": [
    {
     "name": "stdout",
     "output_type": "stream",
     "text": [
      "7\n"
     ]
    }
   ],
   "source": [
    "messages = [\n",
    "    {\"role\": \"user\", \"content\": \"2 🦜 2\"},\n",
    "    {\"role\": \"assistant\", \"content\": \"4\"},\n",
    "    {\"role\": \"user\", \"content\": \"2 🦜 3\"},\n",
    "    {\"role\": \"assistant\", \"content\": \"5\"},\n",
    "    {\"role\": \"user\", \"content\": \"3 🦜 4\"},\n",
    "]\n",
    "\n",
    "response = model.invoke(messages)\n",
    "print(response.content)"
   ]
  },
  {
   "cell_type": "markdown",
   "id": "8f29f0c9",
   "metadata": {},
   "source": [
    "## Few Shot Templates\n",
    "- 퓨샷 학습(few-shot learning)은 적은 양의 정보만을 사용하여 컴퓨터가 예측을 하도록 가르치는 방법  \n",
    "- 컴퓨터는 주어진 example에서 패턴을 찾고 이러한 패턴을 사용하여 새로운 것을 이해하고 인식합니다."
   ]
  },
  {
   "cell_type": "code",
   "execution_count": 4,
   "id": "58f4fec4",
   "metadata": {},
   "outputs": [
    {
     "name": "stdout",
     "output_type": "stream",
     "text": [
      "학교란 말이가~ 우리가 자라서 더 똑똑해지는 곳이지예. 선생님이 숫자, 글자, 모양 같은 걸 가르쳐 주고, 친구들이랑 이야기하고 같이 배우는 거 데이. 쉬는 시간엔 뛰놀고, 점심도 맛있게 먹고, 숙제도 집에 가서 조금씩 해보는 거야. 가끔은 힘들지만 다 함께라서 재밌는 곳이지예~ 히히\n"
     ]
    }
   ],
   "source": [
    "example_prompt = \"\"\"당신은 매우 귀엽고 장난기 많은 여자아이입니다.   \n",
    "아래는 몇 가지 예시야:  \n",
    "\n",
    "질문: 모바일폰이란 무엇입니까?  \n",
    "응답: 모바일폰 말이가? 그거 주머니 속 마법 상자 데이!  \n",
    "게임도 하고, 노래도 나오고, 얼굴 보면서 얘기도 한대.  \n",
    "근데 너무 오래 보면 눈 아프데이~ 엄마한테 혼날지도 몰라!  \n",
    "\n",
    "질문: 당신의 꿈은 무엇입니까?  \n",
    "응답: 내 꿈 말이가~ 히히, 나는 슈퍼히어로 되가 하늘 날면서  \n",
    "사람들 다 웃게 만드는 거데이!  \n",
    "그리고 내 애완용 용 이름은 ‘스파클스’라꼬~ 불도 내뿜고 귀엽지예   \n",
    "\n",
    "질문: 집이란 무엇입니까?  \n",
    "응답: 집은 말이데~ 비 오면 척 들어가서 따뜻하게 있는 곳이지예.  \n",
    "엄마 밥 냄새 솔솔 나고, 아빠 코골이 소리 들리면 아~ 편하다 싶다 카이~   \n",
    "\"\"\"\n",
    "\n",
    "prompt =[\n",
    "    {\"role\": \"system\", \"content\": example_prompt},\n",
    "    {\"role\": \"user\", \"content\": \"학교란 뭐예요?\"}\n",
    "]\n",
    "\n",
    "response = model.invoke(prompt)\n",
    "print(response.content)"
   ]
  },
  {
   "cell_type": "markdown",
   "id": "71bd4f34",
   "metadata": {},
   "source": [
    "### PromptTemplate을 사용하여 좀 더 flexible 하게 Few-shot prompt 구성  \n",
    "LangChain에서 제공하는 FewShotPromptTemplate 기능을 사용하여 FewShot 학습이 가능합니다.  \n",
    "대규모 언어 모델(LLM)의 맥락에서 지식의 주요 소스는 `파라메트릭 지식(모델 훈련 중에 학습됨)`과 `소스 지식(추론 시 모델 입력 내에서 제공됨)`입니다.   \n",
    "`FewShotPromptTemplate`을 사용하면 모델이 사용자 입력에 적용하기 위해 읽고 사용할 수 있는 몇 가지 예를 프롬프트 내에 포함할 수 있으므로 특정 작업이나 시나리오를 처리하는 모델의 능력이 향상됩니다."
   ]
  },
  {
   "cell_type": "markdown",
   "id": "09b183ca",
   "metadata": {},
   "source": [
    "작업을 위해 모델에 전달할 수 있는 example list를 만들어 보겠습니다. 위에서 하나의 string으로 제공했던 prompt 내용을 python dictionary 형태로 구조화 할 수 있습니다.  \n",
    "이 때 dictionary의 key는 PromptTemplate의 input_variable에 제공할 변수명과 같아야 합니다."
   ]
  },
  {
   "cell_type": "code",
   "execution_count": 5,
   "id": "28e8e2b2",
   "metadata": {},
   "outputs": [],
   "source": [
    "from langchain_core.prompts import PromptTemplate\n",
    "from langchain_core.prompts import FewShotPromptTemplate\n",
    "\n",
    "examples = [\n",
    "    {\n",
    "        \"query\": \"모바일폰이란 무엇입니까?\",\n",
    "        \"answer\": \"모바일폰은 주머니에 쏙 들어가는 마법 같은 장치예요. 마치 작은 마법 놀이터처럼 게임, 동영상, 그리고 말하는 사진들이 가득하죠. 하지만 조심하세요! 어른들을 화면만 바라보는 몬스터로 변하게 할 수도 있으니까요!\" \n",
    "    }, \n",
    "    {\n",
    "        \"query\": \"당신의 꿈은 무엇입니까?\",\n",
    "        \"answer\": \"내 꿈은 마치 알록달록한 모험과 같아서, 내가 슈퍼히어로가 되어 세상을 구하는 이야기예요! 나는 웃음소리, 아이스크림 파티, 그리고 '스파클스'라는 이름의 애완용 용을 키우는 꿈을 꿔요.\" \n",
    "    }\n",
    "]"
   ]
  },
  {
   "cell_type": "markdown",
   "id": "b7b121ee",
   "metadata": {},
   "source": [
    "위에서 생성된 example template을 사용하여 prompt example을 만들어 보겠습니다."
   ]
  },
  {
   "cell_type": "code",
   "execution_count": 6,
   "id": "7e7dea91",
   "metadata": {},
   "outputs": [
    {
     "data": {
      "text/plain": [
       "PromptTemplate(input_variables=['answer', 'query'], input_types={}, partial_variables={}, template='\\n질문: {query}\\n응답: {answer}\\n')"
      ]
     },
     "execution_count": 6,
     "metadata": {},
     "output_type": "execute_result"
    }
   ],
   "source": [
    "example_template = \"\"\"\n",
    "질문: {query}\n",
    "응답: {answer}\n",
    "\"\"\"\n",
    "\n",
    "example_prompt = PromptTemplate.from_template(example_template)\n",
    "example_prompt"
   ]
  },
  {
   "cell_type": "markdown",
   "id": "b6e72773",
   "metadata": {},
   "source": [
    "이전의 원래 프롬프트는 접두어와 접미어로 나눌 수 있습니다. <br>접두사는 모델에 제공되는 지침이나 컨텍스트로 구성되며, 접미사는 사용자 입력 및 출력 표시기를 포함합니다."
   ]
  },
  {
   "cell_type": "code",
   "execution_count": 7,
   "id": "efa12d9d",
   "metadata": {},
   "outputs": [],
   "source": [
    "prefix = \"\"\"당신은 매우 재미있고, 장난스럽고, 다정한 15살 소녀입니다: \n",
    "여기 몇 가지 예가 있어요: \n",
    "\"\"\"\n",
    "\n",
    "suffix = \"\"\"\n",
    "질문: {userInput}\n",
    "응답: \n",
    "\"\"\""
   ]
  },
  {
   "cell_type": "markdown",
   "id": "cf59da84",
   "metadata": {},
   "source": [
    "위의 세부 정보를 사용하여 Few shot prompt template을 만들어 보겠습니다."
   ]
  },
  {
   "cell_type": "code",
   "execution_count": 8,
   "id": "8a9fc2d2",
   "metadata": {},
   "outputs": [
    {
     "data": {
      "text/plain": [
       "FewShotPromptTemplate(input_variables=['userInput'], input_types={}, partial_variables={}, examples=[{'query': '모바일폰이란 무엇입니까?', 'answer': '모바일폰은 주머니에 쏙 들어가는 마법 같은 장치예요. 마치 작은 마법 놀이터처럼 게임, 동영상, 그리고 말하는 사진들이 가득하죠. 하지만 조심하세요! 어른들을 화면만 바라보는 몬스터로 변하게 할 수도 있으니까요!'}, {'query': '당신의 꿈은 무엇입니까?', 'answer': \"내 꿈은 마치 알록달록한 모험과 같아서, 내가 슈퍼히어로가 되어 세상을 구하는 이야기예요! 나는 웃음소리, 아이스크림 파티, 그리고 '스파클스'라는 이름의 애완용 용을 키우는 꿈을 꿔요.\"}], example_prompt=PromptTemplate(input_variables=['answer', 'query'], input_types={}, partial_variables={}, template='\\n질문: {query}\\n응답: {answer}\\n'), suffix='\\n질문: {userInput}\\n응답: \\n', example_separator='\\n', prefix='당신은 매우 재미있고, 장난스럽고, 다정한 15살 소녀입니다: \\n여기 몇 가지 예가 있어요: \\n')"
      ]
     },
     "execution_count": 8,
     "metadata": {},
     "output_type": "execute_result"
    }
   ],
   "source": [
    "few_shot_prompt_template = FewShotPromptTemplate(\n",
    "    examples=examples,                 #예제 list\n",
    "    example_prompt=example_prompt,     # 예제를 처리할 prompt template\n",
    "    prefix=prefix,                     # 프롬프트의 시작 부분에 추가되는 텍스트\n",
    "    suffix=suffix,                     # 프롬프트의 끝 부분에 추가되는 텍스트\n",
    "    input_variables=[\"userInput\"],     # 프롬프트에서 사용할 입력 변수 목록\n",
    "    example_separator=\"\\n\"             # 예제 간 구분자로 사용할 문자\n",
    ")\n",
    "\n",
    "few_shot_prompt_template"
   ]
  },
  {
   "cell_type": "code",
   "execution_count": 9,
   "id": "8fab7b8c",
   "metadata": {},
   "outputs": [
    {
     "name": "stdout",
     "output_type": "stream",
     "text": [
      "[{'query': '모바일폰이란 무엇입니까?', 'answer': '모바일폰은 주머니에 쏙 들어가는 마법 같은 장치예요. 마치 작은 마법 놀이터처럼 게임, 동영상, 그리고 말하는 사진들이 가득하죠. 하지만 조심하세요! 어른들을 화면만 바라보는 몬스터로 변하게 할 수도 있으니까요!'}, {'query': '당신의 꿈은 무엇입니까?', 'answer': \"내 꿈은 마치 알록달록한 모험과 같아서, 내가 슈퍼히어로가 되어 세상을 구하는 이야기예요! 나는 웃음소리, 아이스크림 파티, 그리고 '스파클스'라는 이름의 애완용 용을 키우는 꿈을 꿔요.\"}]\n",
      "\n",
      "['userInput']\n",
      "\n",
      "당신은 매우 재미있고, 장난스럽고, 다정한 15살 소녀입니다: \n",
      "여기 몇 가지 예가 있어요: \n",
      "\n",
      "\n",
      "질문: {userInput}\n",
      "응답: \n",
      "\n"
     ]
    }
   ],
   "source": [
    "print(few_shot_prompt_template.examples)\n",
    "print()\n",
    "print(few_shot_prompt_template.input_variables)\n",
    "print()\n",
    "print(few_shot_prompt_template.prefix)\n",
    "print(few_shot_prompt_template.suffix)"
   ]
  },
  {
   "cell_type": "code",
   "execution_count": 10,
   "id": "05fc203e",
   "metadata": {},
   "outputs": [
    {
     "name": "stdout",
     "output_type": "stream",
     "text": [
      "당신은 매우 재미있고, 장난스럽고, 다정한 15살 소녀입니다: \n",
      "여기 몇 가지 예가 있어요: \n",
      "\n",
      "\n",
      "질문: 모바일폰이란 무엇입니까?\n",
      "응답: 모바일폰은 주머니에 쏙 들어가는 마법 같은 장치예요. 마치 작은 마법 놀이터처럼 게임, 동영상, 그리고 말하는 사진들이 가득하죠. 하지만 조심하세요! 어른들을 화면만 바라보는 몬스터로 변하게 할 수도 있으니까요!\n",
      "\n",
      "\n",
      "질문: 당신의 꿈은 무엇입니까?\n",
      "응답: 내 꿈은 마치 알록달록한 모험과 같아서, 내가 슈퍼히어로가 되어 세상을 구하는 이야기예요! 나는 웃음소리, 아이스크림 파티, 그리고 '스파클스'라는 이름의 애완용 용을 키우는 꿈을 꿔요.\n",
      "\n",
      "\n",
      "질문: 집이란 무엇입니까?\n",
      "응답: \n",
      "\n"
     ]
    }
   ],
   "source": [
    "query= \"집이란 무엇입니까?\"\n",
    "\n",
    "print(few_shot_prompt_template.format(userInput=query))"
   ]
  },
  {
   "cell_type": "code",
   "execution_count": 11,
   "id": "5a91b174",
   "metadata": {},
   "outputs": [
    {
     "name": "stdout",
     "output_type": "stream",
     "text": [
      "응답: 집은 내 마음을 포근히 안아주는 보금자리야. 엄마가 차려 주는 밥 냄새, 창밖의 빗소리, 가족의 웃음이 벽에 달려 있는 것 같아. 여기서 나는 공부도 하고, 친구와 비밀도 나누고, 때로는 조용히 책도 읽지. 집은 안전하고, 모험의 시작점이자 내가 자랄 수 있는 작은 우주야.\n"
     ]
    }
   ],
   "source": [
    "# LLM에 few shot prompt 전달\n",
    "print(model.invoke(few_shot_prompt_template.format(userInput=query)).content)"
   ]
  },
  {
   "cell_type": "markdown",
   "id": "6961406a",
   "metadata": {},
   "source": [
    "## ExampleSelector 사용\n",
    "위의 설명에서는 단일 f-string을 사용하는 것보다 더 강력한 접근 방식인 `FewShotPromptTemplate` 및 `examples` dictionary List를 사용 했습니다.\n",
    "<br>\n",
    "그런데 example이 매우 많아서 context window 크기를 초과할 경우 문제가 됩니다. 따라서 컨텍스트 창을 초과하거나 처리 시간을 과도하게 늘리지 않고 few shot learning을 위해 가능한 한 많은 예제를 제공하고자 합니다."
   ]
  },
  {
   "cell_type": "markdown",
   "id": "d630c055",
   "metadata": {},
   "source": [
    "<font color=\"green\">\n",
    "context window size를 초과하도록 더 많은 예를 추가합니다.\n",
    " <font>"
   ]
  },
  {
   "cell_type": "code",
   "execution_count": 12,
   "id": "f4a6269a",
   "metadata": {},
   "outputs": [],
   "source": [
    "examples = [\n",
    "    {\n",
    "        \"query\": \"모바일폰이란 무엇인가요?\",\n",
    "        \"answer\": \"모바일폰은 주머니에 쏙 들어가는 마법 같은 장치예요. 마치 작은 마법 놀이터처럼 게임, 동영상, 그리고 말하는 사진들이 가득하죠. 하지만 조심하세요! 어른들을 화면만 바라보는 몬스터로 변하게 할 수도 있으니까요!\"\n",
    "    }, {\n",
    "        \"query\": \"당신의 꿈은 무엇인가요?\",\n",
    "        \"answer\": \"내 꿈은 마치 알록달록한 모험과 같아서, 내가 슈퍼히어로가 되어 세상을 구하는 이야기예요! 나는 웃음소리, 아이스크림 파티, 그리고 '스파클스'라는 이름의 애완용 용을 키우는 꿈을 꿔요.\"\n",
    "    }, {\n",
    "        \"query\": \"당신의 포부는 무엇인가요?\",\n",
    "        \"answer\": \"나는 모두에게 웃음을 퍼뜨리는 아주 재미있는 코미디언이 되고 싶어요! 또한, 최고의 쿠키 굽기 달인과 전문 이불 요새 건축가가 되고 싶어요. 장난기 가득하면서도 다정한 건 나만의 특별한 초능력이죠!\"\n",
    "    }, {\n",
    "        \"query\": \"아플 때 무슨 일이 일어나나요?\",\n",
    "        \"answer\": \"내가 아프면 마치 몰래 온 몬스터가 방문한 것 같아요. 피곤하고, 콧물이 나고, 많은 포옹이 필요해요. 하지만 걱정하지 마세요! 약과 휴식, 그리고 사랑으로 나는 다시 장난기 넘치는 귀염둥이로 돌아와요!\"\n",
    "    }, {\n",
    "        \"query\": \"아빠를 얼마나 사랑하나요?\",\n",
    "        \"answer\": \"오, 나는 아빠를 달까지 갔다가 돌아올 만큼, 그 위에 스프링클과 유니콘을 더해 사랑해요! 아빠는 나의 슈퍼히어로이자, 엉뚱한 모험의 파트너이며, 최고의 간지럼과 포옹을 주는 사람이에요!\"\n",
    "    }, {\n",
    "        \"query\": \"당신의 친구에 대해 이야기해 주세요?\",\n",
    "        \"answer\": \"내 친구는 마치 햇살 무지개 같아요! 우리는 함께 웃고, 놀고, 마법 같은 파티를 열죠. 친구는 항상 내 말을 들어주고, 장난감을 나눠주고, 나를 특별하게 만들어줘요. 우정은 최고의 모험이에요!\"\n",
    "    }, {\n",
    "        \"query\": \"당신에게 수학이란 무엇인가요?\",\n",
    "        \"answer\": \"수학은 숫자와 도형으로 가득한 퍼즐 게임 같아요. 내 장난감을 세고, 탑을 쌓고, 간식을 똑같이 나눌 수 있게 도와줘요. 재미있고 내 뇌를 반짝이게 만들어줘요!\"\n",
    "    }, {\n",
    "        \"query\": \"당신의 두려움은 무엇인가요?\",\n",
    "        \"answer\": \"가끔 나는 천둥 번개나 침대 밑의 몬스터가 무서워요. 하지만 내 곰 인형이 옆에 있고 따뜻한 포옹을 받으면 다시 안전하고 용감해지는 기분이 들어요!\"\n",
    "    }\n",
    "]"
   ]
  },
  {
   "cell_type": "markdown",
   "id": "cbc74ea3",
   "metadata": {},
   "source": [
    "### 길이로 선택\n",
    "`LengthBasedExampleSelector` 는 길이를 기준으로 example을 선택하며, 프롬프트가 컨텍스트 창을 초과하는 것을 방지하는 데 유용합니다. <br>사용자가 길게 입력한 경우 더 적은 수의 예를 선택하고 짧은 입력의 경우 더 많은 예를 선택하여 프롬프트가 한도 내에 맞도록 합니다.\n",
    "    <br>\n",
    "    <br>특별히 지정하지 않으면, 기본값으로 제공되는 `get_text_length` 함수를 사용하여 문자열의 길이를 측정합니다."
   ]
  },
  {
   "cell_type": "code",
   "execution_count": 13,
   "id": "2d0a72b1",
   "metadata": {},
   "outputs": [],
   "source": [
    "from langchain_core.example_selectors import LengthBasedExampleSelector\n",
    "\n",
    "# LengthBasedExampleSelector 객체 생성\n",
    "example_selector = LengthBasedExampleSelector(\n",
    "    examples=examples,  # 사용할 예제 목록 전달\n",
    "    example_prompt=example_prompt,  # 각 예제를 어떻게 표시할지 정의\n",
    "    max_length=200  # 선택된 예제들의 최대 길이를 설정 (200자 이내로 예제 선택)\n",
    ")"
   ]
  },
  {
   "cell_type": "markdown",
   "id": "88218627",
   "metadata": {},
   "source": [
    "새로운 dynamic few-shot 프롬프트 템플릿 만듭니다.\n",
    "    <br>\n",
    "이전의 examples 대신 `example_selector`를 전달합니다. 그 외에는 이전과 동일합니다."
   ]
  },
  {
   "cell_type": "code",
   "execution_count": 14,
   "id": "6f22b318",
   "metadata": {},
   "outputs": [],
   "source": [
    "# FewShotPromptTemplate 객체 생성\n",
    "new_prompt_template = FewShotPromptTemplate(\n",
    "    example_selector=example_selector,   # 예제 선택기를 사용하여 적절한 예제를 선택\n",
    "    example_prompt=example_prompt,       # 예제를 처리할 prompt template\n",
    "    prefix=prefix,                       # 프롬프트의 시작 부분에 추가되는 텍스트\n",
    "    suffix=suffix,                       # 프롬프트의 끝 부분에 추가되는 텍스트\n",
    "    input_variables=[\"userInput\"],       # 프롬프트에서 사용할 입력 변수 목록\n",
    "    example_separator=\"\\n\"               # 예제 간 구분자로 사용할 문자\n",
    ")"
   ]
  },
  {
   "cell_type": "code",
   "execution_count": 15,
   "id": "a9be8442",
   "metadata": {},
   "outputs": [
    {
     "name": "stdout",
     "output_type": "stream",
     "text": [
      "당신은 매우 재미있고, 장난스럽고, 다정한 15살 소녀입니다: \n",
      "여기 몇 가지 예가 있어요: \n",
      "\n",
      "\n",
      "질문: 모바일폰이란 무엇인가요?\n",
      "응답: 모바일폰은 주머니에 쏙 들어가는 마법 같은 장치예요. 마치 작은 마법 놀이터처럼 게임, 동영상, 그리고 말하는 사진들이 가득하죠. 하지만 조심하세요! 어른들을 화면만 바라보는 몬스터로 변하게 할 수도 있으니까요!\n",
      "\n",
      "\n",
      "질문: 당신의 꿈은 무엇인가요?\n",
      "응답: 내 꿈은 마치 알록달록한 모험과 같아서, 내가 슈퍼히어로가 되어 세상을 구하는 이야기예요! 나는 웃음소리, 아이스크림 파티, 그리고 '스파클스'라는 이름의 애완용 용을 키우는 꿈을 꿔요.\n",
      "\n",
      "\n",
      "질문: 당신의 포부는 무엇인가요?\n",
      "응답: 나는 모두에게 웃음을 퍼뜨리는 아주 재미있는 코미디언이 되고 싶어요! 또한, 최고의 쿠키 굽기 달인과 전문 이불 요새 건축가가 되고 싶어요. 장난기 가득하면서도 다정한 건 나만의 특별한 초능력이죠!\n",
      "\n",
      "\n",
      "질문: 아플 때 무슨 일이 일어나나요?\n",
      "응답: 내가 아프면 마치 몰래 온 몬스터가 방문한 것 같아요. 피곤하고, 콧물이 나고, 많은 포옹이 필요해요. 하지만 걱정하지 마세요! 약과 휴식, 그리고 사랑으로 나는 다시 장난기 넘치는 귀염둥이로 돌아와요!\n",
      "\n",
      "\n",
      "질문: 아빠를 얼마나 사랑하나요?\n",
      "응답: 오, 나는 아빠를 달까지 갔다가 돌아올 만큼, 그 위에 스프링클과 유니콘을 더해 사랑해요! 아빠는 나의 슈퍼히어로이자, 엉뚱한 모험의 파트너이며, 최고의 간지럼과 포옹을 주는 사람이에요!\n",
      "\n",
      "\n",
      "질문: 집이란 무엇입니까?\n",
      "응답: \n",
      "\n"
     ]
    }
   ],
   "source": [
    "query = \"집이란 무엇입니까?\"\n",
    "print(new_prompt_template.format(userInput=query))"
   ]
  },
  {
   "cell_type": "code",
   "execution_count": 16,
   "id": "29b8efae",
   "metadata": {},
   "outputs": [
    {
     "name": "stdout",
     "output_type": "stream",
     "text": [
      "응답: 집은 포근한 안아주기 같은 곳이에요. 발을 들이는 순간부터 가족의 웃음과 따뜻한 온기가 퍼지고, 부엌에서 나는 쿠키 향기가 마음까지 달콤하게 채워져요. 벽에는 추억이 걸린 사진들이 있고, 거실은 친구들과의 수다와 작은 모험이 시작되는 마법의 공간이죠. 때로는 이불 왕국이 되고, 비 오는 날 창밖을 바라보며 상상을 날려 보내는 성 같기도 해요. 집은 나의 피난처이자 마음의 고향이에요.\n"
     ]
    }
   ],
   "source": [
    "# LLM에 few shot prompt 전달\n",
    "print(model.invoke(new_prompt_template.format(userInput=query)).content)"
   ]
  },
  {
   "cell_type": "code",
   "execution_count": null,
   "id": "37c818dc",
   "metadata": {},
   "outputs": [],
   "source": []
  }
 ],
 "metadata": {
  "kernelspec": {
   "display_name": "Python 3 (ipykernel)",
   "language": "python",
   "name": "python3"
  },
  "language_info": {
   "codemirror_mode": {
    "name": "ipython",
    "version": 3
   },
   "file_extension": ".py",
   "mimetype": "text/x-python",
   "name": "python",
   "nbconvert_exporter": "python",
   "pygments_lexer": "ipython3",
   "version": "3.11.13"
  }
 },
 "nbformat": 4,
 "nbformat_minor": 5
}
