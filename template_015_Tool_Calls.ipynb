{
 "cells": [
  {
   "cell_type": "markdown",
   "id": "3d5af1ab-9f5b-4faa-94b4-2c6b8b13b7ad",
   "metadata": {},
   "source": [
    "# Chat Model의 도구 호출 \n",
    "\n",
    "- 도구는 에이전트, 체인 또는 대형 언어 모델(LLM)이 세상과 상호 작용할 수 있게 하는 인터페이스입니다.\n",
    "    - Python REPL, Wikipdedia, YouTube, Zapier, Gradio, etc"
   ]
  },
  {
   "cell_type": "code",
   "execution_count": null,
   "id": "280d5bbe",
   "metadata": {},
   "outputs": [],
   "source": [
    "# env 파일에서 API 키를 로드"
   ]
  },
  {
   "cell_type": "code",
   "execution_count": null,
   "id": "c022839f",
   "metadata": {},
   "outputs": [],
   "source": [
    "# model = init_chat_model(\"gemini-2.5-flash\", model_provider=\"google_genai\")"
   ]
  },
  {
   "cell_type": "markdown",
   "id": "5bc892de-579a-423f-aee7-dc7c7def5c93",
   "metadata": {},
   "source": [
    "### 도구 스키마 정의\n",
    "\n",
    "모델이 도구를 호출할 수 있으려면, 그 도구가 무엇을 하는지와 어떤 인자를 받는지 설명하는 **도구 스키마(tool schema)**를 모델에 전달해야 합니다.\n",
    "도구 호출 기능을 지원하는 채팅 모델은 .bind_tools() 메서드를 구현하고 있으며, 이 메서드를 사용해 도구 스키마를 모델에 넘길 수 있습니다.\n",
    "\n",
    "도구 스키마는 다음과 같은 방식으로 정의할 수 있습니다:\n",
    "\n",
    "- 타입 힌트와 독스트링이 포함된 파이썬 함수  \n",
    "- Pydantic 모델   \n",
    "- TypedDict 클래스  \n",
    "- LangChain Tool 객체\n",
    "\n",
    "이후 모델을 호출할 때마다, 해당 도구 스키마들이 프롬프트와 함께 전달됩니다."
   ]
  },
  {
   "cell_type": "markdown",
   "id": "f0683fae-c8a5-4d45-b485-1fecedac6eeb",
   "metadata": {},
   "source": [
    "### Python 함수\n",
    "함수 이름, 타입 힌트, 그리고 독스트링(docstring)은 모델에 전달되는 도구 스키마(tool schema)의 일부입니다.  \n",
    "좋은 설명을 가진 스키마를 정의하는 것은 프롬프트 엔지니어링의 확장이라고 할 수 있으며, 모델의 성능을 잘 끌어내는 데 중요한 부분입니다. \n",
    "\n",
    "**@tool** 데코레이터는 커스텀 도구를 정의하는 가장 간단한 방법입니다.  \n",
    "이 데코레이터는 기본적으로 함수 이름을 도구 이름으로 사용하지만, 첫 번째 인자로 문자열을 전달하면 이를 덮어쓸 수 있습니다. \n",
    "또한 함수의 독스트링(docstring)을 도구의 설명(description) 으로 사용하므로, docstring은 반드시 제공되어야 합니다."
   ]
  },
  {
   "cell_type": "code",
   "execution_count": null,
   "id": "2ca89edc",
   "metadata": {},
   "outputs": [],
   "source": [
    "# 1단계 : 도구 정의\n",
    "def add(a: int, b: int) -> int:\n",
    "def multiply(a: int, b: int) -> int:"
   ]
  },
  {
   "cell_type": "code",
   "execution_count": null,
   "id": "72572046",
   "metadata": {},
   "outputs": [],
   "source": [
    "# 2단계 - 도구 바인딩된 모델 생성"
   ]
  },
  {
   "cell_type": "code",
   "execution_count": null,
   "id": "14a43b7c",
   "metadata": {},
   "outputs": [],
   "source": [
    "# 3단계 - 모델 호출"
   ]
  },
  {
   "cell_type": "code",
   "execution_count": null,
   "id": "fc9d9cc5",
   "metadata": {},
   "outputs": [],
   "source": [
    "# 4단계 - 도구 실행: 바로 위 ai_msg.tool_calls 사용 \n",
    "    # ai_msg.tool_calls의 'id' 값을 그대로 연결\n",
    "# 5단계 - 최종 호출: 직전 AIMessage와 그에 매칭되는 ToolMessage들을 연속으로 전달"
   ]
  },
  {
   "cell_type": "markdown",
   "id": "7a24f5dc-11c7-4d16-8d46-5aef175bd4ca",
   "metadata": {},
   "source": [
    "### LangChin 내장 도구 사용"
   ]
  },
  {
   "cell_type": "code",
   "execution_count": null,
   "id": "2fa4cdb7",
   "metadata": {},
   "outputs": [],
   "source": [
    "# !pip install --upgrade -q youtube_search"
   ]
  },
  {
   "cell_type": "code",
   "execution_count": null,
   "id": "7d53cf83",
   "metadata": {},
   "outputs": [],
   "source": [
    "# 유튜브를 검색하는 함수\n",
    "# YouTubeSearchTool 인스턴스 생성\n",
    "# 아무 키워드로 유튜브 검색 실행 --> 함수가 잘 실행되는 것 확인."
   ]
  },
  {
   "cell_type": "markdown",
   "id": "f4953a29-7cbf-4f3b-9607-cc1c2746b3bf",
   "metadata": {},
   "source": [
    "- YouTubeSearchTool 함수를 LLM 에 넘겨 주고 LLM이 이 함수를 이용하여 세상과 상호 작용 (유튜브 검색)할 수 있도록 함"
   ]
  },
  {
   "cell_type": "code",
   "execution_count": null,
   "id": "31c2f7fe",
   "metadata": {},
   "outputs": [],
   "source": [
    "# 1단계: YouTube 도구를 LLM에 바인딩 \n",
    "# OpenAI API 의 'tools=' parameter에 함수명과 \n",
    "# 함수 호출에 필요한 parameter 정보 전달"
   ]
  },
  {
   "cell_type": "code",
   "execution_count": null,
   "id": "704ee778",
   "metadata": {},
   "outputs": [],
   "source": [
    "# msg에서 LLM이 구성해준 함수호출 parameter 발췌"
   ]
  },
  {
   "cell_type": "code",
   "execution_count": null,
   "id": "5c58cceb",
   "metadata": {},
   "outputs": [],
   "source": [
    "# YouTubeSearchTool 호출에 필요한 parameter"
   ]
  },
  {
   "cell_type": "code",
   "execution_count": null,
   "id": "ab368bc0",
   "metadata": {},
   "outputs": [],
   "source": [
    "# 2단계 - chain 작성 \n",
    "# llm_with_tools에서 추출된 인수로 YouTubeSearchTool을 사용하여 유튜브 검색 실행하는 chain "
   ]
  },
  {
   "cell_type": "code",
   "execution_count": null,
   "id": "6eec2b1e",
   "metadata": {},
   "outputs": [],
   "source": [
    "# chain 실행"
   ]
  },
  {
   "cell_type": "code",
   "execution_count": null,
   "id": "ebd50f9c",
   "metadata": {},
   "outputs": [],
   "source": [
    "# 3.단계: 모든 중간 history와 최종 검색 결과를 다시 LLM에 전달하여 요약 요청\n",
    "# 도구 실행 결과를 ToolMessage로 추가\n",
    "        # 실제 실행 결과 search_results를 그대로 넣음\n",
    "# 추가 사용자 지시: 요약 요청\n",
    "# 최종 응답 생성"
   ]
  },
  {
   "cell_type": "code",
   "execution_count": null,
   "id": "27d075ea",
   "metadata": {},
   "outputs": [],
   "source": []
  }
 ],
 "metadata": {
  "colab": {
   "provenance": []
  },
  "kernelspec": {
   "display_name": "Python 3 (ipykernel)",
   "language": "python",
   "name": "python3"
  },
  "language_info": {
   "codemirror_mode": {
    "name": "ipython",
    "version": 3
   },
   "file_extension": ".py",
   "mimetype": "text/x-python",
   "name": "python",
   "nbconvert_exporter": "python",
   "pygments_lexer": "ipython3",
   "version": "3.11.13"
  }
 },
 "nbformat": 4,
 "nbformat_minor": 5
}
