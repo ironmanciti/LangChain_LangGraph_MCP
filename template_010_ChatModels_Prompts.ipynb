{
 "cells": [
  {
   "cell_type": "markdown",
   "id": "9316da0d",
   "metadata": {
    "editable": true,
    "id": "9316da0d",
    "slideshow": {
     "slide_type": ""
    },
    "tags": []
   },
   "source": [
    "## **챗 모델과 프롬프트 템플릿을 사용해 간단한 LLM 애플리케이션 구축하기**\n",
    "\n",
    "- [**언어 모델(Language Models)**](https://docs.langchain.com/docs/concepts/chat_models) 사용법  \n",
    "- [**프롬프트 템플릿(Prompt Templates)**](https://docs.langchain.com/docs/concepts/prompt_templates) 사용법  "
   ]
  },
  {
   "cell_type": "code",
   "execution_count": null,
   "id": "885587b7",
   "metadata": {},
   "outputs": [],
   "source": []
  },
  {
   "cell_type": "markdown",
   "id": "e5558ca9",
   "metadata": {
    "id": "e5558ca9"
   },
   "source": [
    "## 언어 모델 사용하기\n",
    "\n",
    "LangChain은 다양한 언어 모델을 지원하며, 이들을 서로 교체하여 사용할 수 있습니다."
   ]
  },
  {
   "cell_type": "code",
   "execution_count": null,
   "id": "778b01c6",
   "metadata": {},
   "outputs": [],
   "source": [
    "# model = init_chat_model(\"gemini-2.5-flash\", model_provider=\"google_genai\")"
   ]
  },
  {
   "cell_type": "markdown",
   "id": "ca5642ff",
   "metadata": {
    "id": "ca5642ff"
   },
   "source": [
    "ChatModels은 LangChain Runnables의 인스턴스로, 표준화된 인터페이스를 통해 상호작용할 수 있습니다. 모델을 간단히 호출하려면 `.invoke` 메서드에 Messages 목록을 전달하면 됩니다."
   ]
  },
  {
   "cell_type": "code",
   "execution_count": null,
   "id": "a4b13f9d",
   "metadata": {},
   "outputs": [],
   "source": [
    "# 메시지 목록을 생성\n",
    "    # 시스템 메시지: 모델에게 수행할 작업이나 역할을 지시합니다.\n",
    "    # 사용자 메시지: 사용자가 모델에 보낼 실제 입력 내용입니다."
   ]
  },
  {
   "cell_type": "code",
   "execution_count": null,
   "id": "72e50722",
   "metadata": {},
   "outputs": [],
   "source": []
  },
  {
   "cell_type": "markdown",
   "id": "f83373db",
   "metadata": {
    "id": "f83373db"
   },
   "source": [
    "- ChatModel은 입력으로 [메시지](/docs/concepts/messages/) 객체를 받고 출력으로 메시지 객체를 생성합니다. 메시지 객체는 텍스트 내용 외에도 대화의 [역할](/docs/concepts/messages/#role)을 전달하며, [도구 호출](/docs/concepts/tool_calling/) 및 토큰 사용량과 같은 중요한 데이터를 포함합니다.  \n",
    "\n",
    "- LangChain은 문자열이나 [OpenAI 형식](/docs/concepts/messages/#openai-format)을 통해 채팅 모델 입력을 지원합니다. 다음 예제는 모두 동일한 기능을 수행합니다:\n",
    "\n",
    "```python\n",
    "model.invoke(\"Hello\")\n",
    "\n",
    "model.invoke([{\"role\": \"user\", \"content\": \"Hello\"}])\n",
    "\n",
    "model.invoke([HumanMessage(\"Hello\")])\n",
    "```"
   ]
  },
  {
   "cell_type": "code",
   "execution_count": null,
   "id": "045b8c4e",
   "metadata": {},
   "outputs": [],
   "source": [
    "# 내부적으로 HumanMessage(\"Hello\") 로 감쌈\n",
    "# OpenAI 형식\n",
    "# langChain 형식"
   ]
  },
  {
   "cell_type": "code",
   "execution_count": null,
   "id": "86022703",
   "metadata": {},
   "outputs": [],
   "source": [
    "# 메시지 목록을 생성\n",
    "# `model.batch()`을 사용하여 여러 개의 메시지를 한 번에 처리\n",
    "# LangChain은 각 입력을 독립된 invoke() 호출처럼 처리"
   ]
  },
  {
   "cell_type": "code",
   "execution_count": null,
   "id": "1ea2f293",
   "metadata": {},
   "outputs": [],
   "source": [
    "# 결과 출력"
   ]
  },
  {
   "cell_type": "markdown",
   "id": "1ab8da31",
   "metadata": {
    "id": "1ab8da31"
   },
   "source": [
    "## 프롬프트 템플릿 (Prompt Templates)\n",
    "\n",
    "우리는 메시지 목록을 언어 모델에 직접 전달합니다.  일반적으로 이 목록은 사용자 입력과 애플리케이션 로직의 조합으로 구성됩니다. 애플리케이션 로직은 사용자 입력(raw user input)을 받아 언어 모델에 전달할 메시지 목록으로 변환합니다. 일반적인 변환 과정에는 시스템 메시지를 추가하거나 사용자 입력을 템플릿에 맞게 포맷하는 작업이 포함됩니다.  \n",
    "\n",
    "[프롬프트 템플릿](/docs/concepts/prompt_templates/)은 LangChain에서 이러한 변환을 돕기 위해 설계된 개념입니다. 프롬프트 템플릿은 사용자 입력(raw user input)을 받아 언어 모델에 전달할 준비가 된 데이터(프롬프트)로 반환합니다.\n",
    "\n",
    "프롬프트 템플릿은 두 개의 사용자 변수를 입력으로 받습니다:\n",
    "\n",
    "- **`language`**: 번역할 대상 언어  \n",
    "- **`text`**: 번역할 텍스트  "
   ]
  },
  {
   "cell_type": "code",
   "execution_count": null,
   "id": "531deb97",
   "metadata": {},
   "outputs": [],
   "source": [
    "# 튜플 방식 "
   ]
  },
  {
   "cell_type": "code",
   "execution_count": null,
   "id": "655378d7",
   "metadata": {},
   "outputs": [],
   "source": [
    "# 메시지 객체 방식"
   ]
  },
  {
   "cell_type": "markdown",
   "id": "7e876c2a",
   "metadata": {
    "id": "7e876c2a"
   },
   "source": [
    "----------\n",
    "`ChatPromptTemplate`은 하나의 템플릿에서 여러 메시지 역할을 지원합니다. `language` 매개변수는 시스템 메시지에 포맷되며, 사용자의 `text`는 사용자 메시지에 포맷됩니다.  \n",
    "이 프롬프트 템플릿의 입력은 dictionary 입니다."
   ]
  },
  {
   "cell_type": "code",
   "execution_count": null,
   "id": "dfd36c4b",
   "metadata": {},
   "outputs": [],
   "source": []
  },
  {
   "cell_type": "markdown",
   "id": "1a49ba9e",
   "metadata": {
    "id": "1a49ba9e"
   },
   "source": [
    "두 개의 메시지로 구성된 `ChatPromptValue`를 반환하는 것을 볼 수 있습니다. 메시지에 직접 액세스하려면 다음을 수행합니다."
   ]
  },
  {
   "cell_type": "code",
   "execution_count": null,
   "id": "078a8f45",
   "metadata": {},
   "outputs": [],
   "source": []
  },
  {
   "cell_type": "markdown",
   "id": "47e70ee6-f0e0-4ae0-a290-002799ebf828",
   "metadata": {
    "id": "47e70ee6-f0e0-4ae0-a290-002799ebf828"
   },
   "source": [
    "마지막으로, 포맷된 프롬프트에서 채팅 모델을 호출할 수 있습니다."
   ]
  },
  {
   "cell_type": "code",
   "execution_count": null,
   "id": "e1fc1ec0",
   "metadata": {},
   "outputs": [],
   "source": []
  },
  {
   "cell_type": "markdown",
   "id": "e90f4790-de3a-4ec3-b54d-e5de7252db9e",
   "metadata": {},
   "source": [
    "\n",
    "프롬프트 템플릿은 사용자 입력과 매개변수를 언어 모델에 대한 지침으로 변환하는 데 도움을 줍니다. 이를 통해 모델이 컨텍스트를 이해하고 관련성 있고 일관된 언어 기반 출력을 생성하도록 유도할 수 있습니다.  \n",
    "\n",
    "프롬프트 템플릿은 **딕셔너리** 형태의 입력을 받습니다. 여기서 각 키(key)는 프롬프트 템플릿에서 채워야 할 변수를 나타냅니다.  \n",
    "\n",
    "프롬프트 템플릿은 **PromptValue**를 출력합니다. 이 **PromptValue**는 LLM 또는 ChatModel에 전달될 수 있으며, 문자열(string) 또는 메시지 목록(list of messages)으로 변환(cast)될 수도 있습니다. **PromptValue**가 존재하는 이유는 문자열과 메시지 형식 간 전환을 쉽게 하기 위함입니다.  \n",
    "\n",
    "### 프롬프트 템플릿의 유형  \n",
    "\n",
    "1. **String PromptTemplates (문자열 프롬프트 템플릿)**  \n",
    "   - 이 프롬프트 템플릿은 단일 문자열을 포맷하는 데 사용되며, 일반적으로 더 간단한 입력에 사용됩니다.  \n",
    "   - 예를 들어, 프롬프트 템플릿을 구성하고 사용하는 일반적인 방법은 다음과 같습니다:  "
   ]
  },
  {
   "cell_type": "code",
   "execution_count": null,
   "id": "3fed89cf",
   "metadata": {},
   "outputs": [],
   "source": [
    "# chain 작성 & invoke"
   ]
  },
  {
   "cell_type": "markdown",
   "id": "de2cdc59-349b-45c9-8c3a-47440cbf64a8",
   "metadata": {},
   "source": [
    "2. **채팅 프롬프트 템플릿(ChatPromptTemplates)**\n",
    "    - 이 프롬프트 템플릿은 **메시지 목록을 포맷**하는 데 사용됩니다. 이러한 \"템플릿\"은 자체적으로 여러 개의 템플릿 목록으로 구성됩니다.  \n",
    "    - 예를 들어, **ChatPromptTemplate**를 구성하고 사용하는 일반적인 방법은 다음과 같습니다:"
   ]
  },
  {
   "cell_type": "code",
   "execution_count": null,
   "id": "c1d4de12",
   "metadata": {},
   "outputs": [],
   "source": []
  },
  {
   "cell_type": "code",
   "execution_count": null,
   "id": "a362344a",
   "metadata": {},
   "outputs": [],
   "source": []
  },
  {
   "cell_type": "markdown",
   "id": "543747c0-233e-46f7-b776-bfc7821a0602",
   "metadata": {},
   "source": [
    "-----------------------"
   ]
  },
  {
   "cell_type": "markdown",
   "id": "a314d657-cac3-41b4-a629-9af476260f4e",
   "metadata": {},
   "source": [
    "위의 예에서 ChatPromptTemplate은 호출 시 두 개의 메시지를 구성합니다. 첫 번째는 시스템 메시지로, 포맷할 변수가 없습니다. 두 번째는 HumanMessage로, 사용자가 전달하는 topic 변수로 포맷됩니다."
   ]
  },
  {
   "cell_type": "markdown",
   "id": "3d5af1ab-9f5b-4faa-94b4-2c6b8b13b7ad",
   "metadata": {},
   "source": [
    "## 메시지 플레이스홀더(MessagesPlaceholder)  \n",
    "\n",
    "이 프롬프트 템플릿은 특정 위치에 **메시지 목록을 추가**하는 역할을 합니다.  \n",
    "\n",
    "위의 **ChatPromptTemplate** 예제에서 두 개의 메시지를 문자열로 각각 포맷하는 방법을 확인했습니다. 하지만 특정 위치에 사용자로부터 받은 **메시지 목록**을 삽입하고 싶다면 어떻게 해야 할까요?  \n",
    "\n",
    "이럴 때 **MessagesPlaceholder**를 사용합니다."
   ]
  },
  {
   "cell_type": "code",
   "execution_count": null,
   "id": "a926198e",
   "metadata": {},
   "outputs": [],
   "source": []
  },
  {
   "cell_type": "code",
   "execution_count": null,
   "id": "1dce3a99",
   "metadata": {},
   "outputs": [],
   "source": []
  },
  {
   "cell_type": "markdown",
   "id": "7fb96ca5-086f-442c-9c8d-c2a4a30e276c",
   "metadata": {},
   "source": [
    "---------------------------\n",
    "이렇게 하면 두 개의 메시지 목록이 생성됩니다. 첫 번째는 **시스템 메시지**이고, 두 번째는 우리가 전달한 **HumanMessage**입니다. 만약 5개의 메시지를 전달했다면, 총 6개의 메시지가 생성됩니다 (시스템 메시지 1개 + 전달된 5개 메시지).  \n",
    "\n",
    "이 방법은 특정 위치에 **메시지 목록을 삽입**할 때 유용합니다.  "
   ]
  },
  {
   "cell_type": "code",
   "execution_count": null,
   "id": "fff2d4a4",
   "metadata": {},
   "outputs": [],
   "source": []
  }
 ],
 "metadata": {
  "colab": {
   "provenance": []
  },
  "kernelspec": {
   "display_name": "Python 3 (ipykernel)",
   "language": "python",
   "name": "python3"
  },
  "language_info": {
   "codemirror_mode": {
    "name": "ipython",
    "version": 3
   },
   "file_extension": ".py",
   "mimetype": "text/x-python",
   "name": "python",
   "nbconvert_exporter": "python",
   "pygments_lexer": "ipython3",
   "version": "3.11.13"
  }
 },
 "nbformat": 4,
 "nbformat_minor": 5
}
